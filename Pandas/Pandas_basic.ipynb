{
 "cells": [
  {
   "cell_type": "markdown",
   "metadata": {},
   "source": [
    "Задание 1\n",
    "Скачайте с сайта https://grouplens.org/datasets/movielens/ датасет любого размера. Определите какому фильму было выставлено больше всего оценок 5.0.\n"
   ]
  },
  {
   "cell_type": "code",
   "execution_count": 88,
   "metadata": {},
   "outputs": [
    {
     "data": {
      "text/plain": [
       "Shawshank Redemption, The (1994)    153\n",
       "Name: title, dtype: int64"
      ]
     },
     "execution_count": 88,
     "metadata": {},
     "output_type": "execute_result"
    }
   ],
   "source": [
    "import pandas as pd\n",
    "\n",
    "ratings = pd.read_csv('ratings.csv')\n",
    "movies = pd.read_csv('movies.csv')\n",
    "joined = ratings.merge(movies, 'left', on='movieId')\n",
    "thebest = joined[joined['rating'].isin(['5.0'])].title.value_counts()\n",
    "thebest.head(1)"
   ]
  },
  {
   "cell_type": "markdown",
   "metadata": {},
   "source": [
    "Задание 2\n",
    "По данным файла power.csv посчитайте суммарное потребление стран Прибалтики (Латвия, Литва и Эстония) категорий 4, 12 и 21 за период с 2005 по 2010 года. Не учитывайте в расчетах отрицательные значения quantity."
   ]
  },
  {
   "cell_type": "code",
   "execution_count": 123,
   "metadata": {},
   "outputs": [
    {
     "data": {
      "text/plain": [
       "240580.0"
      ]
     },
     "execution_count": 123,
     "metadata": {},
     "output_type": "execute_result"
    }
   ],
   "source": [
    "data = pd.read_csv('power.csv')\n",
    "data_country = data[data['country'].isin(['Latvia', 'Lithuania', 'Estonia'])]\n",
    "data_category = data_country[data_country['category'].isin([4, 12, 21])]\n",
    "data_qpositive = data_category[data_category.quantity >= 0]\n",
    "data_year = data_qpositive[data_qpositive['year'].isin([2005,  2006, 2007, 2008, 2009, 2010])]\n",
    "data_year.quantity.sum()\n"
   ]
  },
  {
   "cell_type": "code",
   "execution_count": null,
   "metadata": {},
   "outputs": [],
   "source": []
  },
  {
   "cell_type": "markdown",
   "metadata": {},
   "source": [
    "Задание 3\n",
    "Выберите страницу любого сайта с табличными данными. Импортируйте таблицы в pandas dataframe."
   ]
  },
  {
   "cell_type": "code",
   "execution_count": 53,
   "metadata": {},
   "outputs": [
    {
     "data": {
      "text/html": [
       "<div>\n",
       "<style scoped>\n",
       "    .dataframe tbody tr th:only-of-type {\n",
       "        vertical-align: middle;\n",
       "    }\n",
       "\n",
       "    .dataframe tbody tr th {\n",
       "        vertical-align: top;\n",
       "    }\n",
       "\n",
       "    .dataframe thead th {\n",
       "        text-align: right;\n",
       "    }\n",
       "</style>\n",
       "<table border=\"1\" class=\"dataframe\">\n",
       "  <thead>\n",
       "    <tr style=\"text-align: right;\">\n",
       "      <th></th>\n",
       "      <th>№</th>\n",
       "      <th>Полное название организации</th>\n",
       "      <th>ИНН</th>\n",
       "      <th>Отрасль</th>\n",
       "    </tr>\n",
       "  </thead>\n",
       "  <tbody>\n",
       "    <tr>\n",
       "      <th>0</th>\n",
       "      <td>1</td>\n",
       "      <td>АО \"Алтайвагон\"</td>\n",
       "      <td>2208000010</td>\n",
       "      <td>Железнодорожное машиностроение</td>\n",
       "    </tr>\n",
       "    <tr>\n",
       "      <th>1</th>\n",
       "      <td>2</td>\n",
       "      <td>ФКП \"Бийский олеумный завод\"</td>\n",
       "      <td>2204001528</td>\n",
       "      <td>Промышленность боеприпасов и спецхимии</td>\n",
       "    </tr>\n",
       "    <tr>\n",
       "      <th>2</th>\n",
       "      <td>3</td>\n",
       "      <td>ЗАО «Рубцовский завод запасных частей»</td>\n",
       "      <td>2209024455</td>\n",
       "      <td>Сельскохозяйственное машиностроение</td>\n",
       "    </tr>\n",
       "  </tbody>\n",
       "</table>\n",
       "</div>"
      ],
      "text/plain": [
       "   №             Полное название организации         ИНН  \\\n",
       "0  1                         АО \"Алтайвагон\"  2208000010   \n",
       "1  2            ФКП \"Бийский олеумный завод\"  2204001528   \n",
       "2  3  ЗАО «Рубцовский завод запасных частей»  2209024455   \n",
       "\n",
       "                                  Отрасль  \n",
       "0          Железнодорожное машиностроение  \n",
       "1  Промышленность боеприпасов и спецхимии  \n",
       "2     Сельскохозяйственное машиностроение  "
      ]
     },
     "execution_count": 53,
     "metadata": {},
     "output_type": "execute_result"
    }
   ],
   "source": [
    "pd.read_html('https://data.economy.gov.ru/analytics/facilities/foiv/16')[0].head(3)"
   ]
  },
  {
   "cell_type": "code",
   "execution_count": 55,
   "metadata": {},
   "outputs": [
    {
     "data": {
      "text/html": [
       "<div>\n",
       "<style scoped>\n",
       "    .dataframe tbody tr th:only-of-type {\n",
       "        vertical-align: middle;\n",
       "    }\n",
       "\n",
       "    .dataframe tbody tr th {\n",
       "        vertical-align: top;\n",
       "    }\n",
       "\n",
       "    .dataframe thead th {\n",
       "        text-align: right;\n",
       "    }\n",
       "</style>\n",
       "<table border=\"1\" class=\"dataframe\">\n",
       "  <thead>\n",
       "    <tr style=\"text-align: right;\">\n",
       "      <th></th>\n",
       "      <th>компания</th>\n",
       "      <th>дата</th>\n",
       "      <th>Unnamed: 2</th>\n",
       "    </tr>\n",
       "  </thead>\n",
       "  <tbody>\n",
       "    <tr>\n",
       "      <th>0</th>\n",
       "      <td>ПАО «Россети Юг»</td>\n",
       "      <td>27.05.20</td>\n",
       "      <td>NaN</td>\n",
       "    </tr>\n",
       "    <tr>\n",
       "      <th>1</th>\n",
       "      <td>ПАО \"НОВАТЭК\"</td>\n",
       "      <td>27.05.20</td>\n",
       "      <td>NaN</td>\n",
       "    </tr>\n",
       "    <tr>\n",
       "      <th>2</th>\n",
       "      <td>ПАО \"ГТЛК\"</td>\n",
       "      <td>27.05.20</td>\n",
       "      <td>NaN</td>\n",
       "    </tr>\n",
       "  </tbody>\n",
       "</table>\n",
       "</div>"
      ],
      "text/plain": [
       "           компания      дата  Unnamed: 2\n",
       "0  ПАО «Россети Юг»  27.05.20         NaN\n",
       "1     ПАО \"НОВАТЭК\"  27.05.20         NaN\n",
       "2        ПАО \"ГТЛК\"  27.05.20         NaN"
      ]
     },
     "execution_count": 55,
     "metadata": {},
     "output_type": "execute_result"
    }
   ],
   "source": [
    "pd.read_html('http://e-disclosure.ru', attrs = {'class': 'list_wrap noBorderTbl'}, encoding='utf-8')[0].head(3)"
   ]
  },
  {
   "cell_type": "code",
   "execution_count": 57,
   "metadata": {},
   "outputs": [
    {
     "data": {
      "text/html": [
       "<div>\n",
       "<style scoped>\n",
       "    .dataframe tbody tr th:only-of-type {\n",
       "        vertical-align: middle;\n",
       "    }\n",
       "\n",
       "    .dataframe tbody tr th {\n",
       "        vertical-align: top;\n",
       "    }\n",
       "\n",
       "    .dataframe thead th {\n",
       "        text-align: right;\n",
       "    }\n",
       "</style>\n",
       "<table border=\"1\" class=\"dataframe\">\n",
       "  <thead>\n",
       "    <tr style=\"text-align: right;\">\n",
       "      <th></th>\n",
       "      <th>Unnamed: 0</th>\n",
       "      <th>Название фонда</th>\n",
       "    </tr>\n",
       "  </thead>\n",
       "  <tbody>\n",
       "    <tr>\n",
       "      <th>0</th>\n",
       "      <td>NaN</td>\n",
       "      <td>XXII век</td>\n",
       "    </tr>\n",
       "    <tr>\n",
       "      <th>1</th>\n",
       "      <td>NaN</td>\n",
       "      <td>АК БАРС - Акции</td>\n",
       "    </tr>\n",
       "    <tr>\n",
       "      <th>2</th>\n",
       "      <td>NaN</td>\n",
       "      <td>АК БАРС - Горизонт</td>\n",
       "    </tr>\n",
       "  </tbody>\n",
       "</table>\n",
       "</div>"
      ],
      "text/plain": [
       "   Unnamed: 0      Название фонда\n",
       "0         NaN            XXII век\n",
       "1         NaN     АК БАРС - Акции\n",
       "2         NaN  АК БАРС - Горизонт"
      ]
     },
     "execution_count": 57,
     "metadata": {},
     "output_type": "execute_result"
    }
   ],
   "source": [
    "tables = pd.read_html('https://investfunds.ru/funds/')\n",
    "tables[0].head(3)"
   ]
  },
  {
   "cell_type": "code",
   "execution_count": 58,
   "metadata": {},
   "outputs": [
    {
     "data": {
      "text/html": [
       "<div>\n",
       "<style scoped>\n",
       "    .dataframe tbody tr th:only-of-type {\n",
       "        vertical-align: middle;\n",
       "    }\n",
       "\n",
       "    .dataframe tbody tr th {\n",
       "        vertical-align: top;\n",
       "    }\n",
       "\n",
       "    .dataframe thead tr th {\n",
       "        text-align: left;\n",
       "    }\n",
       "</style>\n",
       "<table border=\"1\" class=\"dataframe\">\n",
       "  <thead>\n",
       "    <tr>\n",
       "      <th></th>\n",
       "      <th>Unnamed: 0_level_0</th>\n",
       "      <th>Названиефонда</th>\n",
       "      <th colspan=\"2\" halign=\"left\">Управляющая компания</th>\n",
       "      <th>Тип</th>\n",
       "      <th>Дата расчета</th>\n",
       "      <th>СЧА, млн RUB</th>\n",
       "      <th>Доходностьза 1 год</th>\n",
       "      <th>Привлеченные средстваза 1 год, млн RUB</th>\n",
       "      <th>Минимальныйвзнос, RUB</th>\n",
       "      <th>...</th>\n",
       "      <th>Привлеченныесредства за 5 лет, млн RUB</th>\n",
       "      <th>Дата коэффициентов</th>\n",
       "      <th>Шарпа</th>\n",
       "      <th>Сортино</th>\n",
       "      <th>Волатильность</th>\n",
       "      <th>Альфа</th>\n",
       "      <th>Бета</th>\n",
       "      <th>R2</th>\n",
       "      <th>VaR</th>\n",
       "      <th>Unnamed: 40_level_0</th>\n",
       "    </tr>\n",
       "    <tr>\n",
       "      <th></th>\n",
       "      <th>Unnamed: 0_level_1</th>\n",
       "      <th>Названиефонда</th>\n",
       "      <th>Управляющая компания</th>\n",
       "      <th>Управляющая компания.1</th>\n",
       "      <th>Тип</th>\n",
       "      <th>Дата расчета</th>\n",
       "      <th>СЧА, млн RUB</th>\n",
       "      <th>Доходностьза 1 год</th>\n",
       "      <th>Привлеченные средстваза 1 год, млн RUB</th>\n",
       "      <th>Минимальныйвзнос, RUB</th>\n",
       "      <th>...</th>\n",
       "      <th>Привлеченныесредства за 5 лет, млн RUB</th>\n",
       "      <th>Дата коэффициентов</th>\n",
       "      <th>Шарпа</th>\n",
       "      <th>Сортино</th>\n",
       "      <th>Волатильность</th>\n",
       "      <th>Альфа</th>\n",
       "      <th>Бета</th>\n",
       "      <th>R2</th>\n",
       "      <th>VaR</th>\n",
       "      <th>Unnamed: 40_level_1</th>\n",
       "    </tr>\n",
       "  </thead>\n",
       "  <tbody>\n",
       "    <tr>\n",
       "      <th>0</th>\n",
       "      <td>NaN</td>\n",
       "      <td>XXII век</td>\n",
       "      <td>Брокеркредитсервис</td>\n",
       "      <td>NaN</td>\n",
       "      <td>открытый</td>\n",
       "      <td>26.05.2020</td>\n",
       "      <td>18.11.2003</td>\n",
       "      <td>сформирован</td>\n",
       "      <td>рыночных финансовых инструментов</td>\n",
       "      <td>акции</td>\n",
       "      <td>...</td>\n",
       "      <td>127.05</td>\n",
       "      <td>35.95%</td>\n",
       "      <td>6.27</td>\n",
       "      <td>50 000</td>\n",
       "      <td>—  (Рос. активы &lt; 75%)</td>\n",
       "      <td>18.11.2003</td>\n",
       "      <td>1 035</td>\n",
       "      <td>Русецкий Андрей Александрович</td>\n",
       "      <td>3.90% от СЧА</td>\n",
       "      <td>5.20% от СЧА</td>\n",
       "    </tr>\n",
       "    <tr>\n",
       "      <th>1</th>\n",
       "      <td>NaN</td>\n",
       "      <td>АК БАРС - Акции</td>\n",
       "      <td>АК БАРС КАПИТАЛ</td>\n",
       "      <td>NaN</td>\n",
       "      <td>открытый</td>\n",
       "      <td>25.05.2020</td>\n",
       "      <td>26.12.2003</td>\n",
       "      <td>сформирован</td>\n",
       "      <td>рыночных финансовых инструментов</td>\n",
       "      <td>акции</td>\n",
       "      <td>...</td>\n",
       "      <td>3.34</td>\n",
       "      <td>15.50%</td>\n",
       "      <td>0.06</td>\n",
       "      <td>3 000</td>\n",
       "      <td>—  (СЧА &lt; 10 млн RUB)</td>\n",
       "      <td>26.12.2003</td>\n",
       "      <td>66</td>\n",
       "      <td>Кокорев Олег Вячеславович</td>\n",
       "      <td>1.50% от СЧА</td>\n",
       "      <td>2.30% от СЧА</td>\n",
       "    </tr>\n",
       "    <tr>\n",
       "      <th>2</th>\n",
       "      <td>NaN</td>\n",
       "      <td>АК БАРС - Горизонт</td>\n",
       "      <td>АК БАРС КАПИТАЛ</td>\n",
       "      <td>NaN</td>\n",
       "      <td>закрытый</td>\n",
       "      <td>30.04.2020</td>\n",
       "      <td>08.10.2009</td>\n",
       "      <td>сформирован</td>\n",
       "      <td>не определена</td>\n",
       "      <td>рентный</td>\n",
       "      <td>...</td>\n",
       "      <td>28 566.51</td>\n",
       "      <td>-5.11%</td>\n",
       "      <td>&lt; 0.01</td>\n",
       "      <td>10 000 000</td>\n",
       "      <td>Без рейтинга*</td>\n",
       "      <td>08.10.2009</td>\n",
       "      <td>6</td>\n",
       "      <td>NaN</td>\n",
       "      <td>0.15% от СЧА</td>\n",
       "      <td>20.25% от СЧА</td>\n",
       "    </tr>\n",
       "  </tbody>\n",
       "</table>\n",
       "<p>3 rows × 41 columns</p>\n",
       "</div>"
      ],
      "text/plain": [
       "  Unnamed: 0_level_0       Названиефонда Управляющая компания  \\\n",
       "  Unnamed: 0_level_1       Названиефонда Управляющая компания   \n",
       "0                NaN            XXII век   Брокеркредитсервис   \n",
       "1                NaN     АК БАРС - Акции      АК БАРС КАПИТАЛ   \n",
       "2                NaN  АК БАРС - Горизонт      АК БАРС КАПИТАЛ   \n",
       "\n",
       "                               Тип Дата расчета СЧА, млн RUB  \\\n",
       "  Управляющая компания.1       Тип Дата расчета СЧА, млн RUB   \n",
       "0                    NaN  открытый   26.05.2020   18.11.2003   \n",
       "1                    NaN  открытый   25.05.2020   26.12.2003   \n",
       "2                    NaN  закрытый   30.04.2020   08.10.2009   \n",
       "\n",
       "  Доходностьза 1 год Привлеченные средстваза 1 год, млн RUB  \\\n",
       "  Доходностьза 1 год Привлеченные средстваза 1 год, млн RUB   \n",
       "0        сформирован       рыночных финансовых инструментов   \n",
       "1        сформирован       рыночных финансовых инструментов   \n",
       "2        сформирован                          не определена   \n",
       "\n",
       "  Минимальныйвзнос, RUB  ... Привлеченныесредства за 5 лет, млн RUB  \\\n",
       "  Минимальныйвзнос, RUB  ... Привлеченныесредства за 5 лет, млн RUB   \n",
       "0                 акции  ...                                 127.05   \n",
       "1                 акции  ...                                   3.34   \n",
       "2               рентный  ...                              28 566.51   \n",
       "\n",
       "  Дата коэффициентов   Шарпа     Сортино           Волатильность       Альфа  \\\n",
       "  Дата коэффициентов   Шарпа     Сортино           Волатильность       Альфа   \n",
       "0             35.95%    6.27      50 000  —  (Рос. активы < 75%)  18.11.2003   \n",
       "1             15.50%    0.06       3 000   —  (СЧА < 10 млн RUB)  26.12.2003   \n",
       "2             -5.11%  < 0.01  10 000 000           Без рейтинга*  08.10.2009   \n",
       "\n",
       "    Бета                             R2           VaR Unnamed: 40_level_0  \n",
       "    Бета                             R2           VaR Unnamed: 40_level_1  \n",
       "0  1 035  Русецкий Андрей Александрович  3.90% от СЧА        5.20% от СЧА  \n",
       "1     66      Кокорев Олег Вячеславович  1.50% от СЧА        2.30% от СЧА  \n",
       "2      6                            NaN  0.15% от СЧА       20.25% от СЧА  \n",
       "\n",
       "[3 rows x 41 columns]"
      ]
     },
     "execution_count": 58,
     "metadata": {},
     "output_type": "execute_result"
    }
   ],
   "source": [
    "tables[1].head(3)"
   ]
  },
  {
   "cell_type": "markdown",
   "metadata": {},
   "source": []
  },
  {
   "cell_type": "code",
   "execution_count": null,
   "metadata": {},
   "outputs": [],
   "source": []
  }
 ],
 "metadata": {
  "kernelspec": {
   "display_name": "Python 3",
   "language": "python",
   "name": "python3"
  },
  "language_info": {
   "codemirror_mode": {
    "name": "ipython",
    "version": 3
   },
   "file_extension": ".py",
   "mimetype": "text/x-python",
   "name": "python",
   "nbconvert_exporter": "python",
   "pygments_lexer": "ipython3",
   "version": "3.7.6"
  }
 },
 "nbformat": 4,
 "nbformat_minor": 4
}
