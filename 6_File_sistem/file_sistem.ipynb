{
 "cells": [
  {
   "cell_type": "markdown",
   "metadata": {},
   "source": [
    "\n",
    "\n",
    "    Переведите содержимое файла purchase_log.txt в словарь purchases вида:\n",
    "\n",
    "    {'1840e0b9d4': 'Продукты', ...}\n",
    "\n",
    "    Для каждого user_id в файле visit_log.csv определите третий столбец с категорией покупки (если покупка была, сам файл visit_log.csv изменять не надо). Запишите в файл funnel.csv визиты из файла visit_log.csv, в которых были покупки с указанием категории.\n",
    "\n",
    "Учтите условия на данные:\n",
    "\n",
    "- содержимое purchase_log.txt помещается в оперативную память компьютера\n",
    "- содержимое visit_log.csv - нет; используйте только построчную обработку этого файла"
   ]
  },
  {
   "cell_type": "code",
   "execution_count": null,
   "metadata": {},
   "outputs": [],
   "source": [
    "from pprint import pprint\n",
    "import json\n",
    "\n",
    "f = open('purchase_log.txt', encoding = 'utf-8')\n",
    "content = f.readlines()\n",
    "\n",
    "purchase = {}\n",
    "\n",
    "for line in content:\n",
    "    purchase[json.loads(line.strip())['user_id']] = json.loads(line.strip())['category']\n",
    "\n",
    "pprint(purchase)\n",
    "\n",
    "f.close() "
   ]
  },
  {
   "cell_type": "code",
   "execution_count": null,
   "metadata": {},
   "outputs": [],
   "source": [
    "import json\n",
    "f = open('purchase_log.txt', encoding = 'utf-8')\n",
    "purchases = f.readlines()\n",
    "\n",
    "with open('visit_log.csv', 'r') as f:\n",
    "    with open('funnel.csv', 'w') as fwrite:\n",
    "        for line_log in f:\n",
    "            for line_buy in purchases:\n",
    "           \n",
    "    #             print(list(f.readline().strip().split(','))[0])\n",
    "            \n",
    "                if list(line_log.strip().split(','))[0] == json.loads(line_buy.strip())['user_id']:\n",
    "                    nline = line_log.strip() + ',' + json.loads(line_buy.strip())['category']\n",
    "#                     print(nline)\n",
    "                    fwrite.write(nline + '\\n')\n",
    "       \n",
    "f.close()"
   ]
  }
 ],
 "metadata": {
  "kernelspec": {
   "display_name": "Python 3",
   "language": "python",
   "name": "python3"
  },
  "language_info": {
   "codemirror_mode": {
    "name": "ipython",
    "version": 3
   },
   "file_extension": ".py",
   "mimetype": "text/x-python",
   "name": "python",
   "nbconvert_exporter": "python",
   "pygments_lexer": "ipython3",
   "version": "3.7.6"
  }
 },
 "nbformat": 4,
 "nbformat_minor": 4
}
