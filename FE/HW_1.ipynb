{
 "cells": [
  {
   "cell_type": "code",
   "execution_count": 2,
   "metadata": {},
   "outputs": [],
   "source": [
    "import numpy as np\n",
    "import pandas as pd\n",
    "import random \n",
    "from sklearn.linear_model import LinearRegression"
   ]
  },
  {
   "cell_type": "markdown",
   "metadata": {},
   "source": [
    "Предположим, что имеется датасет с данными о школах, и мы хотим рассчитать рейтинг каждого учебного заведения, используя информацию о результатах ЕГЭ"
   ]
  },
  {
   "cell_type": "code",
   "execution_count": 270,
   "metadata": {},
   "outputs": [
    {
     "data": {
      "text/html": [
       "<div>\n",
       "<style scoped>\n",
       "    .dataframe tbody tr th:only-of-type {\n",
       "        vertical-align: middle;\n",
       "    }\n",
       "\n",
       "    .dataframe tbody tr th {\n",
       "        vertical-align: top;\n",
       "    }\n",
       "\n",
       "    .dataframe thead th {\n",
       "        text-align: right;\n",
       "    }\n",
       "</style>\n",
       "<table border=\"1\" class=\"dataframe\">\n",
       "  <thead>\n",
       "    <tr style=\"text-align: right;\">\n",
       "      <th></th>\n",
       "      <th>total_stud</th>\n",
       "      <th>highest_mark_stud</th>\n",
       "      <th>ege_of_teacher</th>\n",
       "      <th>renov_year</th>\n",
       "      <th>range_school</th>\n",
       "    </tr>\n",
       "  </thead>\n",
       "  <tbody>\n",
       "    <tr>\n",
       "      <th>0</th>\n",
       "      <td>184</td>\n",
       "      <td>29</td>\n",
       "      <td>50</td>\n",
       "      <td>1991</td>\n",
       "      <td>15.760870</td>\n",
       "    </tr>\n",
       "    <tr>\n",
       "      <th>1</th>\n",
       "      <td>199</td>\n",
       "      <td>33</td>\n",
       "      <td>53</td>\n",
       "      <td>2006</td>\n",
       "      <td>16.582915</td>\n",
       "    </tr>\n",
       "    <tr>\n",
       "      <th>2</th>\n",
       "      <td>184</td>\n",
       "      <td>5</td>\n",
       "      <td>60</td>\n",
       "      <td>1990</td>\n",
       "      <td>2.717391</td>\n",
       "    </tr>\n",
       "    <tr>\n",
       "      <th>3</th>\n",
       "      <td>177</td>\n",
       "      <td>3</td>\n",
       "      <td>61</td>\n",
       "      <td>2004</td>\n",
       "      <td>1.694915</td>\n",
       "    </tr>\n",
       "    <tr>\n",
       "      <th>4</th>\n",
       "      <td>169</td>\n",
       "      <td>53</td>\n",
       "      <td>33</td>\n",
       "      <td>1998</td>\n",
       "      <td>31.360947</td>\n",
       "    </tr>\n",
       "  </tbody>\n",
       "</table>\n",
       "</div>"
      ],
      "text/plain": [
       "   total_stud  highest_mark_stud  ege_of_teacher  renov_year  range_school\n",
       "0         184                 29              50        1991     15.760870\n",
       "1         199                 33              53        2006     16.582915\n",
       "2         184                  5              60        1990      2.717391\n",
       "3         177                  3              61        2004      1.694915\n",
       "4         169                 53              33        1998     31.360947"
      ]
     },
     "execution_count": 270,
     "metadata": {},
     "output_type": "execute_result"
    }
   ],
   "source": [
    " # Создадим датасет\n",
    "    \n",
    "n_samples = 300\n",
    "students = list(range(150, 200))\n",
    "year = list(range(1990, 2019))\n",
    "age = list(range(20, 65))\n",
    "total_stud = np.random.choice(students, n_samples)  # общее число выпускников школы в 2020 году\n",
    "highest_mark_stud = np.random.choice(150, n_samples)  # число учеников, сдавших ЕГЭ на 90-100 баллов\n",
    "ege_of_teacher = np.random.choice(age, n_samples)  # средний возраст учителей школы\n",
    "renov_year = np.random.choice(year, n_samples) #np.random.randint(0, 10)  # год капитального ремонта\n",
    "\n",
    "# Рассчитаем рейтинг по формуле\n",
    "range_school = highest_mark_stud / total_stud * 100 \n",
    "\n",
    "data = pd.DataFrame({'total_stud': total_stud, 'highest_mark_stud': highest_mark_stud, 'ege_of_teacher': ege_of_teacher, 'renov_year': renov_year,'range_school': range_school})\n",
    "data.head()"
   ]
  },
  {
   "cell_type": "code",
   "execution_count": 271,
   "metadata": {},
   "outputs": [
    {
     "name": "stdout",
     "output_type": "stream",
     "text": [
      "Weights: [-0.24143602  0.57066767  0.01577106  0.01029638]\n",
      "Bias: 21.487167817166508\n",
      "Error: 1.6029700246066445\n"
     ]
    }
   ],
   "source": [
    "# Тренируем модель с помощью линейной регрессии, находим коэффициенты и сдвиг, а также просчитываем ошибку\n",
    "\n",
    "from sklearn.metrics import mean_absolute_error\n",
    "\n",
    "X = data[['total_stud', 'highest_mark_stud', 'ege_of_teacher', 'renov_year']]\n",
    "y = data['range_school']\n",
    "reg = LinearRegression().fit(X, y)\n",
    "print('Weights: {}'.format(reg.coef_))\n",
    "print('Bias: {}'.format(reg.intercept_))\n",
    "\n",
    "pred_values = reg.predict(data[['total_stud', 'highest_mark_stud', 'ege_of_teacher', 'renov_year']])\n",
    "print('Error: {}'.format(mean_absolute_error(pred_values, y)))"
   ]
  },
  {
   "cell_type": "code",
   "execution_count": 272,
   "metadata": {},
   "outputs": [
    {
     "data": {
      "text/plain": [
       "39.88636363636364"
      ]
     },
     "execution_count": 272,
     "metadata": {},
     "output_type": "execute_result"
    }
   ],
   "source": [
    "y.median()"
   ]
  },
  {
   "cell_type": "markdown",
   "metadata": {},
   "source": [
    "Пример не очень показательный, тут и так все не очень плохо получилось. Тем не менее, проверим, как будет вести себя модель, если сократить количество переменных-признаков в ней"
   ]
  },
  {
   "cell_type": "code",
   "execution_count": 273,
   "metadata": {},
   "outputs": [
    {
     "name": "stdout",
     "output_type": "stream",
     "text": [
      "Weights: [-0.24161959  0.57055155]\n",
      "Bias: 42.82401990447168\n",
      "Error: 1.6112945697896812\n"
     ]
    }
   ],
   "source": [
    "X = data[['total_stud', 'highest_mark_stud']]\n",
    "y = data['range_school']\n",
    "reg = LinearRegression().fit(X, y)\n",
    "print('Weights: {}'.format(reg.coef_))\n",
    "print('Bias: {}'.format(reg.intercept_))\n",
    "\n",
    "pred_values = reg.predict(data[['total_stud', 'highest_mark_stud']])\n",
    "print('Error: {}'.format(mean_absolute_error(pred_values, y)))"
   ]
  },
  {
   "cell_type": "code",
   "execution_count": 274,
   "metadata": {},
   "outputs": [
    {
     "data": {
      "text/html": [
       "<div>\n",
       "<style scoped>\n",
       "    .dataframe tbody tr th:only-of-type {\n",
       "        vertical-align: middle;\n",
       "    }\n",
       "\n",
       "    .dataframe tbody tr th {\n",
       "        vertical-align: top;\n",
       "    }\n",
       "\n",
       "    .dataframe thead th {\n",
       "        text-align: right;\n",
       "    }\n",
       "</style>\n",
       "<table border=\"1\" class=\"dataframe\">\n",
       "  <thead>\n",
       "    <tr style=\"text-align: right;\">\n",
       "      <th></th>\n",
       "      <th>total_stud</th>\n",
       "      <th>highest_mark_stud</th>\n",
       "      <th>ege_of_teacher</th>\n",
       "      <th>renov_year</th>\n",
       "      <th>range_school</th>\n",
       "      <th>coeff</th>\n",
       "    </tr>\n",
       "  </thead>\n",
       "  <tbody>\n",
       "    <tr>\n",
       "      <th>0</th>\n",
       "      <td>184</td>\n",
       "      <td>29</td>\n",
       "      <td>50</td>\n",
       "      <td>1991</td>\n",
       "      <td>15.760870</td>\n",
       "      <td>0.157609</td>\n",
       "    </tr>\n",
       "    <tr>\n",
       "      <th>1</th>\n",
       "      <td>199</td>\n",
       "      <td>33</td>\n",
       "      <td>53</td>\n",
       "      <td>2006</td>\n",
       "      <td>16.582915</td>\n",
       "      <td>0.165829</td>\n",
       "    </tr>\n",
       "    <tr>\n",
       "      <th>2</th>\n",
       "      <td>184</td>\n",
       "      <td>5</td>\n",
       "      <td>60</td>\n",
       "      <td>1990</td>\n",
       "      <td>2.717391</td>\n",
       "      <td>0.027174</td>\n",
       "    </tr>\n",
       "    <tr>\n",
       "      <th>3</th>\n",
       "      <td>177</td>\n",
       "      <td>3</td>\n",
       "      <td>61</td>\n",
       "      <td>2004</td>\n",
       "      <td>1.694915</td>\n",
       "      <td>0.016949</td>\n",
       "    </tr>\n",
       "    <tr>\n",
       "      <th>4</th>\n",
       "      <td>169</td>\n",
       "      <td>53</td>\n",
       "      <td>33</td>\n",
       "      <td>1998</td>\n",
       "      <td>31.360947</td>\n",
       "      <td>0.313609</td>\n",
       "    </tr>\n",
       "  </tbody>\n",
       "</table>\n",
       "</div>"
      ],
      "text/plain": [
       "   total_stud  highest_mark_stud  ege_of_teacher  renov_year  range_school  \\\n",
       "0         184                 29              50        1991     15.760870   \n",
       "1         199                 33              53        2006     16.582915   \n",
       "2         184                  5              60        1990      2.717391   \n",
       "3         177                  3              61        2004      1.694915   \n",
       "4         169                 53              33        1998     31.360947   \n",
       "\n",
       "      coeff  \n",
       "0  0.157609  \n",
       "1  0.165829  \n",
       "2  0.027174  \n",
       "3  0.016949  \n",
       "4  0.313609  "
      ]
     },
     "execution_count": 274,
     "metadata": {},
     "output_type": "execute_result"
    }
   ],
   "source": [
    "# Создаем новый признак - это коэффициент \n",
    "data['coeff'] = data['highest_mark_stud'] / data['total_stud']\n",
    "data.head(5)"
   ]
  },
  {
   "cell_type": "code",
   "execution_count": 275,
   "metadata": {},
   "outputs": [
    {
     "name": "stdout",
     "output_type": "stream",
     "text": [
      "Weights: [100.]\n",
      "Bias: 0.0\n",
      "Error: 0.0\n"
     ]
    }
   ],
   "source": [
    "#  и потренируем модель \n",
    "X = data[['coeff']]\n",
    "y = data['range_school']\n",
    "reg = LinearRegression().fit(X, y)\n",
    "print('Weights: {}'.format(reg.coef_))\n",
    "print('Bias: {}'.format(reg.intercept_))\n",
    "\n",
    "pred_values = reg.predict(data[['coeff']])\n",
    "print('Error: {}'.format(mean_absolute_error(pred_values, y)))"
   ]
  },
  {
   "cell_type": "code",
   "execution_count": null,
   "metadata": {},
   "outputs": [],
   "source": []
  },
  {
   "cell_type": "code",
   "execution_count": null,
   "metadata": {},
   "outputs": [],
   "source": []
  },
  {
   "cell_type": "code",
   "execution_count": null,
   "metadata": {},
   "outputs": [],
   "source": []
  }
 ],
 "metadata": {
  "kernelspec": {
   "display_name": "Python 3",
   "language": "python",
   "name": "python3"
  },
  "language_info": {
   "codemirror_mode": {
    "name": "ipython",
    "version": 3
   },
   "file_extension": ".py",
   "mimetype": "text/x-python",
   "name": "python",
   "nbconvert_exporter": "python",
   "pygments_lexer": "ipython3",
   "version": "3.7.6"
  }
 },
 "nbformat": 4,
 "nbformat_minor": 4
}
