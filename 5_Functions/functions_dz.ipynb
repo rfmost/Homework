{
 "cells": [
  {
   "cell_type": "markdown",
   "metadata": {},
   "source": [
    "Вы работаете секретарем и вам постоянно приходят различные документы. Вы должны быть очень внимательны, чтобы не потерять ни один документ. Каталог документов хранится в следующем виде:"
   ]
  },
  {
   "cell_type": "code",
   "execution_count": null,
   "metadata": {},
   "outputs": [],
   "source": [
    "documents = [\n",
    "    {'type': 'passport', 'number': '2207 876234', 'name': 'Василий Гупкин'},\n",
    "    {'type': 'invoice', 'number': '11-2', 'name': 'Геннадий Покемонов'},\n",
    "    {'type': 'insurance', 'number': '10006', 'name': 'Аристарх Павлов'}\n",
    "]"
   ]
  },
  {
   "cell_type": "markdown",
   "metadata": {},
   "source": [
    "Перечень полок, на которых находятся документы хранится в следующем виде:"
   ]
  },
  {
   "cell_type": "code",
   "execution_count": null,
   "metadata": {},
   "outputs": [],
   "source": [
    "directories = {\n",
    "    '1': ['2207 876234', '11-2'],\n",
    "    '2': ['10006'],\n",
    "    '3': []\n",
    "}"
   ]
  },
  {
   "cell_type": "markdown",
   "metadata": {},
   "source": [
    "Необходимо реализовать пользовательские команды (внимание! это не название функций, которые должны быть выразительными, а команды, которые вводит пользователь, чтобы получить необходимый результат):\n",
    "\n",
    "p – people – команда, которая спросит номер документа и выведет имя человека, которому он принадлежит;\n",
    "s – shelf – команда, которая спросит номер документа и выведет номер полки, на которой он находится. Правильно обработайте ситуации, когда пользователь будет вводить несуществующий документ.\n",
    "l – list – команда, которая выведет список всех документов в формате\n",
    "passport \"2207 876234\" \"Василий Гупкин\"\n",
    "as – add shelf – команда, которая спросит номер новой полки и добавит ее в перечень. Предусмотрите случай, когда пользователь добавляет полку, которая уже существует.\n",
    "d – delete – команда, которая спросит номер документа и удалит его из каталога и из перечня полок. Предусмотрите сценарий, когда пользователь вводит несуществующий документ;\n",
    "m – move – команда, которая спросит номер документа и целевую полку и переместит его с текущей полки на целевую. Корректно обработайте кейсы, когда пользователь пытается переместить несуществующий документ или переместить документ на несуществующую полку;\n",
    "a – add – команда, которая добавит новый документ в каталог и в перечень полок, спросив его номер, тип, имя владельца и номер полки, на котором он будет храниться. Корректно обработайте ситуацию, когда пользователь будет пытаться добавить документ на несуществующую полку."
   ]
  },
  {
   "cell_type": "code",
   "execution_count": 5,
   "metadata": {},
   "outputs": [],
   "source": [
    "documents = [\n",
    "    {'type': 'passport', 'number': '2207 876234', 'name': 'Василий Гупкин'},\n",
    "    {'type': 'invoice', 'number': '11-2', 'name': 'Геннадий Покемонов'},\n",
    "    {'type': 'insurance', 'number': '10006', 'name': 'Аристарх Павлов'}\n",
    "]\n",
    "\n",
    "directories = {\n",
    "    '1': ['2207 876234', '11-2'],\n",
    "    '2': ['10006'],\n",
    "    '3': []\n",
    "}\n",
    "\n",
    "import copy\n",
    "ndirectories = copy.copy(directories)\n",
    "ndocuments = copy.copy(documents)"
   ]
  },
  {
   "cell_type": "code",
   "execution_count": 6,
   "metadata": {},
   "outputs": [],
   "source": [
    "def human_name(dnumber):\n",
    "    k = 0\n",
    "    for human in ndocuments:\n",
    "        if dnumber == human['number']:           \n",
    "            print(human['name'])\n",
    "            k = 1\n",
    "        else:\n",
    "            p = 1\n",
    "   \n",
    "    if p == 1 and k == 0:\n",
    "        print('Номер документа не существует.')"
   ]
  },
  {
   "cell_type": "code",
   "execution_count": 7,
   "metadata": {},
   "outputs": [],
   "source": [
    "def shelf_number(docnumber):\n",
    "    k = 0\n",
    "    for i, value in ndirectories.items():\n",
    "        for element in value:\n",
    "            if docnumber == element:\n",
    "                print(i)\n",
    "                k = 1\n",
    "            else:\n",
    "                p = 1\n",
    "    \n",
    "    if p == 1 and k == 0:\n",
    "        print('Номер документа не существует.')\n",
    "           "
   ]
  },
  {
   "cell_type": "code",
   "execution_count": 8,
   "metadata": {},
   "outputs": [],
   "source": [
    "def nlist():\n",
    "    for elem in ndocuments:\n",
    "        print(list(elem.values())[0], end = ' ')\n",
    "        print('\"', list(elem.values())[1], '\"', sep = '', end = ' ')\n",
    "        print('\"', list(elem.values())[2], '\"', sep = '', end = '\\n')\n"
   ]
  },
  {
   "cell_type": "code",
   "execution_count": 29,
   "metadata": {},
   "outputs": [],
   "source": [
    "def add_shelf():\n",
    "    shelf_input = input('Введите номер новой полки: ')\n",
    "    if shelf_input in list(ndirectories.keys()):\n",
    "        print('Полка уже существует.')\n",
    "    else:\n",
    "        ndirectories[shelf_input] = list()\n",
    "        print('Обновленный каталог полок: ', ndirectories)      # как использовать pprint внутри функции?\n",
    "#     print(directories)"
   ]
  },
  {
   "cell_type": "code",
   "execution_count": 30,
   "metadata": {},
   "outputs": [],
   "source": [
    "def mdel():\n",
    "    d_number = input('Введите номер документа: ')\n",
    "    k = 0\n",
    "    for i, element in enumerate(ndocuments):\n",
    "        if d_number in element.values():\n",
    "            ndocuments[i]['number'] = ' '           # если надо затереть номер в каталоге\n",
    "#             del(ndocuments[k]['number'])         # если надо изменить каталог, убрав номер\n",
    "#             break\n",
    "            k = 1\n",
    "            print('Обновленный перечень полок: ', ndocuments)\n",
    "#             print(documents)                      # почему изменяется оригинал, если меняется копия?\n",
    "        else:\n",
    "            p = 1\n",
    "            \n",
    "    if p == 1 and k == 0:\n",
    "        print('Номер документа не существует.')\n",
    "    else:\n",
    "        for key, element in ndirectories.items():\n",
    "            filtered = filter(lambda number: d_number not in number, element)\n",
    "            ndirectories[key] = list(filtered)\n",
    "        print('Обновленный перечень полок: ', ndirectories)\n",
    "#         print(directories)\n",
    "\n",
    "    "
   ]
  },
  {
   "cell_type": "code",
   "execution_count": 31,
   "metadata": {},
   "outputs": [],
   "source": [
    "def mmove():\n",
    "    d_number = input('Введите номер документа: ')\n",
    "    shelf_number = input('Введите номер полки, на которую надо переместить документ: ')\n",
    "\n",
    "    k = 0\n",
    "\n",
    "    for key, element in ndirectories.items():\n",
    "        if d_number in element and shelf_number in ndirectories.keys():\n",
    "            element.remove(d_number)\n",
    "            k = 1\n",
    "        else:\n",
    "            p = 1\n",
    "\n",
    "    if p == 1 and k == 0:        \n",
    "        print('Введенный номер документа или указанная вами полка не существует.')\n",
    "    else:\n",
    "        ndirectories[shelf_number].append(d_number)\n",
    "        print('Обновленный перечень полок: ', ndirectories)\n"
   ]
  },
  {
   "cell_type": "code",
   "execution_count": 32,
   "metadata": {},
   "outputs": [],
   "source": [
    "def m_add():\n",
    "    type_doc = input('Введите типа документа: ')\n",
    "    doc_num = input('Введите номер документа: ')\n",
    "    human_name = input('Введите имя и фамилию владельца: ')\n",
    "    shelf_num = input('Введите номер полки: ')\n",
    "\n",
    "    new_document = {}\n",
    "    new_document['type'] = type_doc\n",
    "    new_document['number'] = doc_num\n",
    "    new_document['name'] = human_name\n",
    "\n",
    "\n",
    "    if shelf_num in ndirectories.keys(): \n",
    "        ndocuments.append(new_document)\n",
    "        print('В каталог добавлен новый документ: ', ndocuments, sep = '\\n')\n",
    "        ndirectories[shelf_num].append(doc_num) \n",
    "        print('На полку №', shelf_num, 'добавлен новый документ.', '\\n', ndirectories)\n",
    "    else:\n",
    "        print('Указанного номера полки не существует.')"
   ]
  },
  {
   "cell_type": "code",
   "execution_count": 45,
   "metadata": {},
   "outputs": [
    {
     "name": "stdout",
     "output_type": "stream",
     "text": [
      "Введите команду латинскими буквами (p, s, l, as, d, m или a): f\n",
      "Ошибка. Введи коменду снова.\n",
      "Введите команду латинскими буквами (p, s, l, as, d, m или a): s\n"
     ]
    }
   ],
   "source": [
    "u_input = input('Введите команду латинскими буквами (p, s, l, as, d, m или a): ')\n",
    "\n",
    "if u_input == 'p':\n",
    "    doc_number1 = input('Введите номер документа: ')\n",
    "    human_name(doc_number1)\n",
    "    \n",
    "elif u_input == 's':\n",
    "    doc_number2 = input('Введите номер документа: ')\n",
    "    shelf_number(doc_number2)\n",
    "    \n",
    "elif u_input == 'l':\n",
    "    nlist()\n",
    "\n",
    "elif u_input == 'as':\n",
    "    add_shelf()\n",
    "    \n",
    "elif u_input == 'd':\n",
    "    mdel()\n",
    "\n",
    "elif u_input == 'm':\n",
    "    mmove()\n",
    "    \n",
    "elif u_input == 'a':\n",
    "    m_add()\n",
    "    \n",
    "else:\n",
    "    print('Ошибка. Введи команду снова.')\n",
    "    "
   ]
  },
  {
   "cell_type": "code",
   "execution_count": null,
   "metadata": {},
   "outputs": [],
   "source": []
  },
  {
   "cell_type": "code",
   "execution_count": null,
   "metadata": {},
   "outputs": [],
   "source": []
  }
 ],
 "metadata": {
  "kernelspec": {
   "display_name": "Python 3",
   "language": "python",
   "name": "python3"
  }
 },
 "nbformat": 4,
 "nbformat_minor": 4
}
