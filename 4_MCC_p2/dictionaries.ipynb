{
 "cells": [
  {
   "cell_type": "markdown",
   "metadata": {},
   "source": [
    "Задание 1. Дан список с визитами по городам и странам. Напишите код, который возвращает отфильтрованный список geo_logs, содержащий только визиты из России."
   ]
  },
  {
   "cell_type": "code",
   "execution_count": 6,
   "metadata": {},
   "outputs": [
    {
     "name": "stdout",
     "output_type": "stream",
     "text": [
      "[{'visit1': ['Москва', 'Россия']},\n",
      " {'visit3': ['Владимир', 'Россия']},\n",
      " {'visit7': ['Тула', 'Россия']},\n",
      " {'visit8': ['Тула', 'Россия']},\n",
      " {'visit9': ['Курск', 'Россия']},\n",
      " {'visit10': ['Архангельск', 'Россия']}]\n"
     ]
    }
   ],
   "source": [
    "geo_logs_input = [\n",
    "    {'visit1': ['Москва', 'Россия']},\n",
    "    {'visit2': ['Дели', 'Индия']},\n",
    "    {'visit3': ['Владимир', 'Россия']},\n",
    "    {'visit4': ['Лиссабон', 'Португалия']},\n",
    "    {'visit5': ['Париж', 'Франция']},\n",
    "    {'visit6': ['Лиссабон', 'Португалия']},\n",
    "    {'visit7': ['Тула', 'Россия']},\n",
    "    {'visit8': ['Тула', 'Россия']},\n",
    "    {'visit9': ['Курск', 'Россия']},\n",
    "    {'visit10': ['Архангельск', 'Россия']}\n",
    "]\n",
    "\n",
    "from pprint import pprint\n",
    "\n",
    "import copy\n",
    "geo_logs = copy.copy(geo_logs_input)\n",
    "\n",
    "i = 0                                                   # фильтруем исходный список\n",
    "while i < len(geo_logs):                         \n",
    "#     print(list(geo_logs[i].values())[0][1])\n",
    "    if list(geo_logs[i].values())[0][1] == 'Россия':\n",
    "        i += 1\n",
    "    else:\n",
    "        geo_logs.remove(geo_logs[i])\n",
    "        \n",
    "pprint(geo_logs)  \n",
    "                "
   ]
  },
  {
   "cell_type": "code",
   "execution_count": 31,
   "metadata": {},
   "outputs": [
    {
     "name": "stdout",
     "output_type": "stream",
     "text": [
      "[{'visit1': ['Москва', 'Россия']},\n",
      " {'visit3': ['Владимир', 'Россия']},\n",
      " {'visit7': ['Тула', 'Россия']},\n",
      " {'visit8': ['Тула', 'Россия']},\n",
      " {'visit9': ['Курск', 'Россия']},\n",
      " {'visit10': ['Архангельск', 'Россия']}]\n"
     ]
    }
   ],
   "source": [
    "geo_logs_input = [                                  \n",
    "    {'visit1': ['Москва', 'Россия']},\n",
    "    {'visit2': ['Дели', 'Индия']},\n",
    "    {'visit3': ['Владимир', 'Россия']},\n",
    "    {'visit4': ['Лиссабон', 'Португалия']},\n",
    "    {'visit5': ['Париж', 'Франция']},\n",
    "    {'visit6': ['Лиссабон', 'Португалия']},\n",
    "    {'visit7': ['Тула', 'Россия']},\n",
    "    {'visit8': ['Тула', 'Россия']},\n",
    "    {'visit9': ['Курск', 'Россия']},\n",
    "    {'visit10': ['Архангельск', 'Россия']}\n",
    "]\n",
    "\n",
    "from pprint import pprint\n",
    "\n",
    "import copy\n",
    "geo_logs = copy.copy(geo_logs_input)\n",
    "\n",
    "geo_logs1 = []                                  # создаем новый список с заданными параметрами\n",
    "for visits in geo_logs:\n",
    "    if list(visits.values())[0][1] == 'Россия':\n",
    "        geo_logs1.append(visits)                    \n",
    "pprint(geo_logs1)\n",
    "        "
   ]
  },
  {
   "cell_type": "markdown",
   "metadata": {},
   "source": [
    "Задание 2. Выведите на экран все уникальные гео-ID из значений словаря ids. Т. е. список вида [213, 15, 54, 119, 98, 35]"
   ]
  },
  {
   "cell_type": "code",
   "execution_count": 59,
   "metadata": {},
   "outputs": [
    {
     "name": "stdout",
     "output_type": "stream",
     "text": [
      "Уникальные гео-ID:  [213, 15, 54, 119, 98, 35]\n"
     ]
    }
   ],
   "source": [
    "ids = {'user1': [213, 213, 213, 15, 213], \n",
    "       'user2': [54, 54, 119, 119, 119], \n",
    "       'user3': [213, 98, 98, 35]}\n",
    "\n",
    "unique_ids_list = []\n",
    "for value in ids.values():\n",
    "    for element in value:\n",
    "        if element not in unique_ids_list:\n",
    "            unique_ids_list.append(element)\n",
    "\n",
    "print('Уникальные гео-ID: ', unique_ids_list) \n"
   ]
  },
  {
   "cell_type": "markdown",
   "metadata": {},
   "source": [
    "Задание 3. Дан список поисковых запросов. Получить распределение количества слов в них. Т. е. поисковых запросов из одного - слова 5%, из двух - 7%, из трех - 3% и т.д."
   ]
  },
  {
   "cell_type": "code",
   "execution_count": 47,
   "metadata": {},
   "outputs": [
    {
     "name": "stdout",
     "output_type": "stream",
     "text": [
      "Поисковых запросов из 4 слов: 57 %\n",
      "Поисковых запросов из 3 слов: 43 %\n"
     ]
    }
   ],
   "source": [
    "queries = [\n",
    "    'смотреть сериалы онлайн',\n",
    "    'новости спорта',\n",
    "    'афиша кино',\n",
    "    'курс доллара',\n",
    "    'сериалы этим летом',\n",
    "    'курс по питону',\n",
    "    'сериалы про спорт',\n",
    "]\n",
    "\n",
    "from pprint import pprint\n",
    "\n",
    "\n",
    "dict = {}\n",
    "for request in queries:\n",
    "    k = len(list(request.split(' ')))    \n",
    "    dict[k] = 0\n",
    "\n",
    "for request in queries:\n",
    "    k = len(list(request.split(' ')))\n",
    "    if k in dict.keys():\n",
    "        dict[k] += 1\n",
    "        \n",
    "# pprint(dict)\n",
    "\n",
    "for elem in dict.values():\n",
    "    perc = round(elem / len(queries) * 100)\n",
    "    print('Поисковых запросов из', elem, 'слов:', perc, '%')\n"
   ]
  },
  {
   "cell_type": "markdown",
   "metadata": {},
   "source": [
    "Задание 4. Дана статистика рекламных каналов по объемам продаж. Напишите скрипт, который возвращает название канала с максимальным объемом. Т. е. в данном примере скрипт должен возвращать 'yandex'."
   ]
  },
  {
   "cell_type": "code",
   "execution_count": 55,
   "metadata": {},
   "outputs": [
    {
     "name": "stdout",
     "output_type": "stream",
     "text": [
      "yandex\n"
     ]
    }
   ],
   "source": [
    "stats = {'facebook': 55, 'yandex': 120, 'vk': 115, 'google': 99, 'email': 42, 'ok': 98}\n",
    "\n",
    "maximum = sorted(list(stats.values()))[lenth - 1]\n",
    "\n",
    "def get_key(val):\n",
    "    for key, value in stats.items():\n",
    "         if val == value:\n",
    "             return key\n",
    "\n",
    "print(get_key(maximum))"
   ]
  },
  {
   "cell_type": "markdown",
   "metadata": {},
   "source": [
    "Задание 5. Напишите код для преобразования произвольного списка вида ['2018-01-01', 'yandex', 'cpc', 100] (он может быть любой длины) в словарь {'2018-01-01': {'yandex': {'cpc': 100}}}"
   ]
  },
  {
   "cell_type": "code",
   "execution_count": 56,
   "metadata": {},
   "outputs": [
    {
     "name": "stdout",
     "output_type": "stream",
     "text": [
      "{'cpc': 100, 'yandex': {...}, '2018-01-01': {...}}\n"
     ]
    }
   ],
   "source": [
    "nlist = ['2018-01-01', 'yandex', 'cpc', 100]\n",
    "\n",
    "ndict = {}\n",
    "i = 2\n",
    "x = nlist[-1]\n",
    "while i <= len(nlist):\n",
    "    ndict[nlist[-i]] = x\n",
    "    x = ndict\n",
    "    i = i + 1\n",
    "\n",
    "print(ndict)\n",
    "\n"
   ]
  },
  {
   "cell_type": "code",
   "execution_count": null,
   "metadata": {},
   "outputs": [],
   "source": []
  }
 ],
 "metadata": {
  "kernelspec": {
   "display_name": "Python 3",
   "language": "python",
   "name": "python3"
  },
  "language_info": {
   "codemirror_mode": {
    "name": "ipython",
    "version": 3
   },
   "file_extension": ".py",
   "mimetype": "text/x-python",
   "name": "python",
   "nbconvert_exporter": "python",
   "pygments_lexer": "ipython3",
   "version": "3.7.6"
  }
 },
 "nbformat": 4,
 "nbformat_minor": 4
}
