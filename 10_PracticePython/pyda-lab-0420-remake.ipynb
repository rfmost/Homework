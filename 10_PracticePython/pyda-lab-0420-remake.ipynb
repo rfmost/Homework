{
 "cells": [
  {
   "cell_type": "markdown",
   "metadata": {},
   "source": [
    "## Лабораторная работа по курсу «Python для анализа данных»"
   ]
  },
  {
   "cell_type": "markdown",
   "metadata": {},
   "source": [
    "### При выполнении работы допускается использование любых внешних модулей и пакетов. Готовые решения принимаются в виде ссылки на GitHub."
   ]
  },
  {
   "cell_type": "markdown",
   "metadata": {},
   "source": [
    "#### Задача 1"
   ]
  },
  {
   "cell_type": "markdown",
   "metadata": {},
   "source": [
    "Дана строка:"
   ]
  },
  {
   "cell_type": "markdown",
   "metadata": {},
   "source": [
    "string_01 = \"History is always written by the winners. hen two cultures clash, the loser is obliterated, and the winner writes the history books-books which glorify their own cause and disparage the conquered foe. As Napoleon once said, 'What is history, but a fable agreed upon?\""
   ]
  },
  {
   "cell_type": "markdown",
   "metadata": {},
   "source": [
    "1. Посчитайте, сколько в строке символов, исключая пробелы:"
   ]
  },
  {
   "cell_type": "code",
   "execution_count": 114,
   "metadata": {},
   "outputs": [
    {
     "data": {
      "text/plain": [
       "223"
      ]
     },
     "execution_count": 114,
     "metadata": {},
     "output_type": "execute_result"
    }
   ],
   "source": [
    "len(string_01.replace(' ', ''))"
   ]
  },
  {
   "cell_type": "markdown",
   "metadata": {},
   "source": [
    "2. Посчитайте, сколько в строке слов."
   ]
  },
  {
   "cell_type": "code",
   "execution_count": 123,
   "metadata": {},
   "outputs": [
    {
     "name": "stdout",
     "output_type": "stream",
     "text": [
      "['History', 'is', 'always', 'written', 'by', 'the', 'winners.', 'hen', 'two', 'cultures', 'clash,', 'the', 'loser', 'is', 'obliterated,', 'and', 'the', 'winner', 'writes', 'the', 'history', 'books-books', 'which', 'glorify', 'their', 'own', 'cause', 'and', 'disparage', 'the', 'conquered', 'foe.', 'As', 'Napoleon', 'once', 'said,', \"'What\", 'is', 'history,', 'but', 'a', 'fable', 'agreed', 'upon?']\n"
     ]
    },
    {
     "data": {
      "text/plain": [
       "44"
      ]
     },
     "execution_count": 123,
     "metadata": {},
     "output_type": "execute_result"
    }
   ],
   "source": [
    "print(string_01.split(' '))\n",
    "len(string_01.split(' '))"
   ]
  },
  {
   "cell_type": "code",
   "execution_count": 124,
   "metadata": {},
   "outputs": [
    {
     "name": "stdout",
     "output_type": "stream",
     "text": [
      "['History', 'is', 'always', 'written', 'by', 'the', 'winners', 'hen', 'two', 'cultures', 'clash', 'the', 'loser', 'is', 'obliterated', 'and', 'the', 'winner', 'writes', 'the', 'history', 'books', 'books', 'which', 'glorify', 'their', 'own', 'cause', 'and', 'disparage', 'the', 'conquered', 'foe', 'As', 'Napoleon', 'once', 'said', 'What', 'is', 'history', 'but', 'a', 'fable', 'agreed', 'upon']\n"
     ]
    },
    {
     "data": {
      "text/plain": [
       "45"
      ]
     },
     "execution_count": 124,
     "metadata": {},
     "output_type": "execute_result"
    }
   ],
   "source": [
    "import re\n",
    "\n",
    "result = re.findall(r'\\w+',string_01)\n",
    "print(result)\n",
    "len(result)"
   ]
  },
  {
   "cell_type": "markdown",
   "metadata": {},
   "source": [
    "3. Напишите функцию, которая будет принимать в качестве аргумента букву и выводить все слова из строки, начинающиеся на эту букву (например, “w”)."
   ]
  },
  {
   "cell_type": "code",
   "execution_count": 129,
   "metadata": {},
   "outputs": [
    {
     "name": "stdout",
     "output_type": "stream",
     "text": [
      "Введите букву латинского алфавита: N\n",
      "Napoleon\n"
     ]
    }
   ],
   "source": [
    "import re\n",
    "\n",
    "def lett_words(lett):\n",
    "    result = re.findall(r'\\w+',string_01)\n",
    "    for word in result:\n",
    "        if word[0] == lett:\n",
    "            print(word)\n",
    "  \n",
    "letter = input('Введите букву латинского алфавита: ')\n",
    "lett_words(letter)"
   ]
  },
  {
   "cell_type": "markdown",
   "metadata": {},
   "source": [
    "#### Задача 2"
   ]
  },
  {
   "cell_type": "markdown",
   "metadata": {},
   "source": [
    "Напишите код, который будет генерировать случайную последовательность из 6 цифр, одна из которых должна быть 3. Позиция цифры 3 должна\n",
    "определяться случайным образом. Результат должен быть строкой. Например: \"456309\" или \"330127\"."
   ]
  },
  {
   "cell_type": "code",
   "execution_count": 28,
   "metadata": {},
   "outputs": [
    {
     "name": "stdout",
     "output_type": "stream",
     "text": [
      "9 3 6 0 5 3\n"
     ]
    }
   ],
   "source": [
    "import random\n",
    "\n",
    "rlist = list()\n",
    "for i in range(5):\n",
    "    r = random.randint(0, 9)\n",
    "    rlist.append(r)\n",
    "# print(rlist)\n",
    "th_list = [3]\n",
    "total_list = rlist + th_list \n",
    "# print(total_list)\n",
    "random.shuffle(total_list)\n",
    "print(\" \".join(map(str, total_list)))\n"
   ]
  },
  {
   "cell_type": "markdown",
   "metadata": {},
   "source": [
    "#### Задача 3"
   ]
  },
  {
   "cell_type": "markdown",
   "metadata": {},
   "source": [
    "Дан список:"
   ]
  },
  {
   "cell_type": "code",
   "execution_count": 20,
   "metadata": {},
   "outputs": [],
   "source": [
    "list_01 = [1, 1, 2, 3, 5, 8, 13, 21, 34, 55, 89, 144, 233, 377, 610, 14, 46, 273, 22, 99, 15, 1000]"
   ]
  },
  {
   "cell_type": "markdown",
   "metadata": {},
   "source": [
    "Напишите алгоритм, который выводит сумму элементов списка, которые больше 10, но меньше 100, и которые больше 200, но меньше 500."
   ]
  },
  {
   "cell_type": "code",
   "execution_count": 29,
   "metadata": {},
   "outputs": [
    {
     "name": "stdout",
     "output_type": "stream",
     "text": [
      "1291\n"
     ]
    }
   ],
   "source": [
    "# sum1 = list()\n",
    "sum2 = 0\n",
    "\n",
    "for i in list_01:\n",
    "    if i > 10 and i < 100 or i > 200 and i < 500:\n",
    "#         sum1.append(i)\n",
    "        sum2 += i\n",
    "# print(sum1)\n",
    "print(sum2)"
   ]
  },
  {
   "cell_type": "markdown",
   "metadata": {},
   "source": [
    "#### Задача 4"
   ]
  },
  {
   "cell_type": "markdown",
   "metadata": {},
   "source": [
    "Данные студентов представлены в виде списка списков:"
   ]
  },
  {
   "cell_type": "code",
   "execution_count": 139,
   "metadata": {},
   "outputs": [],
   "source": [
    "students = [\n",
    "[\"0001\", \"Антонов\", \"Антон\", \"Игоревич\", \"20.08.2009\",\"БСТ161\"],\n",
    "[\"1102\", \"Богов\", \"Артем\", \"Игоревич\", \"25.01.2010\",\"БСТ162\"],\n",
    "[\"0333\", \"Глаголева\", \"Анастасия\", \"Николаевна\", \"11.07.2009\", \"БСТ163\"],\n",
    "[\"4004\", \"Степанова\", \"Наталья\", \"Александровна\", \"13.02.2008\", \"БСТ161\"],\n",
    "[\"0045\", \"Боков\", \"Игорь\", \"Харитонович\", \"02.06.2009\", \"БСТ161\"],\n",
    "[\"0096\", \"Васильков\", \"Валентин\", \"Сергеевич\", \"20.03.2009\", \"БСТ164\"],\n",
    "[\"0607\", \"Сиропова\", \"Виолетта\", \"Эдуардовна\", \"28.05.2010\", \"БСТ162\"]\n",
    "    ]"
   ]
  },
  {
   "cell_type": "markdown",
   "metadata": {},
   "source": [
    "1. Преобразуйте данные таким образом, чтобы они были представлены в виде словаря, в котором ключами являются номера студентов, а значениями — список из других данных о студентах."
   ]
  },
  {
   "cell_type": "code",
   "execution_count": 140,
   "metadata": {},
   "outputs": [
    {
     "name": "stdout",
     "output_type": "stream",
     "text": [
      "{'0001': ['Антонов', 'Антон', 'Игоревич', '20.08.2009', 'БСТ161'],\n",
      " '0045': ['Боков', 'Игорь', 'Харитонович', '02.06.2009', 'БСТ161'],\n",
      " '0096': ['Васильков', 'Валентин', 'Сергеевич', '20.03.2009', 'БСТ164'],\n",
      " '0333': ['Глаголева', 'Анастасия', 'Николаевна', '11.07.2009', 'БСТ163'],\n",
      " '0607': ['Сиропова', 'Виолетта', 'Эдуардовна', '28.05.2010', 'БСТ162'],\n",
      " '1102': ['Богов', 'Артем', 'Игоревич', '25.01.2010', 'БСТ162'],\n",
      " '4004': ['Степанова', 'Наталья', 'Александровна', '13.02.2008', 'БСТ161']}\n"
     ]
    }
   ],
   "source": [
    "from pprint import pprint\n",
    "\n",
    "sdict = dict()\n",
    "\n",
    "for element in students:\n",
    "    sdict[element[0]] = element[1:6]\n",
    "pprint(sdict)\n",
    "\n",
    "\n"
   ]
  },
  {
   "cell_type": "markdown",
   "metadata": {},
   "source": [
    "2. Напишите функцию, которая принимает в качестве аргумента номер студента и новый номер группы и позволяет изменить номер группы этого студента на новый."
   ]
  },
  {
   "cell_type": "code",
   "execution_count": 132,
   "metadata": {},
   "outputs": [
    {
     "name": "stdout",
     "output_type": "stream",
     "text": [
      "Введите номер студента: 0607\n",
      "Введите новый номер группы: hkjhk\n",
      "[['0001', 'Антонов', 'Антон', 'Игоревич', '20.08.2009', 'БСТ161', '0001'], ['1102', 'Богов', 'Артем', 'Игоревич', '25.01.2010', 'БСТ162', 'Богов'], ['0333', 'Глаголева', 'Анастасия', 'Николаевна', '11.07.2009', 'БСТ163', 'Анастасия'], ['4004', 'Степанова', 'Наталья', 'Александровна', '13.02.2008', 'БСТ161', 'Александровна'], ['0045', 'Боков', 'Игорь', 'Харитонович', '02.06.2009', 'БСТ161', '02.06.2009'], ['0096', 'Васильков', 'Валентин', 'Сергеевич', '20.03.2009', 'БСТ164', 'БСТ164'], ['0607', 'Сиропова', 'Виолетта', 'Эдуардовна', '28.05.2010', 'hkjhk']]\n"
     ]
    }
   ],
   "source": [
    "def nnumbers(num_st, num_gr):\n",
    "    for slist in students:\n",
    "        if slist[0] == num_st:\n",
    "            slist[5] = num_gr\n",
    "    print(students)\n",
    "number_st = input('Введите номер студента: ')\n",
    "number_gr = input('Введите новый номер группы: ')\n",
    "nnumbers(number_st, number_gr)"
   ]
  },
  {
   "cell_type": "markdown",
   "metadata": {},
   "source": [
    "3. Напишите функцию, которая принимает номер группы и выводит список (фамилии, имена, отчества) всех студентов этой группы."
   ]
  },
  {
   "cell_type": "code",
   "execution_count": 136,
   "metadata": {},
   "outputs": [
    {
     "name": "stdout",
     "output_type": "stream",
     "text": [
      "Введите номер группы: БСТ161\n",
      "[['Антонов', 'Антон', 'Игоревич'], ['Степанова', 'Наталья', 'Александровна'], ['Боков', 'Игорь', 'Харитонович']]\n"
     ]
    }
   ],
   "source": [
    "def students_list(gr_num):\n",
    "    st_list = list()\n",
    "    for slist in students:\n",
    "        if slist[5] == gr_num:\n",
    "            st_list.append(slist[1:4])\n",
    "    print(st_list)\n",
    "group_number = input('Введите номер группы: ')\n",
    "students_list(group_number)"
   ]
  },
  {
   "cell_type": "markdown",
   "metadata": {},
   "source": [
    "#### Задача 5"
   ]
  },
  {
   "cell_type": "markdown",
   "metadata": {},
   "source": [
    "Дана матрица:"
   ]
  },
  {
   "cell_type": "code",
   "execution_count": 96,
   "metadata": {},
   "outputs": [],
   "source": [
    "matrix = [ \n",
    "    [0,1,2,4,8], \n",
    "    [6,2,2,1,9], \n",
    "    [3,3,3,3,3], \n",
    "    [4,6,7,1,2], \n",
    "    [5,7,3,4,0] \n",
    "]"
   ]
  },
  {
   "cell_type": "markdown",
   "metadata": {},
   "source": [
    "1. Выведите результат сложения всех элементов матрицы."
   ]
  },
  {
   "cell_type": "code",
   "execution_count": 98,
   "metadata": {},
   "outputs": [
    {
     "name": "stdout",
     "output_type": "stream",
     "text": [
      "89\n"
     ]
    }
   ],
   "source": [
    "summ = 0\n",
    "\n",
    "for i, elem in enumerate(matrix):\n",
    "    for y, element in enumerate(elem):\n",
    "        summ += element\n",
    "print(summ)\n",
    "    \n",
    "    "
   ]
  },
  {
   "cell_type": "markdown",
   "metadata": {},
   "source": [
    "2. Напишите алгоритм вычисления максимума из сумм элементов каждого столбца."
   ]
  },
  {
   "cell_type": "code",
   "execution_count": 112,
   "metadata": {},
   "outputs": [
    {
     "name": "stdout",
     "output_type": "stream",
     "text": [
      "18\n",
      "19\n",
      "17\n",
      "13\n",
      "22\n",
      "22\n"
     ]
    }
   ],
   "source": [
    "max = 0\n",
    "for y in range(len(matrix[0])):\n",
    "    summ = 0\n",
    "    for i, elem in enumerate(matrix):\n",
    "        summ += elem[y]\n",
    "#     print(summ)\n",
    "    if summ > max:\n",
    "        max = summ\n",
    "print(max)\n",
    "    "
   ]
  },
  {
   "cell_type": "code",
   "execution_count": null,
   "metadata": {},
   "outputs": [],
   "source": []
  }
 ],
 "metadata": {
  "kernelspec": {
   "display_name": "Python 3",
   "language": "python",
   "name": "python3"
  },
  "language_info": {
   "codemirror_mode": {
    "name": "ipython",
    "version": 3
   },
   "file_extension": ".py",
   "mimetype": "text/x-python",
   "name": "python",
   "nbconvert_exporter": "python",
   "pygments_lexer": "ipython3",
   "version": "3.7.6"
  }
 },
 "nbformat": 4,
 "nbformat_minor": 2
}
