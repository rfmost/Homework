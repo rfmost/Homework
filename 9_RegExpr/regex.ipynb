{
 "cells": [
  {
   "cell_type": "markdown",
   "metadata": {},
   "source": [
    "Задание 1.\n",
    "Напишите функцию, которая принимает на вход строку и проверяет является ли она валидным транспортным номером. Если да, то функция должна возвращать отдельно номер и регион."
   ]
  },
  {
   "cell_type": "code",
   "execution_count": 21,
   "metadata": {},
   "outputs": [
    {
     "name": "stdout",
     "output_type": "stream",
     "text": [
      "Введите номер машины: а789пн90\n",
      "('а789пн', '90')\n"
     ]
    }
   ],
   "source": [
    "import re\n",
    "\n",
    "def car_number_control(car_num):\n",
    "    \n",
    "    cnumber = re.findall(r'^[а-яА-Я]{1}[0-9]{3}[а-яА-Я]{2}[0-9]{2,3}$', car_num)\n",
    "    \n",
    "    if cnumber == list():\n",
    "        sstr = 'Некорректный номер транспортного средства.'\n",
    "        return sstr\n",
    "    else:\n",
    "        num = re.findall(r'[а-яА-Я]{1}[0-9]{3}[а-яА-Я]{2}', car_num)[0]\n",
    "        reg = re.findall(r'[0-9]{2,3}', car_num)[1]\n",
    "        return num, reg\n",
    "        \n",
    "car_number = input('Введите номер машины: ')\n",
    "print(car_number_control(car_number))\n"
   ]
  },
  {
   "cell_type": "markdown",
   "metadata": {},
   "source": [
    "Задание 2.\n",
    "Постарайтесь написать (в крайнем случае найти) самый полный шаблон для проверки e-mail адресов через регулярное выражение, которая проверяет e-mail адрес на валидность. Можно руководствоваться следующими минимальными требованиями:\n",
    "• адрес должен содержать специальный символ “@”, который отделяет имя пользователя почтовой системы от доменного имени;\n",
    "• адрес не должен содержать следующие символы: “пробел”, “,”, “:”, “;”, “!”, “#”, “%”, “*”, “(”, “)”, “=”, “+”, “{”, “}”, \" \" \", \" ’ \", \" / \", \" \\ \" и “|”;\n",
    "• адрес должен состоять только из латинских символов;\n",
    "• после символа “@” должна быть как минимум одна “.”;\n",
    "• после последней точки должно быть не менее 2-х и не более 4-х символов, причем наличие цифр не допускается;\n",
    "• между последней точкой и символом “@” должно быть не менее 2-х символов\n",
    "• слева от “@” должно быть не менее четырех символов"
   ]
  },
  {
   "cell_type": "code",
   "execution_count": 33,
   "metadata": {},
   "outputs": [
    {
     "name": "stdout",
     "output_type": "stream",
     "text": [
      "Введите email: ftni@bjkbkik\n",
      "НЕвалидный\n"
     ]
    }
   ],
   "source": [
    "import re\n",
    "\n",
    "e_adress = input('Введите email: ')\n",
    "e_pattern = r'([a-zA-Z0-9]+){4,}@([a-zA-Z]+){2,}(\\.[a-zA-Z]+)*\\.[a-zA-Z]{2,4}$'\n",
    "\n",
    "if re.match(e_pattern, e_adress):\n",
    "    print('Валидный')\n",
    "else:\n",
    "    print('НЕвалидный')\n",
    "    \n"
   ]
  },
  {
   "cell_type": "markdown",
   "metadata": {},
   "source": [
    "**Задание 3. **\n",
    "Напишите функцию, которая будет удалять все последовательные повторы слов из заданной строки при помощи регулярных выражений."
   ]
  },
  {
   "cell_type": "code",
   "execution_count": 133,
   "metadata": {},
   "outputs": [
    {
     "data": {
      "text/plain": [
       "'яркое солнце и мороз'"
      ]
     },
     "execution_count": 133,
     "metadata": {},
     "output_type": "execute_result"
    }
   ],
   "source": [
    "import re\n",
    "string1 = \"\"\"яркое солнце   солнцесолнце солнцесолнце  солнце    солнцесолнце\n",
    "солнцесолнцесолнце солнце     солнце солнце солнце солнцесолнце и мороз\"\"\"\n",
    "re.sub(r'(\\w+)(\\s*\\1)+', r'\\1', string1)\n"
   ]
  },
  {
   "cell_type": "markdown",
   "metadata": {},
   "source": [
    "Задание 4.\n",
    "Напишите функцию, которая будет проверять номер сотового телефона на валидность, если он валиден, то переводить его в формат:\n",
    "+7(xxx)-xxx-xx-xx\n",
    "\n",
    "Постарайтесь предусмотреть как можно больше адекватных форматов изначального ввода номера. Примеры валидных форматов:\n",
    "\n",
    "• +7 955 555-55-55;\n",
    "• 9555555555;\n",
    "• 8(955)555-55-55;\n",
    "• +7 955 555 55 55;\n",
    "• 7(955) 555-55-55;\n",
    "• +7 955+555+55+55."
   ]
  },
  {
   "cell_type": "code",
   "execution_count": 55,
   "metadata": {},
   "outputs": [
    {
     "name": "stdout",
     "output_type": "stream",
     "text": [
      "Введите номер телефона: 8(955)555-55-55\n",
      "Валидный\n",
      "['8', '955', '555', '55', '55']\n",
      "+7-955-555-55-55\n"
     ]
    }
   ],
   "source": [
    "import re\n",
    "\n",
    "def phone(t_number):\n",
    "    tel_pattern = r'^(\\+?7)?8?\\s?\\(?(?P<name1>[0-9]{3})\\)?\\s?(?P<name2>[0-9]{3})(-|\\s|\\W)?(?P<name3>[0-9]{2})(-|\\s|\\W)?(?P<name4>[0-9]{2})$'\n",
    "    tel_ = \"+7\"\n",
    "    if re.match(tel_pattern, t_number):\n",
    "        print('Валидный')\n",
    "        print(re.findall(r'\\d+', t_number))\n",
    "        for i in range(1, 5): \n",
    "            tel_ += '-' + re.findall(r'\\d+', t_number)[i]\n",
    "            \n",
    "        print(tel_)\n",
    "    else:         \n",
    "        print('НЕвалидный')\n",
    "phone_num = input('Введите номер телефона: ')\n",
    "phone(phone_num)"
   ]
  },
  {
   "cell_type": "code",
   "execution_count": null,
   "metadata": {},
   "outputs": [],
   "source": []
  },
  {
   "cell_type": "code",
   "execution_count": null,
   "metadata": {},
   "outputs": [],
   "source": []
  }
 ],
 "metadata": {
  "kernelspec": {
   "display_name": "Python 3",
   "language": "python",
   "name": "python3"
  },
  "language_info": {
   "codemirror_mode": {
    "name": "ipython",
    "version": 3
   },
   "file_extension": ".py",
   "mimetype": "text/x-python",
   "name": "python",
   "nbconvert_exporter": "python",
   "pygments_lexer": "ipython3",
   "version": "3.7.6"
  }
 },
 "nbformat": 4,
 "nbformat_minor": 4
}
