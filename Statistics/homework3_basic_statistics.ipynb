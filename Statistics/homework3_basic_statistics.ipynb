{
 "cells": [
  {
   "cell_type": "markdown",
   "metadata": {
    "colab_type": "text",
    "id": "QVI-7gzMl70f"
   },
   "source": [
    "# Домашняя работа №3"
   ]
  },
  {
   "cell_type": "code",
   "execution_count": 2,
   "metadata": {
    "colab": {},
    "colab_type": "code",
    "id": "4IGVqb7KvSxe"
   },
   "outputs": [],
   "source": [
    "import pandas as pd\n",
    "import numpy as np\n",
    "import matplotlib.pyplot as plt\n",
    "import scipy.stats as sts\n",
    "%matplotlib inline\n",
    "import statistics"
   ]
  },
  {
   "cell_type": "markdown",
   "metadata": {
    "colab_type": "text",
    "id": "cCvZIO1Kh7vZ"
   },
   "source": [
    "Загрузить датасет по url:\n"
   ]
  },
  {
   "cell_type": "code",
   "execution_count": 40,
   "metadata": {
    "colab": {},
    "colab_type": "code",
    "id": "csAWXiRvh_YM"
   },
   "outputs": [],
   "source": [
    "# следующая строчка подключает сертификат для защищенного соединения\n",
    "# ssl._create_default_https_context = ssl._create_unverified_context\n",
    "# все данные загружаются с сервера\n",
    "url=\"http://yustiks.ru/dataset/world-happiness-report-2019.csv\"\n",
    "df=pd.read_csv(url)\n"
   ]
  },
  {
   "cell_type": "markdown",
   "metadata": {
    "colab_type": "text",
    "id": "HtcpKepV8XDi"
   },
   "source": [
    "Более подробно о датасете можно прочитать по [данной ссылке](https://data.world/promptcloud/world-happiness-report-2019) или по [ссылке в kaggle](https://www.kaggle.com/PromptCloudHQ/world-happiness-report-2019)"
   ]
  },
  {
   "cell_type": "markdown",
   "metadata": {
    "colab_type": "text",
    "id": "UN13GCGcijj_"
   },
   "source": [
    "Context\n",
    "\n",
    "The World Happiness Report is a landmark survey of the state of global happiness that ranks 156 countries by how happy their citizens perceive themselves to be. This year’s World Happiness Report focuses on happiness and the community: how happiness has evolved over the past dozen years, with a focus on the technologies, social norms, conflicts and government policies that have driven those changes.\n"
   ]
  },
  {
   "cell_type": "markdown",
   "metadata": {
    "colab_type": "text",
    "id": "2NSXs9iSi0dU"
   },
   "source": [
    "\n",
    "*  **Country (region)** Name of the country.\n",
    "*  **Ladder** Cantril Ladder is a measure of life satisfaction.\n",
    "*  **SD of Ladder** Standard deviation of the ladder.\n",
    "*  **Positive affect** Measure of positive emotion.\n",
    "*  **Negative affect** Measure of negative emotion.\n",
    "*  **Social support** The extent to which Social support contributed to the calculation of the Happiness Score.\n",
    "*  **Freedom** The extent to which Freedom contributed to the calculation of the Happiness Score.\n",
    "*  **Corruption** The extent to which Perception of Corruption contributes to Happiness Score.\n",
    "*  **Generosity** The extent to which Generosity contributed to the calculation of the Happiness Score.\n",
    "*  **Log of GDP per capita** The extent to which GDP contributes to the calculation of the Happiness Score.\n",
    "*  **Healthy life expectancy** The extent to which Life expectancy contributed to the calculation of the Happiness Score."
   ]
  },
  {
   "cell_type": "markdown",
   "metadata": {
    "colab_type": "text",
    "id": "23plwhw1j0ba"
   },
   "source": [
    "Посмотреть первые несколько рядов таблицы"
   ]
  },
  {
   "cell_type": "code",
   "execution_count": 5,
   "metadata": {
    "colab": {},
    "colab_type": "code",
    "id": "QCIq_bWfj7IG"
   },
   "outputs": [
    {
     "data": {
      "text/html": [
       "<div>\n",
       "<style scoped>\n",
       "    .dataframe tbody tr th:only-of-type {\n",
       "        vertical-align: middle;\n",
       "    }\n",
       "\n",
       "    .dataframe tbody tr th {\n",
       "        vertical-align: top;\n",
       "    }\n",
       "\n",
       "    .dataframe thead th {\n",
       "        text-align: right;\n",
       "    }\n",
       "</style>\n",
       "<table border=\"1\" class=\"dataframe\">\n",
       "  <thead>\n",
       "    <tr style=\"text-align: right;\">\n",
       "      <th></th>\n",
       "      <th>Country (region)</th>\n",
       "      <th>Ladder</th>\n",
       "      <th>SD of Ladder</th>\n",
       "      <th>Positive affect</th>\n",
       "      <th>Negative affect</th>\n",
       "      <th>Social support</th>\n",
       "      <th>Freedom</th>\n",
       "      <th>Corruption</th>\n",
       "      <th>Generosity</th>\n",
       "      <th>Log of GDP\\nper capita</th>\n",
       "      <th>Healthy life\\nexpectancy</th>\n",
       "    </tr>\n",
       "  </thead>\n",
       "  <tbody>\n",
       "    <tr>\n",
       "      <th>0</th>\n",
       "      <td>Finland</td>\n",
       "      <td>1</td>\n",
       "      <td>4</td>\n",
       "      <td>41.0</td>\n",
       "      <td>10.0</td>\n",
       "      <td>2.0</td>\n",
       "      <td>5.0</td>\n",
       "      <td>4.0</td>\n",
       "      <td>47.0</td>\n",
       "      <td>22.0</td>\n",
       "      <td>27.0</td>\n",
       "    </tr>\n",
       "    <tr>\n",
       "      <th>1</th>\n",
       "      <td>Denmark</td>\n",
       "      <td>2</td>\n",
       "      <td>13</td>\n",
       "      <td>24.0</td>\n",
       "      <td>26.0</td>\n",
       "      <td>4.0</td>\n",
       "      <td>6.0</td>\n",
       "      <td>3.0</td>\n",
       "      <td>22.0</td>\n",
       "      <td>14.0</td>\n",
       "      <td>23.0</td>\n",
       "    </tr>\n",
       "    <tr>\n",
       "      <th>2</th>\n",
       "      <td>Norway</td>\n",
       "      <td>3</td>\n",
       "      <td>8</td>\n",
       "      <td>16.0</td>\n",
       "      <td>29.0</td>\n",
       "      <td>3.0</td>\n",
       "      <td>3.0</td>\n",
       "      <td>8.0</td>\n",
       "      <td>11.0</td>\n",
       "      <td>7.0</td>\n",
       "      <td>12.0</td>\n",
       "    </tr>\n",
       "    <tr>\n",
       "      <th>3</th>\n",
       "      <td>Iceland</td>\n",
       "      <td>4</td>\n",
       "      <td>9</td>\n",
       "      <td>3.0</td>\n",
       "      <td>3.0</td>\n",
       "      <td>1.0</td>\n",
       "      <td>7.0</td>\n",
       "      <td>45.0</td>\n",
       "      <td>3.0</td>\n",
       "      <td>15.0</td>\n",
       "      <td>13.0</td>\n",
       "    </tr>\n",
       "    <tr>\n",
       "      <th>4</th>\n",
       "      <td>Netherlands</td>\n",
       "      <td>5</td>\n",
       "      <td>1</td>\n",
       "      <td>12.0</td>\n",
       "      <td>25.0</td>\n",
       "      <td>15.0</td>\n",
       "      <td>19.0</td>\n",
       "      <td>12.0</td>\n",
       "      <td>7.0</td>\n",
       "      <td>12.0</td>\n",
       "      <td>18.0</td>\n",
       "    </tr>\n",
       "  </tbody>\n",
       "</table>\n",
       "</div>"
      ],
      "text/plain": [
       "  Country (region)  Ladder  SD of Ladder  Positive affect  Negative affect  \\\n",
       "0          Finland       1             4             41.0             10.0   \n",
       "1          Denmark       2            13             24.0             26.0   \n",
       "2           Norway       3             8             16.0             29.0   \n",
       "3          Iceland       4             9              3.0              3.0   \n",
       "4      Netherlands       5             1             12.0             25.0   \n",
       "\n",
       "   Social support  Freedom  Corruption  Generosity  Log of GDP\\nper capita  \\\n",
       "0             2.0      5.0         4.0        47.0                    22.0   \n",
       "1             4.0      6.0         3.0        22.0                    14.0   \n",
       "2             3.0      3.0         8.0        11.0                     7.0   \n",
       "3             1.0      7.0        45.0         3.0                    15.0   \n",
       "4            15.0     19.0        12.0         7.0                    12.0   \n",
       "\n",
       "   Healthy life\\nexpectancy  \n",
       "0                      27.0  \n",
       "1                      23.0  \n",
       "2                      12.0  \n",
       "3                      13.0  \n",
       "4                      18.0  "
      ]
     },
     "execution_count": 5,
     "metadata": {},
     "output_type": "execute_result"
    }
   ],
   "source": [
    "df.head()"
   ]
  },
  {
   "cell_type": "markdown",
   "metadata": {
    "colab_type": "text",
    "id": "XCFa8CtdjrqJ"
   },
   "source": [
    "Построить частотный график для двух параметров: Freedom и positive affect. Какое это распределение?"
   ]
  },
  {
   "cell_type": "code",
   "execution_count": 42,
   "metadata": {
    "colab": {},
    "colab_type": "code",
    "id": "Ia4zd3G2kUEI"
   },
   "outputs": [],
   "source": [
    "freedom = df['Freedom']\n",
    "positive_affect = df['Positive affect']\n"
   ]
  },
  {
   "cell_type": "code",
   "execution_count": 45,
   "metadata": {},
   "outputs": [
    {
     "data": {
      "image/png": "[encoded data removed]",
      "text/plain": [
       "<Figure size 432x288 with 1 Axes>"
      ]
     },
     "metadata": {
      "needs_background": "light"
     },
     "output_type": "display_data"
    }
   ],
   "source": [
    "# plt.hist - строит частотный график выборки, разбивая значения выборки на равные интервалы\n",
    "n, bins, patches = plt.hist(df['Freedom'], 200, facecolor='g')\n",
    "\n",
    "plt.xlabel('freedom')\n",
    "plt.ylabel('frequency')\n",
    "plt.title('Частотный график Freedom (разбиение интервала по 200 элементов)')\n",
    "plt.grid(True)\n",
    "plt.show()"
   ]
  },
  {
   "cell_type": "code",
   "execution_count": 44,
   "metadata": {},
   "outputs": [
    {
     "data": {
      "image/png": "[encoded data removed]",
      "text/plain": [
       "<Figure size 432x288 with 1 Axes>"
      ]
     },
     "metadata": {
      "needs_background": "light"
     },
     "output_type": "display_data"
    }
   ],
   "source": [
    "n, bins, patches = plt.hist(df['Positive affect'], 200, facecolor='g')\n",
    "\n",
    "plt.xlabel('Positive affect')\n",
    "plt.ylabel('frequency')\n",
    "plt.title('Частотный график Positive affect (разбиение интервала по 200 элементов)')\n",
    "plt.grid(True)\n",
    "plt.show()"
   ]
  },
  {
   "cell_type": "markdown",
   "metadata": {},
   "source": [
    "Это равномерное распределение"
   ]
  },
  {
   "cell_type": "markdown",
   "metadata": {
    "colab_type": "text",
    "id": "nBwpKop7j8HH"
   },
   "source": [
    "Найти медиану, моду, математическое ожидание, стандартное отклонение,  дисперсию, минимум и максимум, найти выбросы (если есть), размах для колонки Freedom"
   ]
  },
  {
   "cell_type": "code",
   "execution_count": 46,
   "metadata": {
    "colab": {},
    "colab_type": "code",
    "id": "yjqwOGyskPXw"
   },
   "outputs": [
    {
     "data": {
      "text/plain": [
       "78.82857142857142"
      ]
     },
     "execution_count": 46,
     "metadata": {},
     "output_type": "execute_result"
    }
   ],
   "source": [
    "# Математичесоке ожидание (среднее значение случайной величины)\n",
    "df1 = df.dropna()\n",
    "statistics.mean(df1['Freedom'])"
   ]
  },
  {
   "cell_type": "code",
   "execution_count": 47,
   "metadata": {},
   "outputs": [
    {
     "name": "stdout",
     "output_type": "stream",
     "text": [
      "Медиана:  79.5\n"
     ]
    }
   ],
   "source": [
    "# Медиана\n",
    "print('Медиана: ', statistics.median(df1['Freedom']))"
   ]
  },
  {
   "cell_type": "code",
   "execution_count": 48,
   "metadata": {},
   "outputs": [
    {
     "ename": "StatisticsError",
     "evalue": "no unique mode; found 156 equally common values",
     "output_type": "error",
     "traceback": [
      "\u001b[1;31m---------------------------------------------------------------------------\u001b[0m",
      "\u001b[1;31mStatisticsError\u001b[0m                           Traceback (most recent call last)",
      "\u001b[1;32m<ipython-input-48-517765abea8b>\u001b[0m in \u001b[0;36m<module>\u001b[1;34m\u001b[0m\n\u001b[1;32m----> 1\u001b[1;33m \u001b[0mprint\u001b[0m\u001b[1;33m(\u001b[0m\u001b[1;34m'Значение моды: '\u001b[0m\u001b[1;33m,\u001b[0m \u001b[0mstatistics\u001b[0m\u001b[1;33m.\u001b[0m\u001b[0mmode\u001b[0m\u001b[1;33m(\u001b[0m\u001b[0mdf\u001b[0m\u001b[1;33m[\u001b[0m\u001b[1;34m'Freedom'\u001b[0m\u001b[1;33m]\u001b[0m\u001b[1;33m)\u001b[0m\u001b[1;33m)\u001b[0m\u001b[1;33m\u001b[0m\u001b[1;33m\u001b[0m\u001b[0m\n\u001b[0m",
      "\u001b[1;32m~\\anaconda3\\lib\\statistics.py\u001b[0m in \u001b[0;36mmode\u001b[1;34m(data)\u001b[0m\n\u001b[0;32m    504\u001b[0m     \u001b[1;32melif\u001b[0m \u001b[0mtable\u001b[0m\u001b[1;33m:\u001b[0m\u001b[1;33m\u001b[0m\u001b[1;33m\u001b[0m\u001b[0m\n\u001b[0;32m    505\u001b[0m         raise StatisticsError(\n\u001b[1;32m--> 506\u001b[1;33m                 \u001b[1;34m'no unique mode; found %d equally common values'\u001b[0m \u001b[1;33m%\u001b[0m \u001b[0mlen\u001b[0m\u001b[1;33m(\u001b[0m\u001b[0mtable\u001b[0m\u001b[1;33m)\u001b[0m\u001b[1;33m\u001b[0m\u001b[1;33m\u001b[0m\u001b[0m\n\u001b[0m\u001b[0;32m    507\u001b[0m                 )\n\u001b[0;32m    508\u001b[0m     \u001b[1;32melse\u001b[0m\u001b[1;33m:\u001b[0m\u001b[1;33m\u001b[0m\u001b[1;33m\u001b[0m\u001b[0m\n",
      "\u001b[1;31mStatisticsError\u001b[0m: no unique mode; found 156 equally common values"
     ]
    }
   ],
   "source": [
    "print('Значение моды: ', statistics.mode(df['Freedom']))"
   ]
  },
  {
   "cell_type": "markdown",
   "metadata": {
    "colab_type": "text",
    "id": "9pkdmtzkA3aH"
   },
   "source": [
    "Почему нельзя найти моду?"
   ]
  },
  {
   "cell_type": "markdown",
   "metadata": {
    "colab": {},
    "colab_type": "code",
    "id": "dWmqZe7XA6Sx"
   },
   "source": [
    "Мода - значение, которое наиболее часто встречается в выборке, а в данном случае все значения уникальны"
   ]
  },
  {
   "cell_type": "code",
   "execution_count": 49,
   "metadata": {},
   "outputs": [
    {
     "data": {
      "text/plain": [
       "1.0"
      ]
     },
     "execution_count": 49,
     "metadata": {},
     "output_type": "execute_result"
    }
   ],
   "source": [
    "# Минимум\n",
    "min(freedom)"
   ]
  },
  {
   "cell_type": "code",
   "execution_count": 50,
   "metadata": {},
   "outputs": [
    {
     "data": {
      "text/plain": [
       "155.0"
      ]
     },
     "execution_count": 50,
     "metadata": {},
     "output_type": "execute_result"
    }
   ],
   "source": [
    "# Максимум\n",
    "max(freedom)"
   ]
  },
  {
   "cell_type": "code",
   "execution_count": 51,
   "metadata": {},
   "outputs": [
    {
     "data": {
      "text/plain": [
       "44.9475794449399"
      ]
     },
     "execution_count": 51,
     "metadata": {},
     "output_type": "execute_result"
    }
   ],
   "source": [
    "# Стандартное отклонение\n",
    "statistics.pstdev(df1['Freedom'])"
   ]
  },
  {
   "cell_type": "code",
   "execution_count": 52,
   "metadata": {},
   "outputs": [
    {
     "data": {
      "text/plain": [
       "2020.2848979591836"
      ]
     },
     "execution_count": 52,
     "metadata": {},
     "output_type": "execute_result"
    }
   ],
   "source": [
    "# Дисперсия\n",
    "statistics.pvariance(df1['Freedom'])"
   ]
  },
  {
   "cell_type": "code",
   "execution_count": 53,
   "metadata": {},
   "outputs": [
    {
     "data": {
      "text/plain": [
       "1"
      ]
     },
     "execution_count": 53,
     "metadata": {},
     "output_type": "execute_result"
    }
   ],
   "source": [
    "# Выбросы\n",
    "df['Freedom'].isnull().sum() # имеются ли отсутствующие значения"
   ]
  },
  {
   "cell_type": "code",
   "execution_count": 54,
   "metadata": {},
   "outputs": [
    {
     "data": {
      "image/png": "[encoded data removed]",
      "text/plain": [
       "<Figure size 432x288 with 1 Axes>"
      ]
     },
     "metadata": {
      "needs_background": "light"
     },
     "output_type": "display_data"
    }
   ],
   "source": [
    "fig, ax = plt.subplots() # есть ли выбросы по значениям\n",
    "ax.scatter(df['Freedom'], df['Ladder'], c='red', alpha=0.3, edgecolors='none')\n",
    "\n",
    "ax.grid(True)\n",
    "plt.xlabel('Freedom')\n",
    "plt.ylabel('Ladder')\n",
    "plt.show()"
   ]
  },
  {
   "cell_type": "code",
   "execution_count": 55,
   "metadata": {},
   "outputs": [
    {
     "name": "stdout",
     "output_type": "stream",
     "text": [
      "154.0\n"
     ]
    }
   ],
   "source": [
    "# Размах\n",
    "freedom_range = max(freedom) - min(freedom)\n",
    "print(freedom_range)"
   ]
  },
  {
   "cell_type": "markdown",
   "metadata": {
    "colab_type": "text",
    "id": "U-7gpfzukf9l"
   },
   "source": [
    "Посмотреть корреляцию между Freedom и positive affect (графически и математически). Графически - plt.scatter, математически - посчитать коэффициент Пирсона. О чем говорит знак коэффициента?"
   ]
  },
  {
   "cell_type": "code",
   "execution_count": 56,
   "metadata": {
    "colab": {},
    "colab_type": "code",
    "id": "mHKzz4H_kmto"
   },
   "outputs": [
    {
     "data": {
      "text/plain": [
       "<matplotlib.collections.PathCollection at 0x203e7506048>"
      ]
     },
     "execution_count": 56,
     "metadata": {},
     "output_type": "execute_result"
    },
    {
     "data": {
      "image/png": "[encoded data removed]",
      "text/plain": [
       "<Figure size 432x288 with 1 Axes>"
      ]
     },
     "metadata": {
      "needs_background": "light"
     },
     "output_type": "display_data"
    }
   ],
   "source": [
    "plt.xlabel('выборка Freedom')\n",
    "plt.ylabel('выборка Positive affect')\n",
    "plt.title('Точечный график зависимости двух выборок')\n",
    "plt.grid(True)\n",
    "plt.scatter(freedom, positive_affect, marker='.')"
   ]
  },
  {
   "cell_type": "code",
   "execution_count": 60,
   "metadata": {},
   "outputs": [
    {
     "name": "stdout",
     "output_type": "stream",
     "text": [
      "Коэффициент корреляции Пирсона: 0.696567045809068\n"
     ]
    }
   ],
   "source": [
    "from scipy.stats import pearsonr\n",
    "corr, p_value = pearsonr(df1['Freedom'], df1['Positive affect'])\n",
    "print('Коэффициент корреляции Пирсона:', corr)"
   ]
  },
  {
   "cell_type": "markdown",
   "metadata": {},
   "source": [
    "О чем говорит знак коэффициента? \n",
    "\n",
    "Положительные значения - прямая взаимосвязь между показателями, а отрицательные значения - обратная взаимосвязь между ними. В нашем случае, чем больше значение Freedom, тем больше значение Positive affect"
   ]
  },
  {
   "cell_type": "markdown",
   "metadata": {
    "colab_type": "text",
    "id": "D6nsF28EksAu"
   },
   "source": [
    "Нормализовать данные колонки Freedom (централизация + масштабирование)"
   ]
  },
  {
   "cell_type": "code",
   "execution_count": 20,
   "metadata": {
    "colab": {},
    "colab_type": "code",
    "id": "-OxSDHuXkywQ"
   },
   "outputs": [
    {
     "name": "stdout",
     "output_type": "stream",
     "text": [
      "6.496390726949487e-15\n"
     ]
    }
   ],
   "source": [
    "freedom1 = df1['Freedom']\n",
    "freedom_center = freedom1 - statistics.mean(freedom1)\n",
    "print(statistics.mean(freedom_center))"
   ]
  },
  {
   "cell_type": "code",
   "execution_count": 21,
   "metadata": {},
   "outputs": [
    {
     "data": {
      "text/plain": [
       "-77.82857142857142"
      ]
     },
     "execution_count": 21,
     "metadata": {},
     "output_type": "execute_result"
    }
   ],
   "source": [
    "min(freedom_center)"
   ]
  },
  {
   "cell_type": "code",
   "execution_count": 22,
   "metadata": {},
   "outputs": [
    {
     "data": {
      "text/plain": [
       "76.17142857142858"
      ]
     },
     "execution_count": 22,
     "metadata": {},
     "output_type": "execute_result"
    }
   ],
   "source": [
    "max(freedom_center)"
   ]
  },
  {
   "cell_type": "code",
   "execution_count": 23,
   "metadata": {},
   "outputs": [
    {
     "name": "stdout",
     "output_type": "stream",
     "text": [
      "[-1.]\n",
      "[1.]\n"
     ]
    }
   ],
   "source": [
    "from sklearn import preprocessing\n",
    "min_max_scaler = preprocessing.MinMaxScaler(feature_range=(-1,1))\n",
    "\n",
    "freedom_norm = min_max_scaler.fit_transform(np.array(freedom_center).reshape(-1, 1))\n",
    "print(min(freedom_norm))\n",
    "print(max(freedom_norm))"
   ]
  },
  {
   "cell_type": "markdown",
   "metadata": {
    "colab_type": "text",
    "id": "4eOPS6fpkzKO"
   },
   "source": [
    "Построить матрицу корреляций для всех колонок таблицы"
   ]
  },
  {
   "cell_type": "code",
   "execution_count": 24,
   "metadata": {
    "colab": {},
    "colab_type": "code",
    "id": "M4eCTmwtlCzY"
   },
   "outputs": [
    {
     "data": {
      "image/png": "[encoded data removed]",
      "text/plain": [
       "<Figure size 576x576 with 2 Axes>"
      ]
     },
     "metadata": {
      "needs_background": "light"
     },
     "output_type": "display_data"
    }
   ],
   "source": [
    "import seaborn as sns\n",
    "sns.heatmap(df.corr(),annot=True,cmap='RdYlGn',linewidths=0.2) #data.corr()-->матрица корреляций\n",
    "# gcf() - получение текущей фигуры\n",
    "fig=plt.gcf()\n",
    "# set_size_inches() - установить размер фигуры\n",
    "fig.set_size_inches(8,8)\n",
    "plt.show()"
   ]
  },
  {
   "cell_type": "markdown",
   "metadata": {
    "colab_type": "text",
    "id": "RAbZRTRG2Ci0"
   },
   "source": [
    "Загрузить таблицу цен на авокадо: "
   ]
  },
  {
   "cell_type": "code",
   "execution_count": 66,
   "metadata": {
    "colab": {
     "base_uri": "https://localhost:8080/",
     "height": 210
    },
    "colab_type": "code",
    "id": "gmgMOe_e2H-_",
    "outputId": "660725cd-b466-4ee4-f374-6f0d94c589ef"
   },
   "outputs": [
    {
     "data": {
      "text/html": [
       "<div>\n",
       "<style scoped>\n",
       "    .dataframe tbody tr th:only-of-type {\n",
       "        vertical-align: middle;\n",
       "    }\n",
       "\n",
       "    .dataframe tbody tr th {\n",
       "        vertical-align: top;\n",
       "    }\n",
       "\n",
       "    .dataframe thead th {\n",
       "        text-align: right;\n",
       "    }\n",
       "</style>\n",
       "<table border=\"1\" class=\"dataframe\">\n",
       "  <thead>\n",
       "    <tr style=\"text-align: right;\">\n",
       "      <th></th>\n",
       "      <th>Unnamed: 0</th>\n",
       "      <th>Date</th>\n",
       "      <th>AveragePrice</th>\n",
       "      <th>Total Volume</th>\n",
       "      <th>4046</th>\n",
       "      <th>4225</th>\n",
       "      <th>4770</th>\n",
       "      <th>Total Bags</th>\n",
       "      <th>Small Bags</th>\n",
       "      <th>Large Bags</th>\n",
       "      <th>XLarge Bags</th>\n",
       "      <th>type</th>\n",
       "      <th>year</th>\n",
       "      <th>region</th>\n",
       "    </tr>\n",
       "  </thead>\n",
       "  <tbody>\n",
       "    <tr>\n",
       "      <th>0</th>\n",
       "      <td>0</td>\n",
       "      <td>2015-12-27</td>\n",
       "      <td>1.33</td>\n",
       "      <td>64236.62</td>\n",
       "      <td>1036.74</td>\n",
       "      <td>54454.85</td>\n",
       "      <td>48.16</td>\n",
       "      <td>8696.87</td>\n",
       "      <td>8603.62</td>\n",
       "      <td>93.25</td>\n",
       "      <td>0.00</td>\n",
       "      <td>conventional</td>\n",
       "      <td>2015</td>\n",
       "      <td>Albany</td>\n",
       "    </tr>\n",
       "    <tr>\n",
       "      <th>1</th>\n",
       "      <td>1</td>\n",
       "      <td>2015-12-20</td>\n",
       "      <td>1.35</td>\n",
       "      <td>54876.98</td>\n",
       "      <td>674.28</td>\n",
       "      <td>44638.81</td>\n",
       "      <td>58.33</td>\n",
       "      <td>9505.56</td>\n",
       "      <td>9408.07</td>\n",
       "      <td>97.49</td>\n",
       "      <td>0.00</td>\n",
       "      <td>conventional</td>\n",
       "      <td>2015</td>\n",
       "      <td>Albany</td>\n",
       "    </tr>\n",
       "    <tr>\n",
       "      <th>2</th>\n",
       "      <td>2</td>\n",
       "      <td>2015-12-13</td>\n",
       "      <td>0.93</td>\n",
       "      <td>118220.22</td>\n",
       "      <td>794.70</td>\n",
       "      <td>109149.67</td>\n",
       "      <td>130.50</td>\n",
       "      <td>8145.35</td>\n",
       "      <td>8042.21</td>\n",
       "      <td>103.14</td>\n",
       "      <td>0.00</td>\n",
       "      <td>conventional</td>\n",
       "      <td>2015</td>\n",
       "      <td>Albany</td>\n",
       "    </tr>\n",
       "    <tr>\n",
       "      <th>3</th>\n",
       "      <td>3</td>\n",
       "      <td>2015-12-06</td>\n",
       "      <td>1.08</td>\n",
       "      <td>78992.15</td>\n",
       "      <td>1132.00</td>\n",
       "      <td>71976.41</td>\n",
       "      <td>72.58</td>\n",
       "      <td>5811.16</td>\n",
       "      <td>5677.40</td>\n",
       "      <td>133.76</td>\n",
       "      <td>0.00</td>\n",
       "      <td>conventional</td>\n",
       "      <td>2015</td>\n",
       "      <td>Albany</td>\n",
       "    </tr>\n",
       "    <tr>\n",
       "      <th>4</th>\n",
       "      <td>4</td>\n",
       "      <td>2015-11-29</td>\n",
       "      <td>1.28</td>\n",
       "      <td>51039.60</td>\n",
       "      <td>941.48</td>\n",
       "      <td>43838.39</td>\n",
       "      <td>75.78</td>\n",
       "      <td>6183.95</td>\n",
       "      <td>5986.26</td>\n",
       "      <td>197.69</td>\n",
       "      <td>0.00</td>\n",
       "      <td>conventional</td>\n",
       "      <td>2015</td>\n",
       "      <td>Albany</td>\n",
       "    </tr>\n",
       "    <tr>\n",
       "      <th>5</th>\n",
       "      <td>5</td>\n",
       "      <td>2015-11-22</td>\n",
       "      <td>1.26</td>\n",
       "      <td>55979.78</td>\n",
       "      <td>1184.27</td>\n",
       "      <td>48067.99</td>\n",
       "      <td>43.61</td>\n",
       "      <td>6683.91</td>\n",
       "      <td>6556.47</td>\n",
       "      <td>127.44</td>\n",
       "      <td>0.00</td>\n",
       "      <td>conventional</td>\n",
       "      <td>2015</td>\n",
       "      <td>Albany</td>\n",
       "    </tr>\n",
       "    <tr>\n",
       "      <th>6</th>\n",
       "      <td>6</td>\n",
       "      <td>2015-11-15</td>\n",
       "      <td>0.99</td>\n",
       "      <td>83453.76</td>\n",
       "      <td>1368.92</td>\n",
       "      <td>73672.72</td>\n",
       "      <td>93.26</td>\n",
       "      <td>8318.86</td>\n",
       "      <td>8196.81</td>\n",
       "      <td>122.05</td>\n",
       "      <td>0.00</td>\n",
       "      <td>conventional</td>\n",
       "      <td>2015</td>\n",
       "      <td>Albany</td>\n",
       "    </tr>\n",
       "    <tr>\n",
       "      <th>7</th>\n",
       "      <td>7</td>\n",
       "      <td>2015-11-08</td>\n",
       "      <td>0.98</td>\n",
       "      <td>109428.33</td>\n",
       "      <td>703.75</td>\n",
       "      <td>101815.36</td>\n",
       "      <td>80.00</td>\n",
       "      <td>6829.22</td>\n",
       "      <td>6266.85</td>\n",
       "      <td>562.37</td>\n",
       "      <td>0.00</td>\n",
       "      <td>conventional</td>\n",
       "      <td>2015</td>\n",
       "      <td>Albany</td>\n",
       "    </tr>\n",
       "    <tr>\n",
       "      <th>8</th>\n",
       "      <td>8</td>\n",
       "      <td>2015-11-01</td>\n",
       "      <td>1.02</td>\n",
       "      <td>99811.42</td>\n",
       "      <td>1022.15</td>\n",
       "      <td>87315.57</td>\n",
       "      <td>85.34</td>\n",
       "      <td>11388.36</td>\n",
       "      <td>11104.53</td>\n",
       "      <td>283.83</td>\n",
       "      <td>0.00</td>\n",
       "      <td>conventional</td>\n",
       "      <td>2015</td>\n",
       "      <td>Albany</td>\n",
       "    </tr>\n",
       "    <tr>\n",
       "      <th>9</th>\n",
       "      <td>9</td>\n",
       "      <td>2015-10-25</td>\n",
       "      <td>1.07</td>\n",
       "      <td>74338.76</td>\n",
       "      <td>842.40</td>\n",
       "      <td>64757.44</td>\n",
       "      <td>113.00</td>\n",
       "      <td>8625.92</td>\n",
       "      <td>8061.47</td>\n",
       "      <td>564.45</td>\n",
       "      <td>0.00</td>\n",
       "      <td>conventional</td>\n",
       "      <td>2015</td>\n",
       "      <td>Albany</td>\n",
       "    </tr>\n",
       "    <tr>\n",
       "      <th>10</th>\n",
       "      <td>10</td>\n",
       "      <td>2015-10-18</td>\n",
       "      <td>1.12</td>\n",
       "      <td>84843.44</td>\n",
       "      <td>924.86</td>\n",
       "      <td>75595.85</td>\n",
       "      <td>117.07</td>\n",
       "      <td>8205.66</td>\n",
       "      <td>7877.86</td>\n",
       "      <td>327.80</td>\n",
       "      <td>0.00</td>\n",
       "      <td>conventional</td>\n",
       "      <td>2015</td>\n",
       "      <td>Albany</td>\n",
       "    </tr>\n",
       "    <tr>\n",
       "      <th>11</th>\n",
       "      <td>11</td>\n",
       "      <td>2015-10-11</td>\n",
       "      <td>1.28</td>\n",
       "      <td>64489.17</td>\n",
       "      <td>1582.03</td>\n",
       "      <td>52677.92</td>\n",
       "      <td>105.32</td>\n",
       "      <td>10123.90</td>\n",
       "      <td>9866.27</td>\n",
       "      <td>257.63</td>\n",
       "      <td>0.00</td>\n",
       "      <td>conventional</td>\n",
       "      <td>2015</td>\n",
       "      <td>Albany</td>\n",
       "    </tr>\n",
       "    <tr>\n",
       "      <th>12</th>\n",
       "      <td>12</td>\n",
       "      <td>2015-10-04</td>\n",
       "      <td>1.31</td>\n",
       "      <td>61007.10</td>\n",
       "      <td>2268.32</td>\n",
       "      <td>49880.67</td>\n",
       "      <td>101.36</td>\n",
       "      <td>8756.75</td>\n",
       "      <td>8379.98</td>\n",
       "      <td>376.77</td>\n",
       "      <td>0.00</td>\n",
       "      <td>conventional</td>\n",
       "      <td>2015</td>\n",
       "      <td>Albany</td>\n",
       "    </tr>\n",
       "    <tr>\n",
       "      <th>13</th>\n",
       "      <td>13</td>\n",
       "      <td>2015-09-27</td>\n",
       "      <td>0.99</td>\n",
       "      <td>106803.39</td>\n",
       "      <td>1204.88</td>\n",
       "      <td>99409.21</td>\n",
       "      <td>154.84</td>\n",
       "      <td>6034.46</td>\n",
       "      <td>5888.87</td>\n",
       "      <td>145.59</td>\n",
       "      <td>0.00</td>\n",
       "      <td>conventional</td>\n",
       "      <td>2015</td>\n",
       "      <td>Albany</td>\n",
       "    </tr>\n",
       "    <tr>\n",
       "      <th>14</th>\n",
       "      <td>14</td>\n",
       "      <td>2015-09-20</td>\n",
       "      <td>1.33</td>\n",
       "      <td>69759.01</td>\n",
       "      <td>1028.03</td>\n",
       "      <td>59313.12</td>\n",
       "      <td>150.50</td>\n",
       "      <td>9267.36</td>\n",
       "      <td>8489.10</td>\n",
       "      <td>778.26</td>\n",
       "      <td>0.00</td>\n",
       "      <td>conventional</td>\n",
       "      <td>2015</td>\n",
       "      <td>Albany</td>\n",
       "    </tr>\n",
       "    <tr>\n",
       "      <th>15</th>\n",
       "      <td>15</td>\n",
       "      <td>2015-09-13</td>\n",
       "      <td>1.28</td>\n",
       "      <td>76111.27</td>\n",
       "      <td>985.73</td>\n",
       "      <td>65696.86</td>\n",
       "      <td>142.00</td>\n",
       "      <td>9286.68</td>\n",
       "      <td>8665.19</td>\n",
       "      <td>621.49</td>\n",
       "      <td>0.00</td>\n",
       "      <td>conventional</td>\n",
       "      <td>2015</td>\n",
       "      <td>Albany</td>\n",
       "    </tr>\n",
       "    <tr>\n",
       "      <th>16</th>\n",
       "      <td>16</td>\n",
       "      <td>2015-09-06</td>\n",
       "      <td>1.11</td>\n",
       "      <td>99172.96</td>\n",
       "      <td>879.45</td>\n",
       "      <td>90062.62</td>\n",
       "      <td>240.79</td>\n",
       "      <td>7990.10</td>\n",
       "      <td>7762.87</td>\n",
       "      <td>227.23</td>\n",
       "      <td>0.00</td>\n",
       "      <td>conventional</td>\n",
       "      <td>2015</td>\n",
       "      <td>Albany</td>\n",
       "    </tr>\n",
       "    <tr>\n",
       "      <th>17</th>\n",
       "      <td>17</td>\n",
       "      <td>2015-08-30</td>\n",
       "      <td>1.07</td>\n",
       "      <td>105693.84</td>\n",
       "      <td>689.01</td>\n",
       "      <td>94362.67</td>\n",
       "      <td>335.43</td>\n",
       "      <td>10306.73</td>\n",
       "      <td>10218.93</td>\n",
       "      <td>87.80</td>\n",
       "      <td>0.00</td>\n",
       "      <td>conventional</td>\n",
       "      <td>2015</td>\n",
       "      <td>Albany</td>\n",
       "    </tr>\n",
       "    <tr>\n",
       "      <th>18</th>\n",
       "      <td>18</td>\n",
       "      <td>2015-08-23</td>\n",
       "      <td>1.34</td>\n",
       "      <td>79992.09</td>\n",
       "      <td>733.16</td>\n",
       "      <td>67933.79</td>\n",
       "      <td>444.78</td>\n",
       "      <td>10880.36</td>\n",
       "      <td>10745.79</td>\n",
       "      <td>134.57</td>\n",
       "      <td>0.00</td>\n",
       "      <td>conventional</td>\n",
       "      <td>2015</td>\n",
       "      <td>Albany</td>\n",
       "    </tr>\n",
       "    <tr>\n",
       "      <th>19</th>\n",
       "      <td>19</td>\n",
       "      <td>2015-08-16</td>\n",
       "      <td>1.33</td>\n",
       "      <td>80043.78</td>\n",
       "      <td>539.65</td>\n",
       "      <td>68666.01</td>\n",
       "      <td>394.90</td>\n",
       "      <td>10443.22</td>\n",
       "      <td>10297.68</td>\n",
       "      <td>145.54</td>\n",
       "      <td>0.00</td>\n",
       "      <td>conventional</td>\n",
       "      <td>2015</td>\n",
       "      <td>Albany</td>\n",
       "    </tr>\n",
       "    <tr>\n",
       "      <th>20</th>\n",
       "      <td>20</td>\n",
       "      <td>2015-08-09</td>\n",
       "      <td>1.12</td>\n",
       "      <td>111140.93</td>\n",
       "      <td>584.63</td>\n",
       "      <td>100961.46</td>\n",
       "      <td>368.95</td>\n",
       "      <td>9225.89</td>\n",
       "      <td>9116.34</td>\n",
       "      <td>109.55</td>\n",
       "      <td>0.00</td>\n",
       "      <td>conventional</td>\n",
       "      <td>2015</td>\n",
       "      <td>Albany</td>\n",
       "    </tr>\n",
       "    <tr>\n",
       "      <th>21</th>\n",
       "      <td>21</td>\n",
       "      <td>2015-08-02</td>\n",
       "      <td>1.45</td>\n",
       "      <td>75133.10</td>\n",
       "      <td>509.94</td>\n",
       "      <td>62035.06</td>\n",
       "      <td>741.08</td>\n",
       "      <td>11847.02</td>\n",
       "      <td>11768.52</td>\n",
       "      <td>78.50</td>\n",
       "      <td>0.00</td>\n",
       "      <td>conventional</td>\n",
       "      <td>2015</td>\n",
       "      <td>Albany</td>\n",
       "    </tr>\n",
       "    <tr>\n",
       "      <th>22</th>\n",
       "      <td>22</td>\n",
       "      <td>2015-07-26</td>\n",
       "      <td>1.11</td>\n",
       "      <td>106757.10</td>\n",
       "      <td>648.75</td>\n",
       "      <td>91949.05</td>\n",
       "      <td>966.61</td>\n",
       "      <td>13192.69</td>\n",
       "      <td>13061.53</td>\n",
       "      <td>131.16</td>\n",
       "      <td>0.00</td>\n",
       "      <td>conventional</td>\n",
       "      <td>2015</td>\n",
       "      <td>Albany</td>\n",
       "    </tr>\n",
       "    <tr>\n",
       "      <th>23</th>\n",
       "      <td>23</td>\n",
       "      <td>2015-07-19</td>\n",
       "      <td>1.26</td>\n",
       "      <td>96617.00</td>\n",
       "      <td>1042.10</td>\n",
       "      <td>82049.40</td>\n",
       "      <td>2238.02</td>\n",
       "      <td>11287.48</td>\n",
       "      <td>11103.49</td>\n",
       "      <td>183.99</td>\n",
       "      <td>0.00</td>\n",
       "      <td>conventional</td>\n",
       "      <td>2015</td>\n",
       "      <td>Albany</td>\n",
       "    </tr>\n",
       "    <tr>\n",
       "      <th>24</th>\n",
       "      <td>24</td>\n",
       "      <td>2015-07-12</td>\n",
       "      <td>1.05</td>\n",
       "      <td>124055.31</td>\n",
       "      <td>672.25</td>\n",
       "      <td>94693.52</td>\n",
       "      <td>4257.64</td>\n",
       "      <td>24431.90</td>\n",
       "      <td>24290.08</td>\n",
       "      <td>108.49</td>\n",
       "      <td>33.33</td>\n",
       "      <td>conventional</td>\n",
       "      <td>2015</td>\n",
       "      <td>Albany</td>\n",
       "    </tr>\n",
       "    <tr>\n",
       "      <th>25</th>\n",
       "      <td>25</td>\n",
       "      <td>2015-07-05</td>\n",
       "      <td>1.35</td>\n",
       "      <td>109252.12</td>\n",
       "      <td>869.45</td>\n",
       "      <td>72600.55</td>\n",
       "      <td>5883.16</td>\n",
       "      <td>29898.96</td>\n",
       "      <td>29663.19</td>\n",
       "      <td>235.77</td>\n",
       "      <td>0.00</td>\n",
       "      <td>conventional</td>\n",
       "      <td>2015</td>\n",
       "      <td>Albany</td>\n",
       "    </tr>\n",
       "    <tr>\n",
       "      <th>26</th>\n",
       "      <td>26</td>\n",
       "      <td>2015-06-28</td>\n",
       "      <td>1.37</td>\n",
       "      <td>89534.81</td>\n",
       "      <td>664.23</td>\n",
       "      <td>57545.79</td>\n",
       "      <td>4662.71</td>\n",
       "      <td>26662.08</td>\n",
       "      <td>26311.76</td>\n",
       "      <td>350.32</td>\n",
       "      <td>0.00</td>\n",
       "      <td>conventional</td>\n",
       "      <td>2015</td>\n",
       "      <td>Albany</td>\n",
       "    </tr>\n",
       "    <tr>\n",
       "      <th>27</th>\n",
       "      <td>27</td>\n",
       "      <td>2015-06-21</td>\n",
       "      <td>1.27</td>\n",
       "      <td>104849.39</td>\n",
       "      <td>804.01</td>\n",
       "      <td>76688.55</td>\n",
       "      <td>5481.18</td>\n",
       "      <td>21875.65</td>\n",
       "      <td>21662.00</td>\n",
       "      <td>213.65</td>\n",
       "      <td>0.00</td>\n",
       "      <td>conventional</td>\n",
       "      <td>2015</td>\n",
       "      <td>Albany</td>\n",
       "    </tr>\n",
       "    <tr>\n",
       "      <th>28</th>\n",
       "      <td>28</td>\n",
       "      <td>2015-06-14</td>\n",
       "      <td>1.32</td>\n",
       "      <td>89631.30</td>\n",
       "      <td>850.58</td>\n",
       "      <td>55400.94</td>\n",
       "      <td>4377.19</td>\n",
       "      <td>29002.59</td>\n",
       "      <td>28343.14</td>\n",
       "      <td>659.45</td>\n",
       "      <td>0.00</td>\n",
       "      <td>conventional</td>\n",
       "      <td>2015</td>\n",
       "      <td>Albany</td>\n",
       "    </tr>\n",
       "    <tr>\n",
       "      <th>29</th>\n",
       "      <td>29</td>\n",
       "      <td>2015-06-07</td>\n",
       "      <td>1.07</td>\n",
       "      <td>122743.06</td>\n",
       "      <td>656.71</td>\n",
       "      <td>99220.82</td>\n",
       "      <td>90.32</td>\n",
       "      <td>22775.21</td>\n",
       "      <td>22314.99</td>\n",
       "      <td>460.22</td>\n",
       "      <td>0.00</td>\n",
       "      <td>conventional</td>\n",
       "      <td>2015</td>\n",
       "      <td>Albany</td>\n",
       "    </tr>\n",
       "    <tr>\n",
       "      <th>30</th>\n",
       "      <td>30</td>\n",
       "      <td>2015-05-31</td>\n",
       "      <td>1.23</td>\n",
       "      <td>95123.62</td>\n",
       "      <td>922.37</td>\n",
       "      <td>70469.69</td>\n",
       "      <td>50.55</td>\n",
       "      <td>23681.01</td>\n",
       "      <td>23222.49</td>\n",
       "      <td>458.52</td>\n",
       "      <td>0.00</td>\n",
       "      <td>conventional</td>\n",
       "      <td>2015</td>\n",
       "      <td>Albany</td>\n",
       "    </tr>\n",
       "    <tr>\n",
       "      <th>31</th>\n",
       "      <td>31</td>\n",
       "      <td>2015-05-24</td>\n",
       "      <td>1.19</td>\n",
       "      <td>101470.91</td>\n",
       "      <td>680.27</td>\n",
       "      <td>71376.81</td>\n",
       "      <td>58.70</td>\n",
       "      <td>29355.13</td>\n",
       "      <td>28761.81</td>\n",
       "      <td>593.32</td>\n",
       "      <td>0.00</td>\n",
       "      <td>conventional</td>\n",
       "      <td>2015</td>\n",
       "      <td>Albany</td>\n",
       "    </tr>\n",
       "    <tr>\n",
       "      <th>32</th>\n",
       "      <td>32</td>\n",
       "      <td>2015-05-17</td>\n",
       "      <td>1.43</td>\n",
       "      <td>109857.47</td>\n",
       "      <td>1150.55</td>\n",
       "      <td>81955.16</td>\n",
       "      <td>94.32</td>\n",
       "      <td>26657.44</td>\n",
       "      <td>26285.43</td>\n",
       "      <td>372.01</td>\n",
       "      <td>0.00</td>\n",
       "      <td>conventional</td>\n",
       "      <td>2015</td>\n",
       "      <td>Albany</td>\n",
       "    </tr>\n",
       "    <tr>\n",
       "      <th>33</th>\n",
       "      <td>33</td>\n",
       "      <td>2015-05-10</td>\n",
       "      <td>1.26</td>\n",
       "      <td>120427.91</td>\n",
       "      <td>1420.43</td>\n",
       "      <td>102000.52</td>\n",
       "      <td>185.66</td>\n",
       "      <td>16821.30</td>\n",
       "      <td>16535.55</td>\n",
       "      <td>285.75</td>\n",
       "      <td>0.00</td>\n",
       "      <td>conventional</td>\n",
       "      <td>2015</td>\n",
       "      <td>Albany</td>\n",
       "    </tr>\n",
       "    <tr>\n",
       "      <th>34</th>\n",
       "      <td>34</td>\n",
       "      <td>2015-05-03</td>\n",
       "      <td>1.20</td>\n",
       "      <td>59197.67</td>\n",
       "      <td>919.87</td>\n",
       "      <td>45490.05</td>\n",
       "      <td>217.24</td>\n",
       "      <td>12570.51</td>\n",
       "      <td>12201.95</td>\n",
       "      <td>368.56</td>\n",
       "      <td>0.00</td>\n",
       "      <td>conventional</td>\n",
       "      <td>2015</td>\n",
       "      <td>Albany</td>\n",
       "    </tr>\n",
       "    <tr>\n",
       "      <th>35</th>\n",
       "      <td>35</td>\n",
       "      <td>2015-04-26</td>\n",
       "      <td>1.22</td>\n",
       "      <td>49585.46</td>\n",
       "      <td>875.65</td>\n",
       "      <td>35841.75</td>\n",
       "      <td>89.62</td>\n",
       "      <td>12778.44</td>\n",
       "      <td>12076.83</td>\n",
       "      <td>701.61</td>\n",
       "      <td>0.00</td>\n",
       "      <td>conventional</td>\n",
       "      <td>2015</td>\n",
       "      <td>Albany</td>\n",
       "    </tr>\n",
       "    <tr>\n",
       "      <th>36</th>\n",
       "      <td>36</td>\n",
       "      <td>2015-04-19</td>\n",
       "      <td>1.19</td>\n",
       "      <td>49064.73</td>\n",
       "      <td>774.15</td>\n",
       "      <td>33941.51</td>\n",
       "      <td>47.15</td>\n",
       "      <td>14301.92</td>\n",
       "      <td>13602.97</td>\n",
       "      <td>698.95</td>\n",
       "      <td>0.00</td>\n",
       "      <td>conventional</td>\n",
       "      <td>2015</td>\n",
       "      <td>Albany</td>\n",
       "    </tr>\n",
       "    <tr>\n",
       "      <th>37</th>\n",
       "      <td>37</td>\n",
       "      <td>2015-04-12</td>\n",
       "      <td>1.13</td>\n",
       "      <td>48364.29</td>\n",
       "      <td>864.27</td>\n",
       "      <td>30374.15</td>\n",
       "      <td>21.50</td>\n",
       "      <td>17104.37</td>\n",
       "      <td>16438.49</td>\n",
       "      <td>665.88</td>\n",
       "      <td>0.00</td>\n",
       "      <td>conventional</td>\n",
       "      <td>2015</td>\n",
       "      <td>Albany</td>\n",
       "    </tr>\n",
       "    <tr>\n",
       "      <th>38</th>\n",
       "      <td>38</td>\n",
       "      <td>2015-04-05</td>\n",
       "      <td>1.16</td>\n",
       "      <td>47362.13</td>\n",
       "      <td>961.77</td>\n",
       "      <td>35577.66</td>\n",
       "      <td>93.76</td>\n",
       "      <td>10728.94</td>\n",
       "      <td>9869.16</td>\n",
       "      <td>755.61</td>\n",
       "      <td>104.17</td>\n",
       "      <td>conventional</td>\n",
       "      <td>2015</td>\n",
       "      <td>Albany</td>\n",
       "    </tr>\n",
       "    <tr>\n",
       "      <th>39</th>\n",
       "      <td>39</td>\n",
       "      <td>2015-03-29</td>\n",
       "      <td>1.02</td>\n",
       "      <td>67799.08</td>\n",
       "      <td>1402.28</td>\n",
       "      <td>58623.22</td>\n",
       "      <td>89.50</td>\n",
       "      <td>7684.08</td>\n",
       "      <td>7208.49</td>\n",
       "      <td>475.59</td>\n",
       "      <td>0.00</td>\n",
       "      <td>conventional</td>\n",
       "      <td>2015</td>\n",
       "      <td>Albany</td>\n",
       "    </tr>\n",
       "    <tr>\n",
       "      <th>40</th>\n",
       "      <td>40</td>\n",
       "      <td>2015-03-22</td>\n",
       "      <td>1.12</td>\n",
       "      <td>46346.85</td>\n",
       "      <td>2141.83</td>\n",
       "      <td>34313.56</td>\n",
       "      <td>141.80</td>\n",
       "      <td>9749.66</td>\n",
       "      <td>9252.60</td>\n",
       "      <td>497.06</td>\n",
       "      <td>0.00</td>\n",
       "      <td>conventional</td>\n",
       "      <td>2015</td>\n",
       "      <td>Albany</td>\n",
       "    </tr>\n",
       "    <tr>\n",
       "      <th>41</th>\n",
       "      <td>41</td>\n",
       "      <td>2015-03-15</td>\n",
       "      <td>1.11</td>\n",
       "      <td>43045.79</td>\n",
       "      <td>2128.26</td>\n",
       "      <td>30447.17</td>\n",
       "      <td>99.67</td>\n",
       "      <td>10370.69</td>\n",
       "      <td>9989.59</td>\n",
       "      <td>381.10</td>\n",
       "      <td>0.00</td>\n",
       "      <td>conventional</td>\n",
       "      <td>2015</td>\n",
       "      <td>Albany</td>\n",
       "    </tr>\n",
       "    <tr>\n",
       "      <th>42</th>\n",
       "      <td>42</td>\n",
       "      <td>2015-03-08</td>\n",
       "      <td>1.07</td>\n",
       "      <td>40507.36</td>\n",
       "      <td>795.68</td>\n",
       "      <td>30370.64</td>\n",
       "      <td>159.05</td>\n",
       "      <td>9181.99</td>\n",
       "      <td>8827.55</td>\n",
       "      <td>354.44</td>\n",
       "      <td>0.00</td>\n",
       "      <td>conventional</td>\n",
       "      <td>2015</td>\n",
       "      <td>Albany</td>\n",
       "    </tr>\n",
       "    <tr>\n",
       "      <th>43</th>\n",
       "      <td>43</td>\n",
       "      <td>2015-03-01</td>\n",
       "      <td>0.99</td>\n",
       "      <td>55595.74</td>\n",
       "      <td>629.46</td>\n",
       "      <td>45633.34</td>\n",
       "      <td>181.49</td>\n",
       "      <td>9151.45</td>\n",
       "      <td>8986.06</td>\n",
       "      <td>165.39</td>\n",
       "      <td>0.00</td>\n",
       "      <td>conventional</td>\n",
       "      <td>2015</td>\n",
       "      <td>Albany</td>\n",
       "    </tr>\n",
       "    <tr>\n",
       "      <th>44</th>\n",
       "      <td>44</td>\n",
       "      <td>2015-02-22</td>\n",
       "      <td>1.07</td>\n",
       "      <td>45675.05</td>\n",
       "      <td>1088.38</td>\n",
       "      <td>35056.13</td>\n",
       "      <td>151.00</td>\n",
       "      <td>9379.54</td>\n",
       "      <td>9000.16</td>\n",
       "      <td>379.38</td>\n",
       "      <td>0.00</td>\n",
       "      <td>conventional</td>\n",
       "      <td>2015</td>\n",
       "      <td>Albany</td>\n",
       "    </tr>\n",
       "    <tr>\n",
       "      <th>45</th>\n",
       "      <td>45</td>\n",
       "      <td>2015-02-15</td>\n",
       "      <td>1.06</td>\n",
       "      <td>41567.62</td>\n",
       "      <td>986.66</td>\n",
       "      <td>30045.51</td>\n",
       "      <td>222.42</td>\n",
       "      <td>10313.03</td>\n",
       "      <td>9979.87</td>\n",
       "      <td>333.16</td>\n",
       "      <td>0.00</td>\n",
       "      <td>conventional</td>\n",
       "      <td>2015</td>\n",
       "      <td>Albany</td>\n",
       "    </tr>\n",
       "    <tr>\n",
       "      <th>46</th>\n",
       "      <td>46</td>\n",
       "      <td>2015-02-08</td>\n",
       "      <td>0.99</td>\n",
       "      <td>51253.97</td>\n",
       "      <td>1357.37</td>\n",
       "      <td>39111.81</td>\n",
       "      <td>163.25</td>\n",
       "      <td>10621.54</td>\n",
       "      <td>10113.10</td>\n",
       "      <td>508.44</td>\n",
       "      <td>0.00</td>\n",
       "      <td>conventional</td>\n",
       "      <td>2015</td>\n",
       "      <td>Albany</td>\n",
       "    </tr>\n",
       "    <tr>\n",
       "      <th>47</th>\n",
       "      <td>47</td>\n",
       "      <td>2015-02-01</td>\n",
       "      <td>0.99</td>\n",
       "      <td>70873.60</td>\n",
       "      <td>1353.90</td>\n",
       "      <td>60017.20</td>\n",
       "      <td>179.32</td>\n",
       "      <td>9323.18</td>\n",
       "      <td>9170.82</td>\n",
       "      <td>152.36</td>\n",
       "      <td>0.00</td>\n",
       "      <td>conventional</td>\n",
       "      <td>2015</td>\n",
       "      <td>Albany</td>\n",
       "    </tr>\n",
       "    <tr>\n",
       "      <th>48</th>\n",
       "      <td>48</td>\n",
       "      <td>2015-01-25</td>\n",
       "      <td>1.06</td>\n",
       "      <td>45147.50</td>\n",
       "      <td>941.38</td>\n",
       "      <td>33196.16</td>\n",
       "      <td>164.14</td>\n",
       "      <td>10845.82</td>\n",
       "      <td>10103.35</td>\n",
       "      <td>742.47</td>\n",
       "      <td>0.00</td>\n",
       "      <td>conventional</td>\n",
       "      <td>2015</td>\n",
       "      <td>Albany</td>\n",
       "    </tr>\n",
       "    <tr>\n",
       "      <th>49</th>\n",
       "      <td>49</td>\n",
       "      <td>2015-01-18</td>\n",
       "      <td>1.17</td>\n",
       "      <td>44511.28</td>\n",
       "      <td>914.14</td>\n",
       "      <td>31540.32</td>\n",
       "      <td>135.77</td>\n",
       "      <td>11921.05</td>\n",
       "      <td>11651.09</td>\n",
       "      <td>269.96</td>\n",
       "      <td>0.00</td>\n",
       "      <td>conventional</td>\n",
       "      <td>2015</td>\n",
       "      <td>Albany</td>\n",
       "    </tr>\n",
       "  </tbody>\n",
       "</table>\n",
       "</div>"
      ],
      "text/plain": [
       "    Unnamed: 0        Date  AveragePrice  Total Volume     4046       4225  \\\n",
       "0            0  2015-12-27          1.33      64236.62  1036.74   54454.85   \n",
       "1            1  2015-12-20          1.35      54876.98   674.28   44638.81   \n",
       "2            2  2015-12-13          0.93     118220.22   794.70  109149.67   \n",
       "3            3  2015-12-06          1.08      78992.15  1132.00   71976.41   \n",
       "4            4  2015-11-29          1.28      51039.60   941.48   43838.39   \n",
       "5            5  2015-11-22          1.26      55979.78  1184.27   48067.99   \n",
       "6            6  2015-11-15          0.99      83453.76  1368.92   73672.72   \n",
       "7            7  2015-11-08          0.98     109428.33   703.75  101815.36   \n",
       "8            8  2015-11-01          1.02      99811.42  1022.15   87315.57   \n",
       "9            9  2015-10-25          1.07      74338.76   842.40   64757.44   \n",
       "10          10  2015-10-18          1.12      84843.44   924.86   75595.85   \n",
       "11          11  2015-10-11          1.28      64489.17  1582.03   52677.92   \n",
       "12          12  2015-10-04          1.31      61007.10  2268.32   49880.67   \n",
       "13          13  2015-09-27          0.99     106803.39  1204.88   99409.21   \n",
       "14          14  2015-09-20          1.33      69759.01  1028.03   59313.12   \n",
       "15          15  2015-09-13          1.28      76111.27   985.73   65696.86   \n",
       "16          16  2015-09-06          1.11      99172.96   879.45   90062.62   \n",
       "17          17  2015-08-30          1.07     105693.84   689.01   94362.67   \n",
       "18          18  2015-08-23          1.34      79992.09   733.16   67933.79   \n",
       "19          19  2015-08-16          1.33      80043.78   539.65   68666.01   \n",
       "20          20  2015-08-09          1.12     111140.93   584.63  100961.46   \n",
       "21          21  2015-08-02          1.45      75133.10   509.94   62035.06   \n",
       "22          22  2015-07-26          1.11     106757.10   648.75   91949.05   \n",
       "23          23  2015-07-19          1.26      96617.00  1042.10   82049.40   \n",
       "24          24  2015-07-12          1.05     124055.31   672.25   94693.52   \n",
       "25          25  2015-07-05          1.35     109252.12   869.45   72600.55   \n",
       "26          26  2015-06-28          1.37      89534.81   664.23   57545.79   \n",
       "27          27  2015-06-21          1.27     104849.39   804.01   76688.55   \n",
       "28          28  2015-06-14          1.32      89631.30   850.58   55400.94   \n",
       "29          29  2015-06-07          1.07     122743.06   656.71   99220.82   \n",
       "30          30  2015-05-31          1.23      95123.62   922.37   70469.69   \n",
       "31          31  2015-05-24          1.19     101470.91   680.27   71376.81   \n",
       "32          32  2015-05-17          1.43     109857.47  1150.55   81955.16   \n",
       "33          33  2015-05-10          1.26     120427.91  1420.43  102000.52   \n",
       "34          34  2015-05-03          1.20      59197.67   919.87   45490.05   \n",
       "35          35  2015-04-26          1.22      49585.46   875.65   35841.75   \n",
       "36          36  2015-04-19          1.19      49064.73   774.15   33941.51   \n",
       "37          37  2015-04-12          1.13      48364.29   864.27   30374.15   \n",
       "38          38  2015-04-05          1.16      47362.13   961.77   35577.66   \n",
       "39          39  2015-03-29          1.02      67799.08  1402.28   58623.22   \n",
       "40          40  2015-03-22          1.12      46346.85  2141.83   34313.56   \n",
       "41          41  2015-03-15          1.11      43045.79  2128.26   30447.17   \n",
       "42          42  2015-03-08          1.07      40507.36   795.68   30370.64   \n",
       "43          43  2015-03-01          0.99      55595.74   629.46   45633.34   \n",
       "44          44  2015-02-22          1.07      45675.05  1088.38   35056.13   \n",
       "45          45  2015-02-15          1.06      41567.62   986.66   30045.51   \n",
       "46          46  2015-02-08          0.99      51253.97  1357.37   39111.81   \n",
       "47          47  2015-02-01          0.99      70873.60  1353.90   60017.20   \n",
       "48          48  2015-01-25          1.06      45147.50   941.38   33196.16   \n",
       "49          49  2015-01-18          1.17      44511.28   914.14   31540.32   \n",
       "\n",
       "       4770  Total Bags  Small Bags  Large Bags  XLarge Bags          type  \\\n",
       "0     48.16     8696.87     8603.62       93.25         0.00  conventional   \n",
       "1     58.33     9505.56     9408.07       97.49         0.00  conventional   \n",
       "2    130.50     8145.35     8042.21      103.14         0.00  conventional   \n",
       "3     72.58     5811.16     5677.40      133.76         0.00  conventional   \n",
       "4     75.78     6183.95     5986.26      197.69         0.00  conventional   \n",
       "5     43.61     6683.91     6556.47      127.44         0.00  conventional   \n",
       "6     93.26     8318.86     8196.81      122.05         0.00  conventional   \n",
       "7     80.00     6829.22     6266.85      562.37         0.00  conventional   \n",
       "8     85.34    11388.36    11104.53      283.83         0.00  conventional   \n",
       "9    113.00     8625.92     8061.47      564.45         0.00  conventional   \n",
       "10   117.07     8205.66     7877.86      327.80         0.00  conventional   \n",
       "11   105.32    10123.90     9866.27      257.63         0.00  conventional   \n",
       "12   101.36     8756.75     8379.98      376.77         0.00  conventional   \n",
       "13   154.84     6034.46     5888.87      145.59         0.00  conventional   \n",
       "14   150.50     9267.36     8489.10      778.26         0.00  conventional   \n",
       "15   142.00     9286.68     8665.19      621.49         0.00  conventional   \n",
       "16   240.79     7990.10     7762.87      227.23         0.00  conventional   \n",
       "17   335.43    10306.73    10218.93       87.80         0.00  conventional   \n",
       "18   444.78    10880.36    10745.79      134.57         0.00  conventional   \n",
       "19   394.90    10443.22    10297.68      145.54         0.00  conventional   \n",
       "20   368.95     9225.89     9116.34      109.55         0.00  conventional   \n",
       "21   741.08    11847.02    11768.52       78.50         0.00  conventional   \n",
       "22   966.61    13192.69    13061.53      131.16         0.00  conventional   \n",
       "23  2238.02    11287.48    11103.49      183.99         0.00  conventional   \n",
       "24  4257.64    24431.90    24290.08      108.49        33.33  conventional   \n",
       "25  5883.16    29898.96    29663.19      235.77         0.00  conventional   \n",
       "26  4662.71    26662.08    26311.76      350.32         0.00  conventional   \n",
       "27  5481.18    21875.65    21662.00      213.65         0.00  conventional   \n",
       "28  4377.19    29002.59    28343.14      659.45         0.00  conventional   \n",
       "29    90.32    22775.21    22314.99      460.22         0.00  conventional   \n",
       "30    50.55    23681.01    23222.49      458.52         0.00  conventional   \n",
       "31    58.70    29355.13    28761.81      593.32         0.00  conventional   \n",
       "32    94.32    26657.44    26285.43      372.01         0.00  conventional   \n",
       "33   185.66    16821.30    16535.55      285.75         0.00  conventional   \n",
       "34   217.24    12570.51    12201.95      368.56         0.00  conventional   \n",
       "35    89.62    12778.44    12076.83      701.61         0.00  conventional   \n",
       "36    47.15    14301.92    13602.97      698.95         0.00  conventional   \n",
       "37    21.50    17104.37    16438.49      665.88         0.00  conventional   \n",
       "38    93.76    10728.94     9869.16      755.61       104.17  conventional   \n",
       "39    89.50     7684.08     7208.49      475.59         0.00  conventional   \n",
       "40   141.80     9749.66     9252.60      497.06         0.00  conventional   \n",
       "41    99.67    10370.69     9989.59      381.10         0.00  conventional   \n",
       "42   159.05     9181.99     8827.55      354.44         0.00  conventional   \n",
       "43   181.49     9151.45     8986.06      165.39         0.00  conventional   \n",
       "44   151.00     9379.54     9000.16      379.38         0.00  conventional   \n",
       "45   222.42    10313.03     9979.87      333.16         0.00  conventional   \n",
       "46   163.25    10621.54    10113.10      508.44         0.00  conventional   \n",
       "47   179.32     9323.18     9170.82      152.36         0.00  conventional   \n",
       "48   164.14    10845.82    10103.35      742.47         0.00  conventional   \n",
       "49   135.77    11921.05    11651.09      269.96         0.00  conventional   \n",
       "\n",
       "    year  region  \n",
       "0   2015  Albany  \n",
       "1   2015  Albany  \n",
       "2   2015  Albany  \n",
       "3   2015  Albany  \n",
       "4   2015  Albany  \n",
       "5   2015  Albany  \n",
       "6   2015  Albany  \n",
       "7   2015  Albany  \n",
       "8   2015  Albany  \n",
       "9   2015  Albany  \n",
       "10  2015  Albany  \n",
       "11  2015  Albany  \n",
       "12  2015  Albany  \n",
       "13  2015  Albany  \n",
       "14  2015  Albany  \n",
       "15  2015  Albany  \n",
       "16  2015  Albany  \n",
       "17  2015  Albany  \n",
       "18  2015  Albany  \n",
       "19  2015  Albany  \n",
       "20  2015  Albany  \n",
       "21  2015  Albany  \n",
       "22  2015  Albany  \n",
       "23  2015  Albany  \n",
       "24  2015  Albany  \n",
       "25  2015  Albany  \n",
       "26  2015  Albany  \n",
       "27  2015  Albany  \n",
       "28  2015  Albany  \n",
       "29  2015  Albany  \n",
       "30  2015  Albany  \n",
       "31  2015  Albany  \n",
       "32  2015  Albany  \n",
       "33  2015  Albany  \n",
       "34  2015  Albany  \n",
       "35  2015  Albany  \n",
       "36  2015  Albany  \n",
       "37  2015  Albany  \n",
       "38  2015  Albany  \n",
       "39  2015  Albany  \n",
       "40  2015  Albany  \n",
       "41  2015  Albany  \n",
       "42  2015  Albany  \n",
       "43  2015  Albany  \n",
       "44  2015  Albany  \n",
       "45  2015  Albany  \n",
       "46  2015  Albany  \n",
       "47  2015  Albany  \n",
       "48  2015  Albany  \n",
       "49  2015  Albany  "
      ]
     },
     "execution_count": 66,
     "metadata": {},
     "output_type": "execute_result"
    }
   ],
   "source": [
    "df=pd.read_csv('avocado.csv')\n",
    "# df[:3]\n",
    "df.head(50)"
   ]
  },
  {
   "cell_type": "markdown",
   "metadata": {
    "colab_type": "text",
    "id": "QmBGvAQKlkwq"
   },
   "source": [
    "Сделать частотный график колонки AveragePrice. Какое это распределение?"
   ]
  },
  {
   "cell_type": "code",
   "execution_count": 69,
   "metadata": {},
   "outputs": [
    {
     "data": {
      "text/plain": [
       "18249"
      ]
     },
     "execution_count": 69,
     "metadata": {},
     "output_type": "execute_result"
    }
   ],
   "source": [
    "len(df['AveragePrice'])"
   ]
  },
  {
   "cell_type": "code",
   "execution_count": 81,
   "metadata": {},
   "outputs": [
    {
     "data": {
      "text/plain": [
       "259"
      ]
     },
     "execution_count": 81,
     "metadata": {},
     "output_type": "execute_result"
    }
   ],
   "source": [
    "df.AveragePrice.nunique()"
   ]
  },
  {
   "cell_type": "code",
   "execution_count": 83,
   "metadata": {
    "colab": {},
    "colab_type": "code",
    "id": "Und8GJxWlqIy"
   },
   "outputs": [
    {
     "data": {
      "image/png": "[encoded data removed]",
      "text/plain": [
       "<Figure size 432x288 with 1 Axes>"
      ]
     },
     "metadata": {
      "needs_background": "light"
     },
     "output_type": "display_data"
    }
   ],
   "source": [
    "n, bins, patches = plt.hist(df['AveragePrice'], 300, facecolor='g')\n",
    "\n",
    "plt.xlabel('AveragePrice')\n",
    "plt.ylabel('frequency')\n",
    "plt.title('Частотный график AveragePrice (разбиение интервала по 300 элементов)')\n",
    "plt.grid(True)\n",
    "plt.show()"
   ]
  },
  {
   "cell_type": "markdown",
   "metadata": {},
   "source": [
    "Похоже на нормальное распределение с некоторыми отклонениями"
   ]
  },
  {
   "cell_type": "markdown",
   "metadata": {
    "colab_type": "text",
    "id": "mCi-XdIAlrD4"
   },
   "source": [
    "Найти корреляцию в следующих колонках:"
   ]
  },
  {
   "cell_type": "markdown",
   "metadata": {
    "colab_type": "text",
    "id": "zR3V0X_T1_4Y"
   },
   "source": [
    "колонкой 4046, 4225, 4770 и Average Price. Если корелляция есть (обратная или прямая), то какие выводы можно сделать?"
   ]
  },
  {
   "cell_type": "code",
   "execution_count": 35,
   "metadata": {
    "colab": {},
    "colab_type": "code",
    "id": "RkPfhTovlvtk"
   },
   "outputs": [
    {
     "data": {
      "text/plain": [
       "<matplotlib.collections.PathCollection at 0x203e7ec7e88>"
      ]
     },
     "execution_count": 35,
     "metadata": {},
     "output_type": "execute_result"
    },
    {
     "data": {
      "image/png": "[encoded data removed]",
      "text/plain": [
       "<Figure size 432x288 with 1 Axes>"
      ]
     },
     "metadata": {
      "needs_background": "light"
     },
     "output_type": "display_data"
    }
   ],
   "source": [
    "plt.xlabel('выборка  Average Price')\n",
    "plt.ylabel('выборка 4046')\n",
    "\n",
    "plt.title('Точечный график зависимости двух выборок')\n",
    "plt.grid(True)\n",
    "plt.scatter(df['AveragePrice'], df['4046'],  marker='.')"
   ]
  },
  {
   "cell_type": "code",
   "execution_count": 36,
   "metadata": {},
   "outputs": [
    {
     "data": {
      "text/plain": [
       "<matplotlib.collections.PathCollection at 0x203e7ec0dc8>"
      ]
     },
     "execution_count": 36,
     "metadata": {},
     "output_type": "execute_result"
    },
    {
     "data": {
      "image/png": "[encoded data removed]",
      "text/plain": [
       "<Figure size 432x288 with 1 Axes>"
      ]
     },
     "metadata": {
      "needs_background": "light"
     },
     "output_type": "display_data"
    }
   ],
   "source": [
    "plt.xlabel('выборка  Average Price')\n",
    "plt.ylabel('выборка 4225')\n",
    "\n",
    "plt.title('Точечный график зависимости двух выборок')\n",
    "plt.grid(True)\n",
    "plt.scatter( df['AveragePrice'], df['4225'], marker='.')"
   ]
  },
  {
   "cell_type": "code",
   "execution_count": 37,
   "metadata": {},
   "outputs": [
    {
     "data": {
      "text/plain": [
       "<matplotlib.collections.PathCollection at 0x203e80af488>"
      ]
     },
     "execution_count": 37,
     "metadata": {},
     "output_type": "execute_result"
    },
    {
     "data": {
      "image/png": "[encoded data removed]",
      "text/plain": [
       "<Figure size 432x288 with 1 Axes>"
      ]
     },
     "metadata": {
      "needs_background": "light"
     },
     "output_type": "display_data"
    }
   ],
   "source": [
    "plt.xlabel('выборка  Average Price')\n",
    "plt.ylabel('выборка 4225')\n",
    "\n",
    "plt.title('Точечный график зависимости двух выборок')\n",
    "plt.grid(True)\n",
    "plt.scatter(df['AveragePrice'], df['4770'],  marker='.')"
   ]
  },
  {
   "cell_type": "markdown",
   "metadata": {},
   "source": [
    "Есть зависимость количества купленного авокадо (всех трех видов) от цены. Зависимость нелинейная"
   ]
  },
  {
   "cell_type": "code",
   "execution_count": null,
   "metadata": {},
   "outputs": [],
   "source": []
  }
 ],
 "metadata": {
  "colab": {
   "include_colab_link": true,
   "name": "dz_1.ipynb",
   "provenance": []
  },
  "kernelspec": {
   "display_name": "Python 3",
   "language": "python",
   "name": "python3"
  },
  "language_info": {
   "codemirror_mode": {
    "name": "ipython",
    "version": 3
   },
   "file_extension": ".py",
   "mimetype": "text/x-python",
   "name": "python",
   "nbconvert_exporter": "python",
   "pygments_lexer": "ipython3",
   "version": "3.7.6"
  }
 },
 "nbformat": 4,
 "nbformat_minor": 1
}
