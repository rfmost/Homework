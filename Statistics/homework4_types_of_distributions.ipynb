{
 "cells": [
  {
   "cell_type": "markdown",
   "metadata": {},
   "source": [
    "# Домашняя работа №4"
   ]
  },
  {
   "cell_type": "markdown",
   "metadata": {
    "colab_type": "text",
    "id": "9wqpiQR2AbtX"
   },
   "source": [
    "# Виды распределений"
   ]
  },
  {
   "cell_type": "markdown",
   "metadata": {
    "colab_type": "text",
    "id": "V3N8qycM-xP9"
   },
   "source": [
    "Загрузить таблицу и построить график распределений. Найти нормальное распределение."
   ]
  },
  {
   "cell_type": "code",
   "execution_count": 1,
   "metadata": {
    "colab": {},
    "colab_type": "code",
    "id": "Zo_j9HCKCPgi"
   },
   "outputs": [],
   "source": [
    "import numpy as np\n",
    "from scipy.stats import t\n",
    "from scipy.stats import norm\n",
    "import matplotlib.pyplot as plt\n",
    "from scipy import stats\n",
    "import pandas as pd\n",
    "import io\n",
    "import requests\n",
    "import seaborn as sns\n",
    "\n",
    "%matplotlib inline"
   ]
  },
  {
   "cell_type": "markdown",
   "metadata": {
    "colab_type": "text",
    "id": "LrhPyaIACZsb"
   },
   "source": [
    "Таблица цен на дома в Бостоне"
   ]
  },
  {
   "cell_type": "markdown",
   "metadata": {
    "colab_type": "text",
    "id": "XyNNmtvIDDy3"
   },
   "source": [
    "Основные значения:\n",
    "\n",
    "* CRIM: This is the per capita crime rate by town\n",
    "* ZN: This is the proportion of residential land zoned for lots larger than 25,000 sq.ft.\n",
    "* INDUS: This is the proportion of non-retail business acres per town.\n",
    "* CHAS: This is the Charles River dummy variable (this is equal to 1 if tract bounds river; 0 otherwise)\n",
    "* NOX: This is the nitric oxides concentration (parts per 10 million)\n",
    "* RM: This is the average number of rooms per dwelling\n",
    "* AGE: This is the proportion of owner-occupied units built prior to 1940\n",
    "* DIS: This is the weighted distances to five Boston employment centers\n",
    "* RAD: This is the index of accessibility to radial highways\n",
    "* TAX: This is the full-value property-tax rate per 10,000 dollars\n",
    "* PTRATIO: This is the pupil-teacher ratio by town\n",
    "* B: This is calculated as 1000(Bk — 0.63)², where Bk is the proportion of people of African American descent by town\n",
    "* LSTAT: This is the percentage lower status of the population\n",
    "* MEDV: This is the median value of owner-occupied homes in 1000 dollars"
   ]
  },
  {
   "cell_type": "code",
   "execution_count": 59,
   "metadata": {
    "colab": {
     "base_uri": "https://localhost:8080/",
     "height": 204
    },
    "colab_type": "code",
    "id": "Ona1gs72CZOq",
    "outputId": "455f9f96-3f49-4eb7-c928-fc732141d834"
   },
   "outputs": [
    {
     "data": {
      "text/html": [
       "<div>\n",
       "<style scoped>\n",
       "    .dataframe tbody tr th:only-of-type {\n",
       "        vertical-align: middle;\n",
       "    }\n",
       "\n",
       "    .dataframe tbody tr th {\n",
       "        vertical-align: top;\n",
       "    }\n",
       "\n",
       "    .dataframe thead th {\n",
       "        text-align: right;\n",
       "    }\n",
       "</style>\n",
       "<table border=\"1\" class=\"dataframe\">\n",
       "  <thead>\n",
       "    <tr style=\"text-align: right;\">\n",
       "      <th></th>\n",
       "      <th>CRIM</th>\n",
       "      <th>ZN</th>\n",
       "      <th>INDUS</th>\n",
       "      <th>CHAS</th>\n",
       "      <th>NOX</th>\n",
       "      <th>RM</th>\n",
       "      <th>AGE</th>\n",
       "      <th>DIS</th>\n",
       "      <th>RAD</th>\n",
       "      <th>TAX</th>\n",
       "      <th>PTRATIO</th>\n",
       "      <th>B</th>\n",
       "      <th>LSTAT</th>\n",
       "      <th>MEDV</th>\n",
       "    </tr>\n",
       "  </thead>\n",
       "  <tbody>\n",
       "    <tr>\n",
       "      <th>0</th>\n",
       "      <td>0.00632</td>\n",
       "      <td>18.0</td>\n",
       "      <td>2.31</td>\n",
       "      <td>0</td>\n",
       "      <td>0.538</td>\n",
       "      <td>6.575</td>\n",
       "      <td>65.2</td>\n",
       "      <td>4.0900</td>\n",
       "      <td>1</td>\n",
       "      <td>296.0</td>\n",
       "      <td>15.3</td>\n",
       "      <td>396.90</td>\n",
       "      <td>4.98</td>\n",
       "      <td>24.0</td>\n",
       "    </tr>\n",
       "    <tr>\n",
       "      <th>1</th>\n",
       "      <td>0.02731</td>\n",
       "      <td>0.0</td>\n",
       "      <td>7.07</td>\n",
       "      <td>0</td>\n",
       "      <td>0.469</td>\n",
       "      <td>6.421</td>\n",
       "      <td>78.9</td>\n",
       "      <td>4.9671</td>\n",
       "      <td>2</td>\n",
       "      <td>242.0</td>\n",
       "      <td>17.8</td>\n",
       "      <td>396.90</td>\n",
       "      <td>9.14</td>\n",
       "      <td>21.6</td>\n",
       "    </tr>\n",
       "    <tr>\n",
       "      <th>2</th>\n",
       "      <td>0.02729</td>\n",
       "      <td>0.0</td>\n",
       "      <td>7.07</td>\n",
       "      <td>0</td>\n",
       "      <td>0.469</td>\n",
       "      <td>7.185</td>\n",
       "      <td>61.1</td>\n",
       "      <td>4.9671</td>\n",
       "      <td>2</td>\n",
       "      <td>242.0</td>\n",
       "      <td>17.8</td>\n",
       "      <td>392.83</td>\n",
       "      <td>4.03</td>\n",
       "      <td>34.7</td>\n",
       "    </tr>\n",
       "    <tr>\n",
       "      <th>3</th>\n",
       "      <td>0.03237</td>\n",
       "      <td>0.0</td>\n",
       "      <td>2.18</td>\n",
       "      <td>0</td>\n",
       "      <td>0.458</td>\n",
       "      <td>6.998</td>\n",
       "      <td>45.8</td>\n",
       "      <td>6.0622</td>\n",
       "      <td>3</td>\n",
       "      <td>222.0</td>\n",
       "      <td>18.7</td>\n",
       "      <td>394.63</td>\n",
       "      <td>2.94</td>\n",
       "      <td>33.4</td>\n",
       "    </tr>\n",
       "    <tr>\n",
       "      <th>4</th>\n",
       "      <td>0.06905</td>\n",
       "      <td>0.0</td>\n",
       "      <td>2.18</td>\n",
       "      <td>0</td>\n",
       "      <td>0.458</td>\n",
       "      <td>7.147</td>\n",
       "      <td>54.2</td>\n",
       "      <td>6.0622</td>\n",
       "      <td>3</td>\n",
       "      <td>222.0</td>\n",
       "      <td>18.7</td>\n",
       "      <td>396.90</td>\n",
       "      <td>5.33</td>\n",
       "      <td>36.2</td>\n",
       "    </tr>\n",
       "  </tbody>\n",
       "</table>\n",
       "</div>"
      ],
      "text/plain": [
       "      CRIM    ZN  INDUS  CHAS    NOX     RM   AGE     DIS  RAD    TAX  \\\n",
       "0  0.00632  18.0   2.31     0  0.538  6.575  65.2  4.0900    1  296.0   \n",
       "1  0.02731   0.0   7.07     0  0.469  6.421  78.9  4.9671    2  242.0   \n",
       "2  0.02729   0.0   7.07     0  0.469  7.185  61.1  4.9671    2  242.0   \n",
       "3  0.03237   0.0   2.18     0  0.458  6.998  45.8  6.0622    3  222.0   \n",
       "4  0.06905   0.0   2.18     0  0.458  7.147  54.2  6.0622    3  222.0   \n",
       "\n",
       "   PTRATIO       B  LSTAT  MEDV  \n",
       "0     15.3  396.90   4.98  24.0  \n",
       "1     17.8  396.90   9.14  21.6  \n",
       "2     17.8  392.83   4.03  34.7  \n",
       "3     18.7  394.63   2.94  33.4  \n",
       "4     18.7  396.90   5.33  36.2  "
      ]
     },
     "execution_count": 59,
     "metadata": {},
     "output_type": "execute_result"
    }
   ],
   "source": [
    "import ssl\n",
    "# следующая строчка подключает сертификат для защищенного соединения\n",
    "ssl._create_default_https_context = ssl._create_unverified_context\n",
    "url='http://yustiks.ru/dataset/housing.csv'\n",
    "names = ['CRIM', 'ZN', 'INDUS', 'CHAS', 'NOX', 'RM', 'AGE', 'DIS', 'RAD', 'TAX', 'PTRATIO', 'B', 'LSTAT', 'MEDV']\n",
    "data=pd.read_csv(url,  delim_whitespace=True, names=names)\n",
    "data.head()"
   ]
  },
  {
   "cell_type": "code",
   "execution_count": 5,
   "metadata": {},
   "outputs": [
    {
     "data": {
      "text/plain": [
       "CRIM       0\n",
       "ZN         0\n",
       "INDUS      0\n",
       "CHAS       0\n",
       "NOX        0\n",
       "RM         0\n",
       "AGE        0\n",
       "DIS        0\n",
       "RAD        0\n",
       "TAX        0\n",
       "PTRATIO    0\n",
       "B          0\n",
       "LSTAT      0\n",
       "MEDV       0\n",
       "dtype: int64"
      ]
     },
     "execution_count": 5,
     "metadata": {},
     "output_type": "execute_result"
    }
   ],
   "source": [
    "data.apply(lambda x: sum(x.isnull().values), axis = 0)"
   ]
  },
  {
   "cell_type": "markdown",
   "metadata": {
    "colab_type": "text",
    "id": "KwpYBJZiE1EO"
   },
   "source": [
    "Нарисовать частотные графики для всех значений. Можете ли вы найти следующие распределения в данных графиках?\n",
    "\n",
    "\n",
    "1.   Нормальное \n",
    "2.   Равномерное \n",
    "3.   Биноминальное \n",
    "4.   Бернулли дискр \n",
    "5.   Геометрическое \n",
    "6.   Логнормальное \n",
    "\n"
   ]
  },
  {
   "cell_type": "code",
   "execution_count": 57,
   "metadata": {},
   "outputs": [
    {
     "data": {
      "text/plain": [
       "504"
      ]
     },
     "execution_count": 57,
     "metadata": {},
     "output_type": "execute_result"
    }
   ],
   "source": [
    "data['CRIM'].nunique()"
   ]
  },
  {
   "cell_type": "code",
   "execution_count": 55,
   "metadata": {},
   "outputs": [
    {
     "data": {
      "text/plain": [
       "506"
      ]
     },
     "execution_count": 55,
     "metadata": {},
     "output_type": "execute_result"
    }
   ],
   "source": [
    "len(data.CRIM)"
   ]
  },
  {
   "cell_type": "code",
   "execution_count": 12,
   "metadata": {},
   "outputs": [
    {
     "data": {
      "image/png": "[encoded data removed]",
      "text/plain": [
       "<Figure size 432x288 with 1 Axes>"
      ]
     },
     "metadata": {
      "needs_background": "light"
     },
     "output_type": "display_data"
    }
   ],
   "source": [
    "# plt.hist - строит частотный график выборки, разбивая значения выборки на равные интервалы\n",
    "n, bins, patches = plt.hist(data['CRIM'],600, facecolor='g')\n",
    "\n",
    "plt.xlabel('CRIM')\n",
    "plt.ylabel('frequency')\n",
    "plt.title('Частотный график CRIM (разбиение интервала по 600 элементов)')\n",
    "plt.grid(True)\n",
    "plt.xlim((0, 20))   \n",
    "plt.ylim(0, 25)\n",
    "plt.show()"
   ]
  },
  {
   "cell_type": "markdown",
   "metadata": {},
   "source": [
    "Похоже на экспоненциальное"
   ]
  },
  {
   "cell_type": "code",
   "execution_count": 12,
   "metadata": {},
   "outputs": [
    {
     "data": {
      "text/plain": [
       "26"
      ]
     },
     "execution_count": 12,
     "metadata": {},
     "output_type": "execute_result"
    }
   ],
   "source": [
    "data['ZN'].nunique()"
   ]
  },
  {
   "cell_type": "code",
   "execution_count": 13,
   "metadata": {},
   "outputs": [
    {
     "data": {
      "image/png": "[encoded data removed]",
      "text/plain": [
       "<Figure size 432x288 with 1 Axes>"
      ]
     },
     "metadata": {
      "needs_background": "light"
     },
     "output_type": "display_data"
    }
   ],
   "source": [
    "n, bins, patches = plt.hist(data['ZN'], 30, facecolor='g')\n",
    "\n",
    "plt.xlabel('ZN')\n",
    "plt.ylabel('frequency')\n",
    "plt.title('Частотный график ZN (разбиение интервала по 30 элементов)')\n",
    "plt.grid(True)\n",
    "plt.show()"
   ]
  },
  {
   "cell_type": "code",
   "execution_count": 16,
   "metadata": {},
   "outputs": [
    {
     "data": {
      "text/plain": [
       "76"
      ]
     },
     "execution_count": 16,
     "metadata": {},
     "output_type": "execute_result"
    }
   ],
   "source": [
    "data['INDUS'].nunique()"
   ]
  },
  {
   "cell_type": "code",
   "execution_count": 9,
   "metadata": {},
   "outputs": [
    {
     "data": {
      "image/png": "[encoded data removed]",
      "text/plain": [
       "<Figure size 432x288 with 1 Axes>"
      ]
     },
     "metadata": {
      "needs_background": "light"
     },
     "output_type": "display_data"
    }
   ],
   "source": [
    "n, bins, patches = plt.hist(data['INDUS'], 80, facecolor='g')\n",
    "\n",
    "plt.xlabel('INDUS')\n",
    "plt.ylabel('frequency')\n",
    "plt.title('Частотный график INDUS (разбиение интервала по 80 элементов)')\n",
    "plt.grid(True)\n",
    "plt.show()"
   ]
  },
  {
   "cell_type": "code",
   "execution_count": 25,
   "metadata": {},
   "outputs": [
    {
     "data": {
      "text/plain": [
       "2"
      ]
     },
     "execution_count": 25,
     "metadata": {},
     "output_type": "execute_result"
    }
   ],
   "source": [
    "data['CHAS'].nunique()"
   ]
  },
  {
   "cell_type": "code",
   "execution_count": 28,
   "metadata": {},
   "outputs": [
    {
     "data": {
      "image/png": "[encoded data removed]",
      "text/plain": [
       "<Figure size 432x288 with 1 Axes>"
      ]
     },
     "metadata": {
      "needs_background": "light"
     },
     "output_type": "display_data"
    }
   ],
   "source": [
    "n, bins, patches = plt.hist(data['CHAS'], 30, facecolor='g')\n",
    "\n",
    "plt.xlabel('CHAS')\n",
    "plt.ylabel('frequency')\n",
    "plt.title('Частотный график CHAS (разбиение интервала по 30 элементов)')\n",
    "plt.grid(True)\n",
    "plt.show()"
   ]
  },
  {
   "cell_type": "markdown",
   "metadata": {},
   "source": [
    "Это распраделение Бернулли"
   ]
  },
  {
   "cell_type": "code",
   "execution_count": 6,
   "metadata": {},
   "outputs": [
    {
     "data": {
      "text/plain": [
       "81"
      ]
     },
     "execution_count": 6,
     "metadata": {},
     "output_type": "execute_result"
    }
   ],
   "source": [
    "data['NOX'].nunique()"
   ]
  },
  {
   "cell_type": "code",
   "execution_count": 8,
   "metadata": {},
   "outputs": [
    {
     "data": {
      "image/png": "[encoded data removed]",
      "text/plain": [
       "<Figure size 432x288 with 1 Axes>"
      ]
     },
     "metadata": {
      "needs_background": "light"
     },
     "output_type": "display_data"
    }
   ],
   "source": [
    "n, bins, patches = plt.hist(data['NOX'], 100, facecolor='g')\n",
    "\n",
    "plt.xlabel('NOX')\n",
    "plt.ylabel('frequency')\n",
    "plt.title('Частотный график NOX (разбиение интервала по 100 элементов)')\n",
    "plt.grid(True)\n",
    "plt.show()"
   ]
  },
  {
   "cell_type": "code",
   "execution_count": 31,
   "metadata": {},
   "outputs": [
    {
     "data": {
      "text/plain": [
       "446"
      ]
     },
     "execution_count": 31,
     "metadata": {},
     "output_type": "execute_result"
    }
   ],
   "source": [
    "data['RM'].nunique()"
   ]
  },
  {
   "cell_type": "code",
   "execution_count": 13,
   "metadata": {},
   "outputs": [
    {
     "data": {
      "image/png": "[encoded data removed]",
      "text/plain": [
       "<Figure size 432x288 with 1 Axes>"
      ]
     },
     "metadata": {
      "needs_background": "light"
     },
     "output_type": "display_data"
    }
   ],
   "source": [
    "n, bins, patches = plt.hist(data['RM'], 300, facecolor='g')\n",
    "\n",
    "plt.xlabel('RM')\n",
    "plt.ylabel('frequency')\n",
    "plt.title('Частотный график RM (разбиение интервала по 300 элементов)')\n",
    "plt.grid(True)\n",
    "plt.show()"
   ]
  },
  {
   "cell_type": "markdown",
   "metadata": {},
   "source": [
    "Это нормальное распределение Гаусса"
   ]
  },
  {
   "cell_type": "code",
   "execution_count": 37,
   "metadata": {},
   "outputs": [
    {
     "data": {
      "text/plain": [
       "356"
      ]
     },
     "execution_count": 37,
     "metadata": {},
     "output_type": "execute_result"
    }
   ],
   "source": [
    "data['AGE'].nunique()"
   ]
  },
  {
   "cell_type": "code",
   "execution_count": 17,
   "metadata": {},
   "outputs": [
    {
     "data": {
      "image/png": "[encoded data removed]",
      "text/plain": [
       "<Figure size 432x288 with 1 Axes>"
      ]
     },
     "metadata": {
      "needs_background": "light"
     },
     "output_type": "display_data"
    }
   ],
   "source": [
    "n, bins, patches = plt.hist(data['AGE'], 400, facecolor='g')\n",
    "\n",
    "plt.xlabel('AGE')\n",
    "plt.ylabel('frequency')\n",
    "plt.title('Частотный график AGE (разбиение интервала по 400 элементов)')\n",
    "plt.grid(True)\n",
    "plt.show()"
   ]
  },
  {
   "cell_type": "code",
   "execution_count": 39,
   "metadata": {},
   "outputs": [
    {
     "data": {
      "text/plain": [
       "412"
      ]
     },
     "execution_count": 39,
     "metadata": {},
     "output_type": "execute_result"
    }
   ],
   "source": [
    "data['DIS'].nunique()"
   ]
  },
  {
   "cell_type": "code",
   "execution_count": 19,
   "metadata": {},
   "outputs": [
    {
     "data": {
      "image/png": "[encoded data removed]",
      "text/plain": [
       "<Figure size 432x288 with 1 Axes>"
      ]
     },
     "metadata": {
      "needs_background": "light"
     },
     "output_type": "display_data"
    }
   ],
   "source": [
    "n, bins, patches = plt.hist(data['DIS'], 200, facecolor='g')\n",
    "\n",
    "plt.xlabel('DIS')\n",
    "plt.ylabel('frequency')\n",
    "plt.title('Частотный график DIS (разбиение интервала по 400 элементов)')\n",
    "plt.grid(True)\n",
    "plt.show()"
   ]
  },
  {
   "cell_type": "markdown",
   "metadata": {},
   "source": [
    "Это логнормальное распределение "
   ]
  },
  {
   "cell_type": "code",
   "execution_count": 41,
   "metadata": {},
   "outputs": [
    {
     "data": {
      "text/plain": [
       "9"
      ]
     },
     "execution_count": 41,
     "metadata": {},
     "output_type": "execute_result"
    }
   ],
   "source": [
    "data['RAD'].nunique()"
   ]
  },
  {
   "cell_type": "code",
   "execution_count": 13,
   "metadata": {},
   "outputs": [
    {
     "data": {
      "image/png": "[encoded data removed]",
      "text/plain": [
       "<Figure size 432x288 with 1 Axes>"
      ]
     },
     "metadata": {
      "needs_background": "light"
     },
     "output_type": "display_data"
    }
   ],
   "source": [
    "n, bins, patches = plt.hist(data['RAD'], 50, facecolor='g')\n",
    "\n",
    "plt.xlabel('RAD')\n",
    "plt.ylabel('frequency')\n",
    "plt.title('Частотный график RAD (разбиение интервала по 50 элементов)')\n",
    "plt.grid(True)\n",
    "plt.show()"
   ]
  },
  {
   "cell_type": "code",
   "execution_count": 43,
   "metadata": {},
   "outputs": [
    {
     "data": {
      "text/plain": [
       "66"
      ]
     },
     "execution_count": 43,
     "metadata": {},
     "output_type": "execute_result"
    }
   ],
   "source": [
    "data['TAX'].nunique()"
   ]
  },
  {
   "cell_type": "code",
   "execution_count": 62,
   "metadata": {},
   "outputs": [
    {
     "data": {
      "image/png": "[encoded data removed]",
      "text/plain": [
       "<Figure size 432x288 with 1 Axes>"
      ]
     },
     "metadata": {
      "needs_background": "light"
     },
     "output_type": "display_data"
    }
   ],
   "source": [
    "n, bins, patches = plt.hist(data['TAX'], 70, facecolor='g')\n",
    "\n",
    "plt.xlabel('TAX')\n",
    "plt.ylabel('frequency')\n",
    "plt.title('Частотный график TAX (разбиение интервала по 30 элементов)')\n",
    "plt.grid(True)\n",
    "plt.show()"
   ]
  },
  {
   "cell_type": "code",
   "execution_count": 45,
   "metadata": {},
   "outputs": [
    {
     "data": {
      "text/plain": [
       "46"
      ]
     },
     "execution_count": 45,
     "metadata": {},
     "output_type": "execute_result"
    }
   ],
   "source": [
    "data['PTRATIO'].nunique()"
   ]
  },
  {
   "cell_type": "code",
   "execution_count": 46,
   "metadata": {},
   "outputs": [
    {
     "data": {
      "image/png": "[encoded data removed]",
      "text/plain": [
       "<Figure size 432x288 with 1 Axes>"
      ]
     },
     "metadata": {
      "needs_background": "light"
     },
     "output_type": "display_data"
    }
   ],
   "source": [
    "n, bins, patches = plt.hist(data['PTRATIO'], 80, facecolor='g')\n",
    "\n",
    "plt.xlabel('PTRATIO')\n",
    "plt.ylabel('frequency')\n",
    "plt.title('Частотный график PTRATIO (разбиение интервала по 30 элементов)')\n",
    "plt.grid(True)\n",
    "plt.show()"
   ]
  },
  {
   "cell_type": "code",
   "execution_count": 47,
   "metadata": {},
   "outputs": [
    {
     "data": {
      "text/plain": [
       "357"
      ]
     },
     "execution_count": 47,
     "metadata": {},
     "output_type": "execute_result"
    }
   ],
   "source": [
    "data['B'].nunique()"
   ]
  },
  {
   "cell_type": "code",
   "execution_count": 20,
   "metadata": {},
   "outputs": [
    {
     "data": {
      "image/png": "[encoded data removed]",
      "text/plain": [
       "<Figure size 432x288 with 1 Axes>"
      ]
     },
     "metadata": {
      "needs_background": "light"
     },
     "output_type": "display_data"
    }
   ],
   "source": [
    "n, bins, patches = plt.hist(data['B'], 500, facecolor='g')\n",
    "\n",
    "plt.xlabel('B')\n",
    "plt.ylabel('frequency')\n",
    "plt.title('Частотный график B (разбиение интервала по 500 элементов)')\n",
    "plt.grid(True)\n",
    "plt.show()"
   ]
  },
  {
   "cell_type": "code",
   "execution_count": 49,
   "metadata": {},
   "outputs": [
    {
     "data": {
      "text/plain": [
       "455"
      ]
     },
     "execution_count": 49,
     "metadata": {},
     "output_type": "execute_result"
    }
   ],
   "source": [
    "data['LSTAT'].nunique()"
   ]
  },
  {
   "cell_type": "code",
   "execution_count": 28,
   "metadata": {},
   "outputs": [
    {
     "data": {
      "image/png": "[encoded data removed]",
      "text/plain": [
       "<Figure size 432x288 with 1 Axes>"
      ]
     },
     "metadata": {
      "needs_background": "light"
     },
     "output_type": "display_data"
    }
   ],
   "source": [
    "n, bins, patches = plt.hist(data['LSTAT'], 200, facecolor='g')\n",
    "\n",
    "plt.xlabel('LSTAT')\n",
    "plt.ylabel('frequency')\n",
    "plt.title('Частотный график LSTAT (разбиение интервала по 200 элементов)')\n",
    "plt.grid(True)\n",
    "plt.show()"
   ]
  },
  {
   "cell_type": "markdown",
   "metadata": {},
   "source": [
    "Тоже на логнормальное, вроде, похоже"
   ]
  },
  {
   "cell_type": "code",
   "execution_count": 51,
   "metadata": {},
   "outputs": [
    {
     "data": {
      "text/plain": [
       "229"
      ]
     },
     "execution_count": 51,
     "metadata": {},
     "output_type": "execute_result"
    }
   ],
   "source": [
    "data['MEDV'].nunique()"
   ]
  },
  {
   "cell_type": "code",
   "execution_count": 29,
   "metadata": {},
   "outputs": [
    {
     "data": {
      "image/png": "[encoded data removed]",
      "text/plain": [
       "<Figure size 432x288 with 1 Axes>"
      ]
     },
     "metadata": {
      "needs_background": "light"
     },
     "output_type": "display_data"
    }
   ],
   "source": [
    "n, bins, patches = plt.hist(data['MEDV'], 200, facecolor='g')\n",
    "\n",
    "plt.xlabel('MEDV')\n",
    "plt.ylabel('frequency')\n",
    "plt.title('Частотный график MEDV (разбиение интервала по 200 элементов)')\n",
    "plt.grid(True)\n",
    "plt.show()"
   ]
  },
  {
   "cell_type": "markdown",
   "metadata": {},
   "source": [
    "Похоже на нормальное распределение..\n"
   ]
  },
  {
   "cell_type": "code",
   "execution_count": null,
   "metadata": {},
   "outputs": [],
   "source": []
  },
  {
   "cell_type": "markdown",
   "metadata": {},
   "source": [
    "Построить матрицу корреляций для данной таблицы и выбрать максимально коррелирующий атрибут (несколько атрибутов) с ценой на дома (MEDV атрибут)."
   ]
  },
  {
   "cell_type": "code",
   "execution_count": 31,
   "metadata": {},
   "outputs": [
    {
     "data": {
      "image/png": "[encoded data removed]",
      "text/plain": [
       "<Figure size 720x720 with 2 Axes>"
      ]
     },
     "metadata": {
      "needs_background": "light"
     },
     "output_type": "display_data"
    }
   ],
   "source": [
    "\n",
    "sns.heatmap(data.corr(),annot=True,cmap='RdYlGn',linewidths=0.2) #data.corr()-->матрица корреляций\n",
    "# gcf() - получение текущей фигуры\n",
    "fig=plt.gcf()\n",
    "# set_size_inches() - установить размер фигуры\n",
    "fig.set_size_inches(10,10)\n",
    "plt.show()"
   ]
  },
  {
   "cell_type": "markdown",
   "metadata": {},
   "source": [
    "LSTAT - это атрибут, максимально коррелирующий с ценой на дома (MEDV атрибут), при этом атрибуты имеют обратную взаимозависимость"
   ]
  },
  {
   "cell_type": "code",
   "execution_count": 33,
   "metadata": {},
   "outputs": [
    {
     "data": {
      "text/plain": [
       "(-0.7376627261740146, 5.081103394387836e-88)"
      ]
     },
     "execution_count": 33,
     "metadata": {},
     "output_type": "execute_result"
    }
   ],
   "source": [
    "# расчет коэффициента корреляции (и p-value) без визуализации\n",
    "from scipy.stats import pearsonr\n",
    "pearsonr(data['MEDV'], data['LSTAT'])"
   ]
  },
  {
   "cell_type": "markdown",
   "metadata": {
    "colab_type": "text",
    "id": "111lURJGVrbU"
   },
   "source": [
    "Написать **линейную регрессию** на два атрибута. Допустим, мы хотим предсказать цену дома (MEDV) в Бостоне, зная что цена на дом имеет линейную зависимость с атрибутом LSTAT. "
   ]
  },
  {
   "cell_type": "markdown",
   "metadata": {
    "colab_type": "text",
    "id": "Naz_Byg1WKhm"
   },
   "source": [
    "\n",
    "\n",
    "1.   Разделить данные на 80% тренировочных, 20% тестовых\n",
    "2.   Составить модель линейной регрессии\n",
    "3.   Посчитать ошибку модели на тестовых данных\n",
    "4.   Сделать точечный график данных и полученной прямой линейной регрессии\n",
    "\n"
   ]
  },
  {
   "cell_type": "code",
   "execution_count": 63,
   "metadata": {},
   "outputs": [
    {
     "name": "stdout",
     "output_type": "stream",
     "text": [
      "Среднеквадратичная ошибка:  37.916824920666436\n",
      "Абсолютная ошибка:  4.36921261478871\n"
     ]
    }
   ],
   "source": [
    "from sklearn.metrics import mean_squared_error, mean_absolute_error\n",
    "medv = np.array(data['MEDV']).reshape(-1,1)\n",
    "lstat = np.array(data['LSTAT']).reshape(-1,1)\n",
    "from sklearn.linear_model import LinearRegression\n",
    "model = LinearRegression()\n",
    "from sklearn.model_selection import train_test_split\n",
    "\n",
    "X_train, X_test, y_train, y_test = train_test_split(\n",
    "    lstat,\n",
    "    medv,\n",
    "    test_size = 0.2\n",
    ")\n",
    "model.fit(X_train, y_train)\n",
    "predicted_y = model.predict(X_test)\n",
    "print('Среднеквадратичная ошибка: ', mean_squared_error(predicted_y, y_test))\n",
    "print('Абсолютная ошибка: ', mean_absolute_error(predicted_y, y_test))"
   ]
  },
  {
   "cell_type": "markdown",
   "metadata": {},
   "source": [
    "В идеале: ошибка модели должна стремится к нулю. У нас, вроде, неплохая модель."
   ]
  },
  {
   "cell_type": "markdown",
   "metadata": {
    "colab_type": "text",
    "id": "zqiJHPz7FUT2"
   },
   "source": [
    "Загрузить таблицу Happiness report. Посчитать матрицу ковариаций попарно. "
   ]
  },
  {
   "cell_type": "code",
   "execution_count": 2,
   "metadata": {
    "colab": {
     "base_uri": "https://localhost:8080/",
     "height": 238
    },
    "colab_type": "code",
    "id": "4FVMs-hUiv4i",
    "outputId": "4f8bb858-e745-4832-e05a-a40c48f8fa8a"
   },
   "outputs": [
    {
     "data": {
      "text/html": [
       "<div>\n",
       "<style scoped>\n",
       "    .dataframe tbody tr th:only-of-type {\n",
       "        vertical-align: middle;\n",
       "    }\n",
       "\n",
       "    .dataframe tbody tr th {\n",
       "        vertical-align: top;\n",
       "    }\n",
       "\n",
       "    .dataframe thead th {\n",
       "        text-align: right;\n",
       "    }\n",
       "</style>\n",
       "<table border=\"1\" class=\"dataframe\">\n",
       "  <thead>\n",
       "    <tr style=\"text-align: right;\">\n",
       "      <th></th>\n",
       "      <th>Country (region)</th>\n",
       "      <th>Ladder</th>\n",
       "      <th>SD of Ladder</th>\n",
       "      <th>Positive affect</th>\n",
       "      <th>Negative affect</th>\n",
       "      <th>Social support</th>\n",
       "      <th>Freedom</th>\n",
       "      <th>Corruption</th>\n",
       "      <th>Generosity</th>\n",
       "      <th>Log of GDP\\nper capita</th>\n",
       "      <th>Healthy life\\nexpectancy</th>\n",
       "    </tr>\n",
       "  </thead>\n",
       "  <tbody>\n",
       "    <tr>\n",
       "      <th>0</th>\n",
       "      <td>Finland</td>\n",
       "      <td>1</td>\n",
       "      <td>4</td>\n",
       "      <td>41.0</td>\n",
       "      <td>10.0</td>\n",
       "      <td>2.0</td>\n",
       "      <td>5.0</td>\n",
       "      <td>4.0</td>\n",
       "      <td>47.0</td>\n",
       "      <td>22.0</td>\n",
       "      <td>27.0</td>\n",
       "    </tr>\n",
       "    <tr>\n",
       "      <th>1</th>\n",
       "      <td>Denmark</td>\n",
       "      <td>2</td>\n",
       "      <td>13</td>\n",
       "      <td>24.0</td>\n",
       "      <td>26.0</td>\n",
       "      <td>4.0</td>\n",
       "      <td>6.0</td>\n",
       "      <td>3.0</td>\n",
       "      <td>22.0</td>\n",
       "      <td>14.0</td>\n",
       "      <td>23.0</td>\n",
       "    </tr>\n",
       "    <tr>\n",
       "      <th>2</th>\n",
       "      <td>Norway</td>\n",
       "      <td>3</td>\n",
       "      <td>8</td>\n",
       "      <td>16.0</td>\n",
       "      <td>29.0</td>\n",
       "      <td>3.0</td>\n",
       "      <td>3.0</td>\n",
       "      <td>8.0</td>\n",
       "      <td>11.0</td>\n",
       "      <td>7.0</td>\n",
       "      <td>12.0</td>\n",
       "    </tr>\n",
       "    <tr>\n",
       "      <th>3</th>\n",
       "      <td>Iceland</td>\n",
       "      <td>4</td>\n",
       "      <td>9</td>\n",
       "      <td>3.0</td>\n",
       "      <td>3.0</td>\n",
       "      <td>1.0</td>\n",
       "      <td>7.0</td>\n",
       "      <td>45.0</td>\n",
       "      <td>3.0</td>\n",
       "      <td>15.0</td>\n",
       "      <td>13.0</td>\n",
       "    </tr>\n",
       "    <tr>\n",
       "      <th>4</th>\n",
       "      <td>Netherlands</td>\n",
       "      <td>5</td>\n",
       "      <td>1</td>\n",
       "      <td>12.0</td>\n",
       "      <td>25.0</td>\n",
       "      <td>15.0</td>\n",
       "      <td>19.0</td>\n",
       "      <td>12.0</td>\n",
       "      <td>7.0</td>\n",
       "      <td>12.0</td>\n",
       "      <td>18.0</td>\n",
       "    </tr>\n",
       "  </tbody>\n",
       "</table>\n",
       "</div>"
      ],
      "text/plain": [
       "  Country (region)  Ladder  SD of Ladder  Positive affect  Negative affect  \\\n",
       "0          Finland       1             4             41.0             10.0   \n",
       "1          Denmark       2            13             24.0             26.0   \n",
       "2           Norway       3             8             16.0             29.0   \n",
       "3          Iceland       4             9              3.0              3.0   \n",
       "4      Netherlands       5             1             12.0             25.0   \n",
       "\n",
       "   Social support  Freedom  Corruption  Generosity  Log of GDP\\nper capita  \\\n",
       "0             2.0      5.0         4.0        47.0                    22.0   \n",
       "1             4.0      6.0         3.0        22.0                    14.0   \n",
       "2             3.0      3.0         8.0        11.0                     7.0   \n",
       "3             1.0      7.0        45.0         3.0                    15.0   \n",
       "4            15.0     19.0        12.0         7.0                    12.0   \n",
       "\n",
       "   Healthy life\\nexpectancy  \n",
       "0                      27.0  \n",
       "1                      23.0  \n",
       "2                      12.0  \n",
       "3                      13.0  \n",
       "4                      18.0  "
      ]
     },
     "execution_count": 2,
     "metadata": {},
     "output_type": "execute_result"
    }
   ],
   "source": [
    "url=\"http://yustiks.ru/dataset/world-happiness-report-2019.csv\"\n",
    "data=pd.read_csv(url)\n",
    "data.head()"
   ]
  },
  {
   "cell_type": "code",
   "execution_count": 58,
   "metadata": {},
   "outputs": [
    {
     "data": {
      "text/html": [
       "<div>\n",
       "<style scoped>\n",
       "    .dataframe tbody tr th:only-of-type {\n",
       "        vertical-align: middle;\n",
       "    }\n",
       "\n",
       "    .dataframe tbody tr th {\n",
       "        vertical-align: top;\n",
       "    }\n",
       "\n",
       "    .dataframe thead th {\n",
       "        text-align: right;\n",
       "    }\n",
       "</style>\n",
       "<table border=\"1\" class=\"dataframe\">\n",
       "  <thead>\n",
       "    <tr style=\"text-align: right;\">\n",
       "      <th></th>\n",
       "      <th>Ladder</th>\n",
       "      <th>SD of Ladder</th>\n",
       "      <th>Positive affect</th>\n",
       "      <th>Negative affect</th>\n",
       "      <th>Social support</th>\n",
       "      <th>Freedom</th>\n",
       "      <th>Corruption</th>\n",
       "      <th>Generosity</th>\n",
       "      <th>Log of GDP\\nper capita</th>\n",
       "      <th>Healthy life\\nexpectancy</th>\n",
       "    </tr>\n",
       "  </thead>\n",
       "  <tbody>\n",
       "    <tr>\n",
       "      <th>Ladder</th>\n",
       "      <td>2088.550668</td>\n",
       "      <td>1171.892806</td>\n",
       "      <td>1037.040699</td>\n",
       "      <td>1097.680164</td>\n",
       "      <td>1745.007194</td>\n",
       "      <td>1126.437205</td>\n",
       "      <td>437.435971</td>\n",
       "      <td>992.822302</td>\n",
       "      <td>1625.961768</td>\n",
       "      <td>1661.550154</td>\n",
       "    </tr>\n",
       "    <tr>\n",
       "      <th>SD of Ladder</th>\n",
       "      <td>1171.892806</td>\n",
       "      <td>2127.170144</td>\n",
       "      <td>184.695683</td>\n",
       "      <td>1298.799281</td>\n",
       "      <td>1268.032374</td>\n",
       "      <td>520.631655</td>\n",
       "      <td>498.416547</td>\n",
       "      <td>796.974460</td>\n",
       "      <td>1327.720144</td>\n",
       "      <td>1293.221942</td>\n",
       "    </tr>\n",
       "    <tr>\n",
       "      <th>Positive affect</th>\n",
       "      <td>1037.040699</td>\n",
       "      <td>184.695683</td>\n",
       "      <td>1965.293114</td>\n",
       "      <td>694.321274</td>\n",
       "      <td>880.136691</td>\n",
       "      <td>1392.962795</td>\n",
       "      <td>427.188489</td>\n",
       "      <td>826.971942</td>\n",
       "      <td>597.456937</td>\n",
       "      <td>661.012436</td>\n",
       "    </tr>\n",
       "    <tr>\n",
       "      <th>Negative affect</th>\n",
       "      <td>1097.680164</td>\n",
       "      <td>1298.799281</td>\n",
       "      <td>694.321274</td>\n",
       "      <td>1980.795272</td>\n",
       "      <td>1369.014388</td>\n",
       "      <td>835.041521</td>\n",
       "      <td>316.040288</td>\n",
       "      <td>697.807914</td>\n",
       "      <td>1091.695581</td>\n",
       "      <td>992.679651</td>\n",
       "    </tr>\n",
       "    <tr>\n",
       "      <th>Social support</th>\n",
       "      <td>1745.007194</td>\n",
       "      <td>1268.032374</td>\n",
       "      <td>880.136691</td>\n",
       "      <td>1369.014388</td>\n",
       "      <td>2099.086331</td>\n",
       "      <td>989.151079</td>\n",
       "      <td>290.978417</td>\n",
       "      <td>918.334532</td>\n",
       "      <td>1592.892086</td>\n",
       "      <td>1521.895683</td>\n",
       "    </tr>\n",
       "    <tr>\n",
       "      <th>Freedom</th>\n",
       "      <td>1126.437205</td>\n",
       "      <td>520.631655</td>\n",
       "      <td>1392.962795</td>\n",
       "      <td>835.041521</td>\n",
       "      <td>989.151079</td>\n",
       "      <td>2034.819322</td>\n",
       "      <td>784.235971</td>\n",
       "      <td>1005.233094</td>\n",
       "      <td>754.765057</td>\n",
       "      <td>841.068243</td>\n",
       "    </tr>\n",
       "    <tr>\n",
       "      <th>Corruption</th>\n",
       "      <td>437.435971</td>\n",
       "      <td>498.416547</td>\n",
       "      <td>427.188489</td>\n",
       "      <td>316.040288</td>\n",
       "      <td>290.978417</td>\n",
       "      <td>784.235971</td>\n",
       "      <td>1819.535252</td>\n",
       "      <td>536.400719</td>\n",
       "      <td>344.248921</td>\n",
       "      <td>279.475540</td>\n",
       "    </tr>\n",
       "    <tr>\n",
       "      <th>Generosity</th>\n",
       "      <td>992.822302</td>\n",
       "      <td>796.974460</td>\n",
       "      <td>826.971942</td>\n",
       "      <td>697.807914</td>\n",
       "      <td>918.334532</td>\n",
       "      <td>1005.233094</td>\n",
       "      <td>536.400719</td>\n",
       "      <td>2000.574460</td>\n",
       "      <td>891.584892</td>\n",
       "      <td>891.374460</td>\n",
       "    </tr>\n",
       "    <tr>\n",
       "      <th>Log of GDP\\nper capita</th>\n",
       "      <td>1625.961768</td>\n",
       "      <td>1327.720144</td>\n",
       "      <td>597.456937</td>\n",
       "      <td>1091.695581</td>\n",
       "      <td>1592.892086</td>\n",
       "      <td>754.765057</td>\n",
       "      <td>344.248921</td>\n",
       "      <td>891.584892</td>\n",
       "      <td>1879.769579</td>\n",
       "      <td>1665.842035</td>\n",
       "    </tr>\n",
       "    <tr>\n",
       "      <th>Healthy life\\nexpectancy</th>\n",
       "      <td>1661.550154</td>\n",
       "      <td>1293.221942</td>\n",
       "      <td>661.012436</td>\n",
       "      <td>992.679651</td>\n",
       "      <td>1521.895683</td>\n",
       "      <td>841.068243</td>\n",
       "      <td>279.475540</td>\n",
       "      <td>891.374460</td>\n",
       "      <td>1665.842035</td>\n",
       "      <td>1934.236948</td>\n",
       "    </tr>\n",
       "  </tbody>\n",
       "</table>\n",
       "</div>"
      ],
      "text/plain": [
       "                               Ladder  SD of Ladder  Positive affect  \\\n",
       "Ladder                    2088.550668   1171.892806      1037.040699   \n",
       "SD of Ladder              1171.892806   2127.170144       184.695683   \n",
       "Positive affect           1037.040699    184.695683      1965.293114   \n",
       "Negative affect           1097.680164   1298.799281       694.321274   \n",
       "Social support            1745.007194   1268.032374       880.136691   \n",
       "Freedom                   1126.437205    520.631655      1392.962795   \n",
       "Corruption                 437.435971    498.416547       427.188489   \n",
       "Generosity                 992.822302    796.974460       826.971942   \n",
       "Log of GDP\\nper capita    1625.961768   1327.720144       597.456937   \n",
       "Healthy life\\nexpectancy  1661.550154   1293.221942       661.012436   \n",
       "\n",
       "                          Negative affect  Social support      Freedom  \\\n",
       "Ladder                        1097.680164     1745.007194  1126.437205   \n",
       "SD of Ladder                  1298.799281     1268.032374   520.631655   \n",
       "Positive affect                694.321274      880.136691  1392.962795   \n",
       "Negative affect               1980.795272     1369.014388   835.041521   \n",
       "Social support                1369.014388     2099.086331   989.151079   \n",
       "Freedom                        835.041521      989.151079  2034.819322   \n",
       "Corruption                     316.040288      290.978417   784.235971   \n",
       "Generosity                     697.807914      918.334532  1005.233094   \n",
       "Log of GDP\\nper capita        1091.695581     1592.892086   754.765057   \n",
       "Healthy life\\nexpectancy       992.679651     1521.895683   841.068243   \n",
       "\n",
       "                           Corruption   Generosity  Log of GDP\\nper capita  \\\n",
       "Ladder                     437.435971   992.822302             1625.961768   \n",
       "SD of Ladder               498.416547   796.974460             1327.720144   \n",
       "Positive affect            427.188489   826.971942              597.456937   \n",
       "Negative affect            316.040288   697.807914             1091.695581   \n",
       "Social support             290.978417   918.334532             1592.892086   \n",
       "Freedom                    784.235971  1005.233094              754.765057   \n",
       "Corruption                1819.535252   536.400719              344.248921   \n",
       "Generosity                 536.400719  2000.574460              891.584892   \n",
       "Log of GDP\\nper capita     344.248921   891.584892             1879.769579   \n",
       "Healthy life\\nexpectancy   279.475540   891.374460             1665.842035   \n",
       "\n",
       "                          Healthy life\\nexpectancy  \n",
       "Ladder                                 1661.550154  \n",
       "SD of Ladder                           1293.221942  \n",
       "Positive affect                         661.012436  \n",
       "Negative affect                         992.679651  \n",
       "Social support                         1521.895683  \n",
       "Freedom                                 841.068243  \n",
       "Corruption                              279.475540  \n",
       "Generosity                              891.374460  \n",
       "Log of GDP\\nper capita                 1665.842035  \n",
       "Healthy life\\nexpectancy               1934.236948  "
      ]
     },
     "execution_count": 58,
     "metadata": {},
     "output_type": "execute_result"
    }
   ],
   "source": [
    "# Посчитать матрицу ковариаций попарно. \n",
    "data1 = data.dropna()\n",
    "data1.cov()"
   ]
  },
  {
   "cell_type": "markdown",
   "metadata": {
    "colab_type": "text",
    "id": "AEV-w8iDrzwl"
   },
   "source": [
    "Сколько в данной таблице отсутствующих значений? Написать ответ. Если есть отсутствующие значения в выборке country, убрать (drop)."
   ]
  },
  {
   "cell_type": "code",
   "execution_count": 45,
   "metadata": {},
   "outputs": [
    {
     "data": {
      "text/plain": [
       "23"
      ]
     },
     "execution_count": 45,
     "metadata": {},
     "output_type": "execute_result"
    }
   ],
   "source": [
    "data['null_count'] = data.apply(lambda x: sum(x.isnull().values), axis = 1)\n",
    "data['null_count'].sum()"
   ]
  },
  {
   "cell_type": "code",
   "execution_count": 46,
   "metadata": {},
   "outputs": [
    {
     "data": {
      "text/plain": [
       "Country (region)            0\n",
       "Ladder                      0\n",
       "SD of Ladder                0\n",
       "Positive affect             1\n",
       "Negative affect             1\n",
       "Social support              1\n",
       "Freedom                     1\n",
       "Corruption                  8\n",
       "Generosity                  1\n",
       "Log of GDP\\nper capita      4\n",
       "Healthy life\\nexpectancy    6\n",
       "null_count                  0\n",
       "dtype: int64"
      ]
     },
     "execution_count": 46,
     "metadata": {},
     "output_type": "execute_result"
    }
   ],
   "source": [
    "data.apply(lambda x: sum(x.isnull().values), axis = 0) # нет отсутствующих значений в выборке Country (region)?"
   ]
  },
  {
   "cell_type": "markdown",
   "metadata": {
    "colab_type": "text",
    "id": "Sa3-2X8RputT"
   },
   "source": [
    "Сколько стран в выборке? Написать ответ. "
   ]
  },
  {
   "cell_type": "code",
   "execution_count": 42,
   "metadata": {},
   "outputs": [
    {
     "data": {
      "text/plain": [
       "156"
      ]
     },
     "execution_count": 42,
     "metadata": {},
     "output_type": "execute_result"
    }
   ],
   "source": [
    "data['Country (region)'].nunique()"
   ]
  },
  {
   "cell_type": "markdown",
   "metadata": {
    "colab_type": "text",
    "id": "Xo3Q738TsMBV"
   },
   "source": [
    "Построить матрицу корреляций для таблицы. Какие можно сделать выводы?"
   ]
  },
  {
   "cell_type": "code",
   "execution_count": 55,
   "metadata": {},
   "outputs": [
    {
     "data": {
      "image/png": "[encoded data removed]",
      "text/plain": [
       "<Figure size 576x576 with 2 Axes>"
      ]
     },
     "metadata": {
      "needs_background": "light"
     },
     "output_type": "display_data"
    }
   ],
   "source": [
    "sns.heatmap(data.corr(),annot=True,cmap='RdYlGn',linewidths=0.2) #data.corr()-->матрица корреляций\n",
    "# gcf() - получение текущей фигуры\n",
    "fig=plt.gcf()\n",
    "# set_size_inches() - установить размер фигуры\n",
    "fig.set_size_inches(8,8)\n",
    "plt.show()"
   ]
  },
  {
   "cell_type": "markdown",
   "metadata": {},
   "source": [
    "Наблюдается сильная корреляция Healthy life expectancy и Log of GDP\\nper capita, а также Ladder с Log of GDP\\nper capita и Healthy life expectancy"
   ]
  },
  {
   "cell_type": "code",
   "execution_count": 3,
   "metadata": {},
   "outputs": [
    {
     "data": {
      "text/html": [
       "<div>\n",
       "<style scoped>\n",
       "    .dataframe tbody tr th:only-of-type {\n",
       "        vertical-align: middle;\n",
       "    }\n",
       "\n",
       "    .dataframe tbody tr th {\n",
       "        vertical-align: top;\n",
       "    }\n",
       "\n",
       "    .dataframe thead th {\n",
       "        text-align: right;\n",
       "    }\n",
       "</style>\n",
       "<table border=\"1\" class=\"dataframe\">\n",
       "  <thead>\n",
       "    <tr style=\"text-align: right;\">\n",
       "      <th></th>\n",
       "      <th>Ladder</th>\n",
       "      <th>SD of Ladder</th>\n",
       "      <th>Positive affect</th>\n",
       "      <th>Negative affect</th>\n",
       "      <th>Social support</th>\n",
       "      <th>Freedom</th>\n",
       "      <th>Corruption</th>\n",
       "      <th>Generosity</th>\n",
       "      <th>Log of GDP\\nper capita</th>\n",
       "      <th>Healthy life\\nexpectancy</th>\n",
       "    </tr>\n",
       "  </thead>\n",
       "  <tbody>\n",
       "    <tr>\n",
       "      <th>Ladder</th>\n",
       "      <td>1.00</td>\n",
       "      <td>0.54</td>\n",
       "      <td>0.49</td>\n",
       "      <td>0.52</td>\n",
       "      <td>0.82</td>\n",
       "      <td>0.55</td>\n",
       "      <td>0.19</td>\n",
       "      <td>0.50</td>\n",
       "      <td>0.81</td>\n",
       "      <td>0.82</td>\n",
       "    </tr>\n",
       "    <tr>\n",
       "      <th>SD of Ladder</th>\n",
       "      <td>0.54</td>\n",
       "      <td>1.00</td>\n",
       "      <td>0.09</td>\n",
       "      <td>0.62</td>\n",
       "      <td>0.60</td>\n",
       "      <td>0.25</td>\n",
       "      <td>0.26</td>\n",
       "      <td>0.39</td>\n",
       "      <td>0.63</td>\n",
       "      <td>0.61</td>\n",
       "    </tr>\n",
       "    <tr>\n",
       "      <th>Positive affect</th>\n",
       "      <td>0.49</td>\n",
       "      <td>0.09</td>\n",
       "      <td>1.00</td>\n",
       "      <td>0.39</td>\n",
       "      <td>0.39</td>\n",
       "      <td>0.68</td>\n",
       "      <td>0.21</td>\n",
       "      <td>0.35</td>\n",
       "      <td>0.30</td>\n",
       "      <td>0.33</td>\n",
       "    </tr>\n",
       "    <tr>\n",
       "      <th>Negative affect</th>\n",
       "      <td>0.52</td>\n",
       "      <td>0.62</td>\n",
       "      <td>0.39</td>\n",
       "      <td>1.00</td>\n",
       "      <td>0.62</td>\n",
       "      <td>0.43</td>\n",
       "      <td>0.16</td>\n",
       "      <td>0.34</td>\n",
       "      <td>0.54</td>\n",
       "      <td>0.49</td>\n",
       "    </tr>\n",
       "    <tr>\n",
       "      <th>Social support</th>\n",
       "      <td>0.82</td>\n",
       "      <td>0.60</td>\n",
       "      <td>0.39</td>\n",
       "      <td>0.62</td>\n",
       "      <td>1.00</td>\n",
       "      <td>0.45</td>\n",
       "      <td>0.12</td>\n",
       "      <td>0.44</td>\n",
       "      <td>0.77</td>\n",
       "      <td>0.74</td>\n",
       "    </tr>\n",
       "    <tr>\n",
       "      <th>Freedom</th>\n",
       "      <td>0.55</td>\n",
       "      <td>0.25</td>\n",
       "      <td>0.68</td>\n",
       "      <td>0.43</td>\n",
       "      <td>0.45</td>\n",
       "      <td>1.00</td>\n",
       "      <td>0.38</td>\n",
       "      <td>0.49</td>\n",
       "      <td>0.41</td>\n",
       "      <td>0.42</td>\n",
       "    </tr>\n",
       "    <tr>\n",
       "      <th>Corruption</th>\n",
       "      <td>0.19</td>\n",
       "      <td>0.26</td>\n",
       "      <td>0.21</td>\n",
       "      <td>0.16</td>\n",
       "      <td>0.12</td>\n",
       "      <td>0.38</td>\n",
       "      <td>1.00</td>\n",
       "      <td>0.27</td>\n",
       "      <td>0.20</td>\n",
       "      <td>0.12</td>\n",
       "    </tr>\n",
       "    <tr>\n",
       "      <th>Generosity</th>\n",
       "      <td>0.50</td>\n",
       "      <td>0.39</td>\n",
       "      <td>0.35</td>\n",
       "      <td>0.34</td>\n",
       "      <td>0.44</td>\n",
       "      <td>0.49</td>\n",
       "      <td>0.27</td>\n",
       "      <td>1.00</td>\n",
       "      <td>0.48</td>\n",
       "      <td>0.43</td>\n",
       "    </tr>\n",
       "    <tr>\n",
       "      <th>Log of GDP\\nper capita</th>\n",
       "      <td>0.81</td>\n",
       "      <td>0.63</td>\n",
       "      <td>0.30</td>\n",
       "      <td>0.54</td>\n",
       "      <td>0.77</td>\n",
       "      <td>0.41</td>\n",
       "      <td>0.20</td>\n",
       "      <td>0.48</td>\n",
       "      <td>1.00</td>\n",
       "      <td>0.85</td>\n",
       "    </tr>\n",
       "    <tr>\n",
       "      <th>Healthy life\\nexpectancy</th>\n",
       "      <td>0.82</td>\n",
       "      <td>0.61</td>\n",
       "      <td>0.33</td>\n",
       "      <td>0.49</td>\n",
       "      <td>0.74</td>\n",
       "      <td>0.42</td>\n",
       "      <td>0.12</td>\n",
       "      <td>0.43</td>\n",
       "      <td>0.85</td>\n",
       "      <td>1.00</td>\n",
       "    </tr>\n",
       "  </tbody>\n",
       "</table>\n",
       "</div>"
      ],
      "text/plain": [
       "                          Ladder  SD of Ladder  Positive affect  \\\n",
       "Ladder                      1.00          0.54             0.49   \n",
       "SD of Ladder                0.54          1.00             0.09   \n",
       "Positive affect             0.49          0.09             1.00   \n",
       "Negative affect             0.52          0.62             0.39   \n",
       "Social support              0.82          0.60             0.39   \n",
       "Freedom                     0.55          0.25             0.68   \n",
       "Corruption                  0.19          0.26             0.21   \n",
       "Generosity                  0.50          0.39             0.35   \n",
       "Log of GDP\\nper capita      0.81          0.63             0.30   \n",
       "Healthy life\\nexpectancy    0.82          0.61             0.33   \n",
       "\n",
       "                          Negative affect  Social support  Freedom  \\\n",
       "Ladder                               0.52            0.82     0.55   \n",
       "SD of Ladder                         0.62            0.60     0.25   \n",
       "Positive affect                      0.39            0.39     0.68   \n",
       "Negative affect                      1.00            0.62     0.43   \n",
       "Social support                       0.62            1.00     0.45   \n",
       "Freedom                              0.43            0.45     1.00   \n",
       "Corruption                           0.16            0.12     0.38   \n",
       "Generosity                           0.34            0.44     0.49   \n",
       "Log of GDP\\nper capita               0.54            0.77     0.41   \n",
       "Healthy life\\nexpectancy             0.49            0.74     0.42   \n",
       "\n",
       "                          Corruption  Generosity  Log of GDP\\nper capita  \\\n",
       "Ladder                          0.19        0.50                    0.81   \n",
       "SD of Ladder                    0.26        0.39                    0.63   \n",
       "Positive affect                 0.21        0.35                    0.30   \n",
       "Negative affect                 0.16        0.34                    0.54   \n",
       "Social support                  0.12        0.44                    0.77   \n",
       "Freedom                         0.38        0.49                    0.41   \n",
       "Corruption                      1.00        0.27                    0.20   \n",
       "Generosity                      0.27        1.00                    0.48   \n",
       "Log of GDP\\nper capita          0.20        0.48                    1.00   \n",
       "Healthy life\\nexpectancy        0.12        0.43                    0.85   \n",
       "\n",
       "                          Healthy life\\nexpectancy  \n",
       "Ladder                                        0.82  \n",
       "SD of Ladder                                  0.61  \n",
       "Positive affect                               0.33  \n",
       "Negative affect                               0.49  \n",
       "Social support                                0.74  \n",
       "Freedom                                       0.42  \n",
       "Corruption                                    0.12  \n",
       "Generosity                                    0.43  \n",
       "Log of GDP\\nper capita                        0.85  \n",
       "Healthy life\\nexpectancy                      1.00  "
      ]
     },
     "execution_count": 3,
     "metadata": {},
     "output_type": "execute_result"
    }
   ],
   "source": [
    "# еще можно так построить\n",
    "np.round_(data.corr(), decimals=2)"
   ]
  },
  {
   "cell_type": "code",
   "execution_count": 4,
   "metadata": {},
   "outputs": [
    {
     "data": {
      "text/html": [
       "<style  type=\"text/css\" >\n",
       "    #T_ae773630_c1d8_11ea_8fe6_f430b9815768row0_col0 {\n",
       "            background-color:  #b40426;\n",
       "            color:  #f1f1f1;\n",
       "        }    #T_ae773630_c1d8_11ea_8fe6_f430b9815768row0_col1 {\n",
       "            background-color:  #dcdddd;\n",
       "            color:  #000000;\n",
       "        }    #T_ae773630_c1d8_11ea_8fe6_f430b9815768row0_col2 {\n",
       "            background-color:  #cdd9ec;\n",
       "            color:  #000000;\n",
       "        }    #T_ae773630_c1d8_11ea_8fe6_f430b9815768row0_col3 {\n",
       "            background-color:  #cbd8ee;\n",
       "            color:  #000000;\n",
       "        }    #T_ae773630_c1d8_11ea_8fe6_f430b9815768row0_col4 {\n",
       "            background-color:  #ee8669;\n",
       "            color:  #000000;\n",
       "        }    #T_ae773630_c1d8_11ea_8fe6_f430b9815768row0_col5 {\n",
       "            background-color:  #bed2f6;\n",
       "            color:  #000000;\n",
       "        }    #T_ae773630_c1d8_11ea_8fe6_f430b9815768row0_col6 {\n",
       "            background-color:  #536edd;\n",
       "            color:  #000000;\n",
       "        }    #T_ae773630_c1d8_11ea_8fe6_f430b9815768row0_col7 {\n",
       "            background-color:  #a3c2fe;\n",
       "            color:  #000000;\n",
       "        }    #T_ae773630_c1d8_11ea_8fe6_f430b9815768row0_col8 {\n",
       "            background-color:  #f29274;\n",
       "            color:  #000000;\n",
       "        }    #T_ae773630_c1d8_11ea_8fe6_f430b9815768row0_col9 {\n",
       "            background-color:  #ef886b;\n",
       "            color:  #000000;\n",
       "        }    #T_ae773630_c1d8_11ea_8fe6_f430b9815768row1_col0 {\n",
       "            background-color:  #cad8ef;\n",
       "            color:  #000000;\n",
       "        }    #T_ae773630_c1d8_11ea_8fe6_f430b9815768row1_col1 {\n",
       "            background-color:  #b40426;\n",
       "            color:  #f1f1f1;\n",
       "        }    #T_ae773630_c1d8_11ea_8fe6_f430b9815768row1_col2 {\n",
       "            background-color:  #3b4cc0;\n",
       "            color:  #f1f1f1;\n",
       "        }    #T_ae773630_c1d8_11ea_8fe6_f430b9815768row1_col3 {\n",
       "            background-color:  #e9d5cb;\n",
       "            color:  #000000;\n",
       "        }    #T_ae773630_c1d8_11ea_8fe6_f430b9815768row1_col4 {\n",
       "            background-color:  #e8d6cc;\n",
       "            color:  #000000;\n",
       "        }    #T_ae773630_c1d8_11ea_8fe6_f430b9815768row1_col5 {\n",
       "            background-color:  #3b4cc0;\n",
       "            color:  #f1f1f1;\n",
       "        }    #T_ae773630_c1d8_11ea_8fe6_f430b9815768row1_col6 {\n",
       "            background-color:  #6c8ff1;\n",
       "            color:  #000000;\n",
       "        }    #T_ae773630_c1d8_11ea_8fe6_f430b9815768row1_col7 {\n",
       "            background-color:  #7093f3;\n",
       "            color:  #000000;\n",
       "        }    #T_ae773630_c1d8_11ea_8fe6_f430b9815768row1_col8 {\n",
       "            background-color:  #e6d7cf;\n",
       "            color:  #000000;\n",
       "        }    #T_ae773630_c1d8_11ea_8fe6_f430b9815768row1_col9 {\n",
       "            background-color:  #ead4c8;\n",
       "            color:  #000000;\n",
       "        }    #T_ae773630_c1d8_11ea_8fe6_f430b9815768row2_col0 {\n",
       "            background-color:  #b7cff9;\n",
       "            color:  #000000;\n",
       "        }    #T_ae773630_c1d8_11ea_8fe6_f430b9815768row2_col1 {\n",
       "            background-color:  #3b4cc0;\n",
       "            color:  #f1f1f1;\n",
       "        }    #T_ae773630_c1d8_11ea_8fe6_f430b9815768row2_col2 {\n",
       "            background-color:  #b40426;\n",
       "            color:  #f1f1f1;\n",
       "        }    #T_ae773630_c1d8_11ea_8fe6_f430b9815768row2_col3 {\n",
       "            background-color:  #96b7ff;\n",
       "            color:  #000000;\n",
       "        }    #T_ae773630_c1d8_11ea_8fe6_f430b9815768row2_col4 {\n",
       "            background-color:  #9fbfff;\n",
       "            color:  #000000;\n",
       "        }    #T_ae773630_c1d8_11ea_8fe6_f430b9815768row2_col5 {\n",
       "            background-color:  #eed0c0;\n",
       "            color:  #000000;\n",
       "        }    #T_ae773630_c1d8_11ea_8fe6_f430b9815768row2_col6 {\n",
       "            background-color:  #5a78e4;\n",
       "            color:  #000000;\n",
       "        }    #T_ae773630_c1d8_11ea_8fe6_f430b9815768row2_col7 {\n",
       "            background-color:  #5f7fe8;\n",
       "            color:  #000000;\n",
       "        }    #T_ae773630_c1d8_11ea_8fe6_f430b9815768row2_col8 {\n",
       "            background-color:  #6384eb;\n",
       "            color:  #000000;\n",
       "        }    #T_ae773630_c1d8_11ea_8fe6_f430b9815768row2_col9 {\n",
       "            background-color:  #89acfd;\n",
       "            color:  #000000;\n",
       "        }    #T_ae773630_c1d8_11ea_8fe6_f430b9815768row3_col0 {\n",
       "            background-color:  #c4d5f3;\n",
       "            color:  #000000;\n",
       "        }    #T_ae773630_c1d8_11ea_8fe6_f430b9815768row3_col1 {\n",
       "            background-color:  #efcebd;\n",
       "            color:  #000000;\n",
       "        }    #T_ae773630_c1d8_11ea_8fe6_f430b9815768row3_col2 {\n",
       "            background-color:  #aac7fd;\n",
       "            color:  #000000;\n",
       "        }    #T_ae773630_c1d8_11ea_8fe6_f430b9815768row3_col3 {\n",
       "            background-color:  #b40426;\n",
       "            color:  #f1f1f1;\n",
       "        }    #T_ae773630_c1d8_11ea_8fe6_f430b9815768row3_col4 {\n",
       "            background-color:  #edd1c2;\n",
       "            color:  #000000;\n",
       "        }    #T_ae773630_c1d8_11ea_8fe6_f430b9815768row3_col5 {\n",
       "            background-color:  #89acfd;\n",
       "            color:  #000000;\n",
       "        }    #T_ae773630_c1d8_11ea_8fe6_f430b9815768row3_col6 {\n",
       "            background-color:  #485fd1;\n",
       "            color:  #f1f1f1;\n",
       "        }    #T_ae773630_c1d8_11ea_8fe6_f430b9815768row3_col7 {\n",
       "            background-color:  #5977e3;\n",
       "            color:  #000000;\n",
       "        }    #T_ae773630_c1d8_11ea_8fe6_f430b9815768row3_col8 {\n",
       "            background-color:  #c9d7f0;\n",
       "            color:  #000000;\n",
       "        }    #T_ae773630_c1d8_11ea_8fe6_f430b9815768row3_col9 {\n",
       "            background-color:  #c5d6f2;\n",
       "            color:  #000000;\n",
       "        }    #T_ae773630_c1d8_11ea_8fe6_f430b9815768row4_col0 {\n",
       "            background-color:  #f18f71;\n",
       "            color:  #000000;\n",
       "        }    #T_ae773630_c1d8_11ea_8fe6_f430b9815768row4_col1 {\n",
       "            background-color:  #ebd3c6;\n",
       "            color:  #000000;\n",
       "        }    #T_ae773630_c1d8_11ea_8fe6_f430b9815768row4_col2 {\n",
       "            background-color:  #a9c6fd;\n",
       "            color:  #000000;\n",
       "        }    #T_ae773630_c1d8_11ea_8fe6_f430b9815768row4_col3 {\n",
       "            background-color:  #e9d5cb;\n",
       "            color:  #000000;\n",
       "        }    #T_ae773630_c1d8_11ea_8fe6_f430b9815768row4_col4 {\n",
       "            background-color:  #b40426;\n",
       "            color:  #f1f1f1;\n",
       "        }    #T_ae773630_c1d8_11ea_8fe6_f430b9815768row4_col5 {\n",
       "            background-color:  #92b4fe;\n",
       "            color:  #000000;\n",
       "        }    #T_ae773630_c1d8_11ea_8fe6_f430b9815768row4_col6 {\n",
       "            background-color:  #3b4cc0;\n",
       "            color:  #f1f1f1;\n",
       "        }    #T_ae773630_c1d8_11ea_8fe6_f430b9815768row4_col7 {\n",
       "            background-color:  #89acfd;\n",
       "            color:  #000000;\n",
       "        }    #T_ae773630_c1d8_11ea_8fe6_f430b9815768row4_col8 {\n",
       "            background-color:  #f7a688;\n",
       "            color:  #000000;\n",
       "        }    #T_ae773630_c1d8_11ea_8fe6_f430b9815768row4_col9 {\n",
       "            background-color:  #f7aa8c;\n",
       "            color:  #000000;\n",
       "        }    #T_ae773630_c1d8_11ea_8fe6_f430b9815768row5_col0 {\n",
       "            background-color:  #ccd9ed;\n",
       "            color:  #000000;\n",
       "        }    #T_ae773630_c1d8_11ea_8fe6_f430b9815768row5_col1 {\n",
       "            background-color:  #7597f6;\n",
       "            color:  #000000;\n",
       "        }    #T_ae773630_c1d8_11ea_8fe6_f430b9815768row5_col2 {\n",
       "            background-color:  #f6bda2;\n",
       "            color:  #000000;\n",
       "        }    #T_ae773630_c1d8_11ea_8fe6_f430b9815768row5_col3 {\n",
       "            background-color:  #a6c4fe;\n",
       "            color:  #000000;\n",
       "        }    #T_ae773630_c1d8_11ea_8fe6_f430b9815768row5_col4 {\n",
       "            background-color:  #b7cff9;\n",
       "            color:  #000000;\n",
       "        }    #T_ae773630_c1d8_11ea_8fe6_f430b9815768row5_col5 {\n",
       "            background-color:  #b40426;\n",
       "            color:  #f1f1f1;\n",
       "        }    #T_ae773630_c1d8_11ea_8fe6_f430b9815768row5_col6 {\n",
       "            background-color:  #9ebeff;\n",
       "            color:  #000000;\n",
       "        }    #T_ae773630_c1d8_11ea_8fe6_f430b9815768row5_col7 {\n",
       "            background-color:  #a1c0ff;\n",
       "            color:  #000000;\n",
       "        }    #T_ae773630_c1d8_11ea_8fe6_f430b9815768row5_col8 {\n",
       "            background-color:  #92b4fe;\n",
       "            color:  #000000;\n",
       "        }    #T_ae773630_c1d8_11ea_8fe6_f430b9815768row5_col9 {\n",
       "            background-color:  #aac7fd;\n",
       "            color:  #000000;\n",
       "        }    #T_ae773630_c1d8_11ea_8fe6_f430b9815768row6_col0 {\n",
       "            background-color:  #3b4cc0;\n",
       "            color:  #f1f1f1;\n",
       "        }    #T_ae773630_c1d8_11ea_8fe6_f430b9815768row6_col1 {\n",
       "            background-color:  #779af7;\n",
       "            color:  #000000;\n",
       "        }    #T_ae773630_c1d8_11ea_8fe6_f430b9815768row6_col2 {\n",
       "            background-color:  #6485ec;\n",
       "            color:  #000000;\n",
       "        }    #T_ae773630_c1d8_11ea_8fe6_f430b9815768row6_col3 {\n",
       "            background-color:  #3b4cc0;\n",
       "            color:  #f1f1f1;\n",
       "        }    #T_ae773630_c1d8_11ea_8fe6_f430b9815768row6_col4 {\n",
       "            background-color:  #3b4cc0;\n",
       "            color:  #f1f1f1;\n",
       "        }    #T_ae773630_c1d8_11ea_8fe6_f430b9815768row6_col5 {\n",
       "            background-color:  #7295f4;\n",
       "            color:  #000000;\n",
       "        }    #T_ae773630_c1d8_11ea_8fe6_f430b9815768row6_col6 {\n",
       "            background-color:  #b40426;\n",
       "            color:  #f1f1f1;\n",
       "        }    #T_ae773630_c1d8_11ea_8fe6_f430b9815768row6_col7 {\n",
       "            background-color:  #3b4cc0;\n",
       "            color:  #f1f1f1;\n",
       "        }    #T_ae773630_c1d8_11ea_8fe6_f430b9815768row6_col8 {\n",
       "            background-color:  #3b4cc0;\n",
       "            color:  #f1f1f1;\n",
       "        }    #T_ae773630_c1d8_11ea_8fe6_f430b9815768row6_col9 {\n",
       "            background-color:  #3b4cc0;\n",
       "            color:  #f1f1f1;\n",
       "        }    #T_ae773630_c1d8_11ea_8fe6_f430b9815768row7_col0 {\n",
       "            background-color:  #bad0f8;\n",
       "            color:  #000000;\n",
       "        }    #T_ae773630_c1d8_11ea_8fe6_f430b9815768row7_col1 {\n",
       "            background-color:  #aac7fd;\n",
       "            color:  #000000;\n",
       "        }    #T_ae773630_c1d8_11ea_8fe6_f430b9815768row7_col2 {\n",
       "            background-color:  #9dbdff;\n",
       "            color:  #000000;\n",
       "        }    #T_ae773630_c1d8_11ea_8fe6_f430b9815768row7_col3 {\n",
       "            background-color:  #80a3fa;\n",
       "            color:  #000000;\n",
       "        }    #T_ae773630_c1d8_11ea_8fe6_f430b9815768row7_col4 {\n",
       "            background-color:  #b6cefa;\n",
       "            color:  #000000;\n",
       "        }    #T_ae773630_c1d8_11ea_8fe6_f430b9815768row7_col5 {\n",
       "            background-color:  #a5c3fe;\n",
       "            color:  #000000;\n",
       "        }    #T_ae773630_c1d8_11ea_8fe6_f430b9815768row7_col6 {\n",
       "            background-color:  #6f92f3;\n",
       "            color:  #000000;\n",
       "        }    #T_ae773630_c1d8_11ea_8fe6_f430b9815768row7_col7 {\n",
       "            background-color:  #b40426;\n",
       "            color:  #f1f1f1;\n",
       "        }    #T_ae773630_c1d8_11ea_8fe6_f430b9815768row7_col8 {\n",
       "            background-color:  #afcafc;\n",
       "            color:  #000000;\n",
       "        }    #T_ae773630_c1d8_11ea_8fe6_f430b9815768row7_col9 {\n",
       "            background-color:  #b1cbfc;\n",
       "            color:  #000000;\n",
       "        }    #T_ae773630_c1d8_11ea_8fe6_f430b9815768row8_col0 {\n",
       "            background-color:  #f29072;\n",
       "            color:  #000000;\n",
       "        }    #T_ae773630_c1d8_11ea_8fe6_f430b9815768row8_col1 {\n",
       "            background-color:  #f1ccb8;\n",
       "            color:  #000000;\n",
       "        }    #T_ae773630_c1d8_11ea_8fe6_f430b9815768row8_col2 {\n",
       "            background-color:  #89acfd;\n",
       "            color:  #000000;\n",
       "        }    #T_ae773630_c1d8_11ea_8fe6_f430b9815768row8_col3 {\n",
       "            background-color:  #d1dae9;\n",
       "            color:  #000000;\n",
       "        }    #T_ae773630_c1d8_11ea_8fe6_f430b9815768row8_col4 {\n",
       "            background-color:  #f59c7d;\n",
       "            color:  #000000;\n",
       "        }    #T_ae773630_c1d8_11ea_8fe6_f430b9815768row8_col5 {\n",
       "            background-color:  #7ea1fa;\n",
       "            color:  #000000;\n",
       "        }    #T_ae773630_c1d8_11ea_8fe6_f430b9815768row8_col6 {\n",
       "            background-color:  #5673e0;\n",
       "            color:  #000000;\n",
       "        }    #T_ae773630_c1d8_11ea_8fe6_f430b9815768row8_col7 {\n",
       "            background-color:  #9bbcff;\n",
       "            color:  #000000;\n",
       "        }    #T_ae773630_c1d8_11ea_8fe6_f430b9815768row8_col8 {\n",
       "            background-color:  #b40426;\n",
       "            color:  #f1f1f1;\n",
       "        }    #T_ae773630_c1d8_11ea_8fe6_f430b9815768row8_col9 {\n",
       "            background-color:  #e9785d;\n",
       "            color:  #000000;\n",
       "        }    #T_ae773630_c1d8_11ea_8fe6_f430b9815768row9_col0 {\n",
       "            background-color:  #f18f71;\n",
       "            color:  #000000;\n",
       "        }    #T_ae773630_c1d8_11ea_8fe6_f430b9815768row9_col1 {\n",
       "            background-color:  #eed0c0;\n",
       "            color:  #000000;\n",
       "        }    #T_ae773630_c1d8_11ea_8fe6_f430b9815768row9_col2 {\n",
       "            background-color:  #94b6ff;\n",
       "            color:  #000000;\n",
       "        }    #T_ae773630_c1d8_11ea_8fe6_f430b9815768row9_col3 {\n",
       "            background-color:  #bed2f6;\n",
       "            color:  #000000;\n",
       "        }    #T_ae773630_c1d8_11ea_8fe6_f430b9815768row9_col4 {\n",
       "            background-color:  #f7aa8c;\n",
       "            color:  #000000;\n",
       "        }    #T_ae773630_c1d8_11ea_8fe6_f430b9815768row9_col5 {\n",
       "            background-color:  #82a6fb;\n",
       "            color:  #000000;\n",
       "        }    #T_ae773630_c1d8_11ea_8fe6_f430b9815768row9_col6 {\n",
       "            background-color:  #3c4ec2;\n",
       "            color:  #f1f1f1;\n",
       "        }    #T_ae773630_c1d8_11ea_8fe6_f430b9815768row9_col7 {\n",
       "            background-color:  #84a7fc;\n",
       "            color:  #000000;\n",
       "        }    #T_ae773630_c1d8_11ea_8fe6_f430b9815768row9_col8 {\n",
       "            background-color:  #ec7f63;\n",
       "            color:  #000000;\n",
       "        }    #T_ae773630_c1d8_11ea_8fe6_f430b9815768row9_col9 {\n",
       "            background-color:  #b40426;\n",
       "            color:  #f1f1f1;\n",
       "        }</style><table id=\"T_ae773630_c1d8_11ea_8fe6_f430b9815768\" ><thead>    <tr>        <th class=\"blank level0\" ></th>        <th class=\"col_heading level0 col0\" >Ladder</th>        <th class=\"col_heading level0 col1\" >SD of Ladder</th>        <th class=\"col_heading level0 col2\" >Positive affect</th>        <th class=\"col_heading level0 col3\" >Negative affect</th>        <th class=\"col_heading level0 col4\" >Social support</th>        <th class=\"col_heading level0 col5\" >Freedom</th>        <th class=\"col_heading level0 col6\" >Corruption</th>        <th class=\"col_heading level0 col7\" >Generosity</th>        <th class=\"col_heading level0 col8\" >Log of GDP\n",
       "per capita</th>        <th class=\"col_heading level0 col9\" >Healthy life\n",
       "expectancy</th>    </tr></thead><tbody>\n",
       "                <tr>\n",
       "                        <th id=\"T_ae773630_c1d8_11ea_8fe6_f430b9815768level0_row0\" class=\"row_heading level0 row0\" >Ladder</th>\n",
       "                        <td id=\"T_ae773630_c1d8_11ea_8fe6_f430b9815768row0_col0\" class=\"data row0 col0\" >1.00</td>\n",
       "                        <td id=\"T_ae773630_c1d8_11ea_8fe6_f430b9815768row0_col1\" class=\"data row0 col1\" >0.54</td>\n",
       "                        <td id=\"T_ae773630_c1d8_11ea_8fe6_f430b9815768row0_col2\" class=\"data row0 col2\" >0.49</td>\n",
       "                        <td id=\"T_ae773630_c1d8_11ea_8fe6_f430b9815768row0_col3\" class=\"data row0 col3\" >0.52</td>\n",
       "                        <td id=\"T_ae773630_c1d8_11ea_8fe6_f430b9815768row0_col4\" class=\"data row0 col4\" >0.82</td>\n",
       "                        <td id=\"T_ae773630_c1d8_11ea_8fe6_f430b9815768row0_col5\" class=\"data row0 col5\" >0.55</td>\n",
       "                        <td id=\"T_ae773630_c1d8_11ea_8fe6_f430b9815768row0_col6\" class=\"data row0 col6\" >0.19</td>\n",
       "                        <td id=\"T_ae773630_c1d8_11ea_8fe6_f430b9815768row0_col7\" class=\"data row0 col7\" >0.50</td>\n",
       "                        <td id=\"T_ae773630_c1d8_11ea_8fe6_f430b9815768row0_col8\" class=\"data row0 col8\" >0.81</td>\n",
       "                        <td id=\"T_ae773630_c1d8_11ea_8fe6_f430b9815768row0_col9\" class=\"data row0 col9\" >0.82</td>\n",
       "            </tr>\n",
       "            <tr>\n",
       "                        <th id=\"T_ae773630_c1d8_11ea_8fe6_f430b9815768level0_row1\" class=\"row_heading level0 row1\" >SD of Ladder</th>\n",
       "                        <td id=\"T_ae773630_c1d8_11ea_8fe6_f430b9815768row1_col0\" class=\"data row1 col0\" >0.54</td>\n",
       "                        <td id=\"T_ae773630_c1d8_11ea_8fe6_f430b9815768row1_col1\" class=\"data row1 col1\" >1.00</td>\n",
       "                        <td id=\"T_ae773630_c1d8_11ea_8fe6_f430b9815768row1_col2\" class=\"data row1 col2\" >0.09</td>\n",
       "                        <td id=\"T_ae773630_c1d8_11ea_8fe6_f430b9815768row1_col3\" class=\"data row1 col3\" >0.62</td>\n",
       "                        <td id=\"T_ae773630_c1d8_11ea_8fe6_f430b9815768row1_col4\" class=\"data row1 col4\" >0.60</td>\n",
       "                        <td id=\"T_ae773630_c1d8_11ea_8fe6_f430b9815768row1_col5\" class=\"data row1 col5\" >0.25</td>\n",
       "                        <td id=\"T_ae773630_c1d8_11ea_8fe6_f430b9815768row1_col6\" class=\"data row1 col6\" >0.26</td>\n",
       "                        <td id=\"T_ae773630_c1d8_11ea_8fe6_f430b9815768row1_col7\" class=\"data row1 col7\" >0.39</td>\n",
       "                        <td id=\"T_ae773630_c1d8_11ea_8fe6_f430b9815768row1_col8\" class=\"data row1 col8\" >0.63</td>\n",
       "                        <td id=\"T_ae773630_c1d8_11ea_8fe6_f430b9815768row1_col9\" class=\"data row1 col9\" >0.61</td>\n",
       "            </tr>\n",
       "            <tr>\n",
       "                        <th id=\"T_ae773630_c1d8_11ea_8fe6_f430b9815768level0_row2\" class=\"row_heading level0 row2\" >Positive affect</th>\n",
       "                        <td id=\"T_ae773630_c1d8_11ea_8fe6_f430b9815768row2_col0\" class=\"data row2 col0\" >0.49</td>\n",
       "                        <td id=\"T_ae773630_c1d8_11ea_8fe6_f430b9815768row2_col1\" class=\"data row2 col1\" >0.09</td>\n",
       "                        <td id=\"T_ae773630_c1d8_11ea_8fe6_f430b9815768row2_col2\" class=\"data row2 col2\" >1.00</td>\n",
       "                        <td id=\"T_ae773630_c1d8_11ea_8fe6_f430b9815768row2_col3\" class=\"data row2 col3\" >0.39</td>\n",
       "                        <td id=\"T_ae773630_c1d8_11ea_8fe6_f430b9815768row2_col4\" class=\"data row2 col4\" >0.39</td>\n",
       "                        <td id=\"T_ae773630_c1d8_11ea_8fe6_f430b9815768row2_col5\" class=\"data row2 col5\" >0.68</td>\n",
       "                        <td id=\"T_ae773630_c1d8_11ea_8fe6_f430b9815768row2_col6\" class=\"data row2 col6\" >0.21</td>\n",
       "                        <td id=\"T_ae773630_c1d8_11ea_8fe6_f430b9815768row2_col7\" class=\"data row2 col7\" >0.35</td>\n",
       "                        <td id=\"T_ae773630_c1d8_11ea_8fe6_f430b9815768row2_col8\" class=\"data row2 col8\" >0.30</td>\n",
       "                        <td id=\"T_ae773630_c1d8_11ea_8fe6_f430b9815768row2_col9\" class=\"data row2 col9\" >0.33</td>\n",
       "            </tr>\n",
       "            <tr>\n",
       "                        <th id=\"T_ae773630_c1d8_11ea_8fe6_f430b9815768level0_row3\" class=\"row_heading level0 row3\" >Negative affect</th>\n",
       "                        <td id=\"T_ae773630_c1d8_11ea_8fe6_f430b9815768row3_col0\" class=\"data row3 col0\" >0.52</td>\n",
       "                        <td id=\"T_ae773630_c1d8_11ea_8fe6_f430b9815768row3_col1\" class=\"data row3 col1\" >0.62</td>\n",
       "                        <td id=\"T_ae773630_c1d8_11ea_8fe6_f430b9815768row3_col2\" class=\"data row3 col2\" >0.39</td>\n",
       "                        <td id=\"T_ae773630_c1d8_11ea_8fe6_f430b9815768row3_col3\" class=\"data row3 col3\" >1.00</td>\n",
       "                        <td id=\"T_ae773630_c1d8_11ea_8fe6_f430b9815768row3_col4\" class=\"data row3 col4\" >0.62</td>\n",
       "                        <td id=\"T_ae773630_c1d8_11ea_8fe6_f430b9815768row3_col5\" class=\"data row3 col5\" >0.43</td>\n",
       "                        <td id=\"T_ae773630_c1d8_11ea_8fe6_f430b9815768row3_col6\" class=\"data row3 col6\" >0.16</td>\n",
       "                        <td id=\"T_ae773630_c1d8_11ea_8fe6_f430b9815768row3_col7\" class=\"data row3 col7\" >0.34</td>\n",
       "                        <td id=\"T_ae773630_c1d8_11ea_8fe6_f430b9815768row3_col8\" class=\"data row3 col8\" >0.54</td>\n",
       "                        <td id=\"T_ae773630_c1d8_11ea_8fe6_f430b9815768row3_col9\" class=\"data row3 col9\" >0.49</td>\n",
       "            </tr>\n",
       "            <tr>\n",
       "                        <th id=\"T_ae773630_c1d8_11ea_8fe6_f430b9815768level0_row4\" class=\"row_heading level0 row4\" >Social support</th>\n",
       "                        <td id=\"T_ae773630_c1d8_11ea_8fe6_f430b9815768row4_col0\" class=\"data row4 col0\" >0.82</td>\n",
       "                        <td id=\"T_ae773630_c1d8_11ea_8fe6_f430b9815768row4_col1\" class=\"data row4 col1\" >0.60</td>\n",
       "                        <td id=\"T_ae773630_c1d8_11ea_8fe6_f430b9815768row4_col2\" class=\"data row4 col2\" >0.39</td>\n",
       "                        <td id=\"T_ae773630_c1d8_11ea_8fe6_f430b9815768row4_col3\" class=\"data row4 col3\" >0.62</td>\n",
       "                        <td id=\"T_ae773630_c1d8_11ea_8fe6_f430b9815768row4_col4\" class=\"data row4 col4\" >1.00</td>\n",
       "                        <td id=\"T_ae773630_c1d8_11ea_8fe6_f430b9815768row4_col5\" class=\"data row4 col5\" >0.45</td>\n",
       "                        <td id=\"T_ae773630_c1d8_11ea_8fe6_f430b9815768row4_col6\" class=\"data row4 col6\" >0.12</td>\n",
       "                        <td id=\"T_ae773630_c1d8_11ea_8fe6_f430b9815768row4_col7\" class=\"data row4 col7\" >0.44</td>\n",
       "                        <td id=\"T_ae773630_c1d8_11ea_8fe6_f430b9815768row4_col8\" class=\"data row4 col8\" >0.77</td>\n",
       "                        <td id=\"T_ae773630_c1d8_11ea_8fe6_f430b9815768row4_col9\" class=\"data row4 col9\" >0.74</td>\n",
       "            </tr>\n",
       "            <tr>\n",
       "                        <th id=\"T_ae773630_c1d8_11ea_8fe6_f430b9815768level0_row5\" class=\"row_heading level0 row5\" >Freedom</th>\n",
       "                        <td id=\"T_ae773630_c1d8_11ea_8fe6_f430b9815768row5_col0\" class=\"data row5 col0\" >0.55</td>\n",
       "                        <td id=\"T_ae773630_c1d8_11ea_8fe6_f430b9815768row5_col1\" class=\"data row5 col1\" >0.25</td>\n",
       "                        <td id=\"T_ae773630_c1d8_11ea_8fe6_f430b9815768row5_col2\" class=\"data row5 col2\" >0.68</td>\n",
       "                        <td id=\"T_ae773630_c1d8_11ea_8fe6_f430b9815768row5_col3\" class=\"data row5 col3\" >0.43</td>\n",
       "                        <td id=\"T_ae773630_c1d8_11ea_8fe6_f430b9815768row5_col4\" class=\"data row5 col4\" >0.45</td>\n",
       "                        <td id=\"T_ae773630_c1d8_11ea_8fe6_f430b9815768row5_col5\" class=\"data row5 col5\" >1.00</td>\n",
       "                        <td id=\"T_ae773630_c1d8_11ea_8fe6_f430b9815768row5_col6\" class=\"data row5 col6\" >0.38</td>\n",
       "                        <td id=\"T_ae773630_c1d8_11ea_8fe6_f430b9815768row5_col7\" class=\"data row5 col7\" >0.49</td>\n",
       "                        <td id=\"T_ae773630_c1d8_11ea_8fe6_f430b9815768row5_col8\" class=\"data row5 col8\" >0.41</td>\n",
       "                        <td id=\"T_ae773630_c1d8_11ea_8fe6_f430b9815768row5_col9\" class=\"data row5 col9\" >0.42</td>\n",
       "            </tr>\n",
       "            <tr>\n",
       "                        <th id=\"T_ae773630_c1d8_11ea_8fe6_f430b9815768level0_row6\" class=\"row_heading level0 row6\" >Corruption</th>\n",
       "                        <td id=\"T_ae773630_c1d8_11ea_8fe6_f430b9815768row6_col0\" class=\"data row6 col0\" >0.19</td>\n",
       "                        <td id=\"T_ae773630_c1d8_11ea_8fe6_f430b9815768row6_col1\" class=\"data row6 col1\" >0.26</td>\n",
       "                        <td id=\"T_ae773630_c1d8_11ea_8fe6_f430b9815768row6_col2\" class=\"data row6 col2\" >0.21</td>\n",
       "                        <td id=\"T_ae773630_c1d8_11ea_8fe6_f430b9815768row6_col3\" class=\"data row6 col3\" >0.16</td>\n",
       "                        <td id=\"T_ae773630_c1d8_11ea_8fe6_f430b9815768row6_col4\" class=\"data row6 col4\" >0.12</td>\n",
       "                        <td id=\"T_ae773630_c1d8_11ea_8fe6_f430b9815768row6_col5\" class=\"data row6 col5\" >0.38</td>\n",
       "                        <td id=\"T_ae773630_c1d8_11ea_8fe6_f430b9815768row6_col6\" class=\"data row6 col6\" >1.00</td>\n",
       "                        <td id=\"T_ae773630_c1d8_11ea_8fe6_f430b9815768row6_col7\" class=\"data row6 col7\" >0.27</td>\n",
       "                        <td id=\"T_ae773630_c1d8_11ea_8fe6_f430b9815768row6_col8\" class=\"data row6 col8\" >0.20</td>\n",
       "                        <td id=\"T_ae773630_c1d8_11ea_8fe6_f430b9815768row6_col9\" class=\"data row6 col9\" >0.12</td>\n",
       "            </tr>\n",
       "            <tr>\n",
       "                        <th id=\"T_ae773630_c1d8_11ea_8fe6_f430b9815768level0_row7\" class=\"row_heading level0 row7\" >Generosity</th>\n",
       "                        <td id=\"T_ae773630_c1d8_11ea_8fe6_f430b9815768row7_col0\" class=\"data row7 col0\" >0.50</td>\n",
       "                        <td id=\"T_ae773630_c1d8_11ea_8fe6_f430b9815768row7_col1\" class=\"data row7 col1\" >0.39</td>\n",
       "                        <td id=\"T_ae773630_c1d8_11ea_8fe6_f430b9815768row7_col2\" class=\"data row7 col2\" >0.35</td>\n",
       "                        <td id=\"T_ae773630_c1d8_11ea_8fe6_f430b9815768row7_col3\" class=\"data row7 col3\" >0.34</td>\n",
       "                        <td id=\"T_ae773630_c1d8_11ea_8fe6_f430b9815768row7_col4\" class=\"data row7 col4\" >0.44</td>\n",
       "                        <td id=\"T_ae773630_c1d8_11ea_8fe6_f430b9815768row7_col5\" class=\"data row7 col5\" >0.49</td>\n",
       "                        <td id=\"T_ae773630_c1d8_11ea_8fe6_f430b9815768row7_col6\" class=\"data row7 col6\" >0.27</td>\n",
       "                        <td id=\"T_ae773630_c1d8_11ea_8fe6_f430b9815768row7_col7\" class=\"data row7 col7\" >1.00</td>\n",
       "                        <td id=\"T_ae773630_c1d8_11ea_8fe6_f430b9815768row7_col8\" class=\"data row7 col8\" >0.48</td>\n",
       "                        <td id=\"T_ae773630_c1d8_11ea_8fe6_f430b9815768row7_col9\" class=\"data row7 col9\" >0.43</td>\n",
       "            </tr>\n",
       "            <tr>\n",
       "                        <th id=\"T_ae773630_c1d8_11ea_8fe6_f430b9815768level0_row8\" class=\"row_heading level0 row8\" >Log of GDP\n",
       "per capita</th>\n",
       "                        <td id=\"T_ae773630_c1d8_11ea_8fe6_f430b9815768row8_col0\" class=\"data row8 col0\" >0.81</td>\n",
       "                        <td id=\"T_ae773630_c1d8_11ea_8fe6_f430b9815768row8_col1\" class=\"data row8 col1\" >0.63</td>\n",
       "                        <td id=\"T_ae773630_c1d8_11ea_8fe6_f430b9815768row8_col2\" class=\"data row8 col2\" >0.30</td>\n",
       "                        <td id=\"T_ae773630_c1d8_11ea_8fe6_f430b9815768row8_col3\" class=\"data row8 col3\" >0.54</td>\n",
       "                        <td id=\"T_ae773630_c1d8_11ea_8fe6_f430b9815768row8_col4\" class=\"data row8 col4\" >0.77</td>\n",
       "                        <td id=\"T_ae773630_c1d8_11ea_8fe6_f430b9815768row8_col5\" class=\"data row8 col5\" >0.41</td>\n",
       "                        <td id=\"T_ae773630_c1d8_11ea_8fe6_f430b9815768row8_col6\" class=\"data row8 col6\" >0.20</td>\n",
       "                        <td id=\"T_ae773630_c1d8_11ea_8fe6_f430b9815768row8_col7\" class=\"data row8 col7\" >0.48</td>\n",
       "                        <td id=\"T_ae773630_c1d8_11ea_8fe6_f430b9815768row8_col8\" class=\"data row8 col8\" >1.00</td>\n",
       "                        <td id=\"T_ae773630_c1d8_11ea_8fe6_f430b9815768row8_col9\" class=\"data row8 col9\" >0.85</td>\n",
       "            </tr>\n",
       "            <tr>\n",
       "                        <th id=\"T_ae773630_c1d8_11ea_8fe6_f430b9815768level0_row9\" class=\"row_heading level0 row9\" >Healthy life\n",
       "expectancy</th>\n",
       "                        <td id=\"T_ae773630_c1d8_11ea_8fe6_f430b9815768row9_col0\" class=\"data row9 col0\" >0.82</td>\n",
       "                        <td id=\"T_ae773630_c1d8_11ea_8fe6_f430b9815768row9_col1\" class=\"data row9 col1\" >0.61</td>\n",
       "                        <td id=\"T_ae773630_c1d8_11ea_8fe6_f430b9815768row9_col2\" class=\"data row9 col2\" >0.33</td>\n",
       "                        <td id=\"T_ae773630_c1d8_11ea_8fe6_f430b9815768row9_col3\" class=\"data row9 col3\" >0.49</td>\n",
       "                        <td id=\"T_ae773630_c1d8_11ea_8fe6_f430b9815768row9_col4\" class=\"data row9 col4\" >0.74</td>\n",
       "                        <td id=\"T_ae773630_c1d8_11ea_8fe6_f430b9815768row9_col5\" class=\"data row9 col5\" >0.42</td>\n",
       "                        <td id=\"T_ae773630_c1d8_11ea_8fe6_f430b9815768row9_col6\" class=\"data row9 col6\" >0.12</td>\n",
       "                        <td id=\"T_ae773630_c1d8_11ea_8fe6_f430b9815768row9_col7\" class=\"data row9 col7\" >0.43</td>\n",
       "                        <td id=\"T_ae773630_c1d8_11ea_8fe6_f430b9815768row9_col8\" class=\"data row9 col8\" >0.85</td>\n",
       "                        <td id=\"T_ae773630_c1d8_11ea_8fe6_f430b9815768row9_col9\" class=\"data row9 col9\" >1.00</td>\n",
       "            </tr>\n",
       "    </tbody></table>"
      ],
      "text/plain": [
       "<pandas.io.formats.style.Styler at 0x2319cbbda08>"
      ]
     },
     "execution_count": 4,
     "metadata": {},
     "output_type": "execute_result"
    }
   ],
   "source": [
    "# или еще вот так можно\n",
    "data.corr().style.background_gradient(cmap='coolwarm').set_precision(2)"
   ]
  },
  {
   "cell_type": "markdown",
   "metadata": {
    "colab_type": "text",
    "id": "bwPmjFqesXOC"
   },
   "source": [
    "# Дискретное распределение случайной величины"
   ]
  },
  {
   "cell_type": "markdown",
   "metadata": {
    "colab_type": "text",
    "id": "5xwVwFr_s11_"
   },
   "source": [
    "Напишите код для моделирования 10 подбрасываний игрального кубика. Начертите диаграму histogram. Какое это распределение?"
   ]
  },
  {
   "cell_type": "code",
   "execution_count": 16,
   "metadata": {
    "colab": {},
    "colab_type": "code",
    "id": "3EEu6ofKs0x7"
   },
   "outputs": [
    {
     "data": {
      "text/plain": [
       "[Text(0, 0.5, 'Частота (плотность)'),\n",
       " Text(0.5, 0, 'Биноминальное распределение')]"
      ]
     },
     "execution_count": 16,
     "metadata": {},
     "output_type": "execute_result"
    },
    {
     "data": {
      "image/png": "[encoded data removed]",
      "text/plain": [
       "<Figure size 432x288 with 1 Axes>"
      ]
     },
     "metadata": {
      "needs_background": "light"
     },
     "output_type": "display_data"
    }
   ],
   "source": [
    "data_binom = stats.binom.rvs(n=10,p=0.3, size=1000)\n",
    "\n",
    "ax = sns.distplot(data_binom,\n",
    "                  kde=False,\n",
    "                  color='blue')\n",
    "ax.set(xlabel='Биноминальное распределение', ylabel='Частота (плотность)')"
   ]
  },
  {
   "cell_type": "markdown",
   "metadata": {
    "colab_type": "text",
    "id": "irGnJ9bxtAor"
   },
   "source": [
    "Смоделируйте 1000 раз сумму по 100 подбрасываний. Начертите диаграму histogram. Почему график изменился? Почему можно применить центральную предельную теорему?"
   ]
  },
  {
   "cell_type": "code",
   "execution_count": 17,
   "metadata": {
    "colab": {},
    "colab_type": "code",
    "id": "v0It8sBStGcI"
   },
   "outputs": [
    {
     "data": {
      "image/png": "[encoded data removed]",
      "text/plain": [
       "<Figure size 432x288 with 1 Axes>"
      ]
     },
     "metadata": {
      "needs_background": "light"
     },
     "output_type": "display_data"
    }
   ],
   "source": [
    "data_binom = stats.binom.rvs(n=100, p=0.3, size=1000)\n",
    "\n",
    "number_of_sums = 1000\n",
    "X1 = np.zeros([number_of_sums])\n",
    "for i in range(number_of_sums):\n",
    "    X1[i] = np.sum(np.array(data_binom))/ len(data_binom)\n",
    "plt.hist(X1, 5)\n",
    "plt.xlabel('X values')\n",
    "plt.ylabel('Number of elements in each X')\n",
    "plt.show()\n"
   ]
  },
  {
   "cell_type": "markdown",
   "metadata": {},
   "source": [
    "Полагаю, что должно получиться распределение, стремящееся к нормальному, а не грустный одинокий столбик, да? \n",
    "Но тут я зашла в тупик."
   ]
  },
  {
   "cell_type": "code",
   "execution_count": null,
   "metadata": {},
   "outputs": [],
   "source": []
  }
 ],
 "metadata": {
  "colab": {
   "include_colab_link": true,
   "name": "dz_2.ipynb",
   "provenance": []
  },
  "kernelspec": {
   "display_name": "Python 3",
   "language": "python",
   "name": "python3"
  },
  "language_info": {
   "codemirror_mode": {
    "name": "ipython",
    "version": 3
   },
   "file_extension": ".py",
   "mimetype": "text/x-python",
   "name": "python",
   "nbconvert_exporter": "python",
   "pygments_lexer": "ipython3",
   "version": "3.7.6"
  }
 },
 "nbformat": 4,
 "nbformat_minor": 1
}
