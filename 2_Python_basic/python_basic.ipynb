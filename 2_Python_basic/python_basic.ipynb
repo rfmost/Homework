{
 "cells": [
  {
   "cell_type": "markdown",
   "metadata": {},
   "source": [
    "Задание 1. Даны 2 строки: long_phrase и short_phrase. Напишите код, который проверяет действительно ли длинная фраза long_phrase длиннее короткой short_phrase. И выводит True или False в зависимости от результата сравнения."
   ]
  },
  {
   "cell_type": "code",
   "execution_count": 14,
   "metadata": {},
   "outputs": [],
   "source": [
    "long_phrase = 'Насколько проще было бы писать программы, если бы не заказчики'\n",
    "short_phrase = '640Кб должно хватить для любых задач. Билл Гейтс (по легенде)'"
   ]
  },
  {
   "cell_type": "code",
   "execution_count": 15,
   "metadata": {},
   "outputs": [
    {
     "name": "stdout",
     "output_type": "stream",
     "text": [
      "True\n"
     ]
    }
   ],
   "source": [
    "if len(long_phrase) > len(short_phrase):\n",
    "    print('True')\n",
    "else:\n",
    "    print ('False')"
   ]
  },
  {
   "cell_type": "markdown",
   "metadata": {},
   "source": [
    "Задание 2. Дано значение объема файла в байтах (в мегабайте 2^20 байт). Напишите перевод этого значения в мегабайты в формате: \"Объем файла равен 213.68Mb\"."
   ]
  },
  {
   "cell_type": "code",
   "execution_count": 22,
   "metadata": {},
   "outputs": [
    {
     "name": "stdout",
     "output_type": "stream",
     "text": [
      "Введите значение объема файла в байтах 1048576\n",
      "Объем файла равен 1.0 Mb\n"
     ]
    }
   ],
   "source": [
    "input_value = int(input('Введите значение объема файла в байтах '))\n",
    "value = input_value / 2**20\n",
    "print('Объем файла равен', value,'Mb')"
   ]
  },
  {
   "cell_type": "markdown",
   "metadata": {},
   "source": [
    "Задание 3. Разработать приложение для определения знака зодиака по дате рождения. Пример:\n",
    "\n",
    "Введите месяц: март\n",
    "\n",
    "Введите число: 6\n",
    "\n",
    "Вывод: Рыбы"
   ]
  },
  {
   "cell_type": "code",
   "execution_count": 9,
   "metadata": {},
   "outputs": [
    {
     "name": "stdout",
     "output_type": "stream",
     "text": [
      "Введите месяц: май\n",
      "\n",
      "Введите число: 23\n",
      "\n",
      "Вывод: Близнецы\n"
     ]
    }
   ],
   "source": [
    "month = input('Введите месяц: ')\n",
    "print()\n",
    "date = int(input('Введите число: '))\n",
    "print()\n",
    "if (month == 'январь' or month =='Январь') and 1 <= date <= 22:\n",
    "    print('Вывод: Козерог')\n",
    "elif (month == 'январь' or month =='Январь') and 23 <= date <= 31:\n",
    "    print('Вывод: Водолей')\n",
    "elif (month == 'февраль' or month =='Февраль') and 1 <= date <= 22:\n",
    "    print('Вывод: Водолей')\n",
    "elif (month == 'февраль' or month =='Февраль') and 23 <= date <= 29:\n",
    "    print('Вывод: Рыбы')\n",
    "elif (month == 'март' or month =='Март') and 1 <= date <= 22:\n",
    "    print('Вывод: Рыбы')\n",
    "elif (month == 'март' or month =='Март') and 23 <= date <= 31:\n",
    "    print('Вывод: Овен')\n",
    "elif (month == 'апрель' or month =='Апрель') and 1 <= date <= 22:\n",
    "    print('Вывод: Овен')\n",
    "elif (month == 'апрель' or month =='Апрель') and 23 <= date <= 31:\n",
    "    print('Вывод: Телец')\n",
    "elif (month == 'май' or month =='Май') and 1 <= date <= 22:\n",
    "    print('Вывод: Телец')\n",
    "elif (month == 'май' or month =='Май') and 23 <= date <= 31:\n",
    "    print('Вывод: Близнецы')\n",
    "elif (month == 'июнь' or month =='Июнь') and 1 <= date <= 22:\n",
    "    print('Вывод: Близнецы')\n",
    "elif (month == 'июнь' or month =='Июнь') and 23 <= date <= 31:\n",
    "    print('Вывод: Рак')\n",
    "elif (month == 'июль' or month =='Июль') and 1 <= date <= 22:\n",
    "    print('Вывод: Рак')\n",
    "elif (month == 'июль' or month =='Июль') and 23 <= date <= 31:\n",
    "    print('Вывод: Лев')\n",
    "elif (month == 'август' or month =='Август') and 1 <= date <= 22:\n",
    "    print('Вывод: Лев')\n",
    "elif (month == 'август' or month =='Август') and 23 <= date <= 31:\n",
    "    print('Вывод: Дева')\n",
    "elif (month == 'сентябрь' or month =='Сентябрь') and 1 <= date <= 22:\n",
    "    print('Вывод: Дева')\n",
    "elif (month == 'сентябрь' or month =='Сентябрь') and 23 <= date <= 31:\n",
    "    print('Вывод: Весы')\n",
    "elif (month == 'октябрь' or month =='Октябрь') and 1 <= date <= 22:\n",
    "    print('Вывод: Весы')\n",
    "elif (month == 'октябрь' or month =='Октябрь') and 23 <= date <= 31:\n",
    "    print('Вывод: Скорпион')\n",
    "elif (month == 'ноябрь' or month =='Ноябрь') and 1 <= date <= 22:\n",
    "    print('Вывод: Скорпион')\n",
    "elif (month == 'ноябрь' or month =='Ноябрь') and 23 <= date <= 31:\n",
    "    print('Вывод: Стрелец')\n",
    "elif (month == 'декабрь' or month =='Декабрь') and 1 <= date <= 22:\n",
    "    print('Вывод: Стрелец')\n",
    "elif (month == 'декабрь' or month =='Декабрь') and 23 <= date <= 31:\n",
    "    print('Вывод: Козерог')\n",
    "else:\n",
    "    print('Некорректный ввод')\n"
   ]
  },
  {
   "cell_type": "markdown",
   "metadata": {},
   "source": [
    "Задание 4. Нужно разработать приложение для финансового планирования. Приложение учитывает сколько уходит на ипотеку, \"на жизнь\" и сколько нужно отложить на пенсию. Пользователь вводит:\n",
    "\n",
    "заработанную плату в месяц.\n",
    "сколько процентов от ЗП уходит на ипотеку.\n",
    "сколько процентов от ЗП уходит \"на жизнь\".\n",
    "сколько раз приходит премия в год.\n",
    "Остальная часть заработанной платы откладывается на пенсию.\n",
    "\n",
    "Также пользователю приходит премия в размере зарплаты, от которой половина уходит на отпуск, а вторая половина откладывается.\n",
    "\n",
    "Программа должна учитывать сколько премий было в год.\n",
    "\n",
    "Нужно вывести сколько денег тратит пользователь на ипотеку и сколько он накопит за год.\n",
    "\n",
    "Пример:\n",
    "\n",
    "Введите заработанную плату в месяц: 100000\n",
    "\n",
    "Введите сколько процентов уходит на ипотеку: 30\n",
    "\n",
    "Введите сколько процентов уходит на жизнь: 50\n",
    "\n",
    "Введите количество премий за год: 2\n",
    "\n",
    "Вывод: На ипотеку было потрачено: 360000 рублей Было накоплено: 340000 рублей"
   ]
  },
  {
   "cell_type": "code",
   "execution_count": 6,
   "metadata": {},
   "outputs": [
    {
     "name": "stdout",
     "output_type": "stream",
     "text": [
      "Введите заработную плату в месяц: 100000\n",
      "Введите, сколько процентов уходит на ипотеку: 30\n",
      "Введите, сколько процентов уходит на жизнь: 50\n",
      "Введите количество премий за год: 2\n",
      "На ипотеку было потрачено:  360000.0  рублей. Было накоплено:  340000.0 рублей\n"
     ]
    }
   ],
   "source": [
    "salary = int(input('Введите заработную плату в месяц: '))\n",
    "cost_of_hypothec_perc = int(input('Введите, сколько процентов уходит на ипотеку: '))\n",
    "cost_of_life_perc = int(input('Введите, сколько процентов уходит на жизнь: '))\n",
    "number_of_reward = int(input ('Введите количество премий за год: '))\n",
    "# cost_of_hypotec_rub = salary*(cost_of_hypotec_perc/100)\n",
    "# cost_of_life_rub = salary*(cost_of_life_perc/100)\n",
    "pension_accumulation_month = salary - salary * (cost_of_hypothec_perc + cost_of_life_perc) / 100\n",
    "accumulation_from_reward = salary * number_of_reward / 2\n",
    "cost_of_hypothec_total = salary * cost_of_hypothec_perc/100 * 12\n",
    "accumulation_total = accumulation_from_reward + pension_accumulation_month * 12\n",
    "print('На ипотеку было потрачено: ', cost_of_hypothec_total, ' рублей. Было накоплено: ', accumulation_total, 'рублей')"
   ]
  }
 ],
 "metadata": {
  "kernelspec": {
   "display_name": "Python 3",
   "language": "python",
   "name": "python3"
  },
  "language_info": {
   "codemirror_mode": {
    "name": "ipython",
    "version": 3
   },
   "file_extension": ".py",
   "mimetype": "text/x-python",
   "name": "python",
   "nbconvert_exporter": "python",
   "pygments_lexer": "ipython3",
   "version": "3.7.6"
  }
 },
 "nbformat": 4,
 "nbformat_minor": 4
}
