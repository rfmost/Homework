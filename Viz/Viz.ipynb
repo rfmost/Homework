{
 "cells": [
  {
   "cell_type": "markdown",
   "metadata": {},
   "source": [
    "Построить 5 графиков по выбранным данным.\n",
    "\n",
    "Графики должны быть различных видов и использовать хотя бы 2 из рассмотренных на занятии библиотек.\n",
    "\n",
    "Для каждого описать, какого типа переменные участвуют в визуализации, какова её цель (например, посмотреть на корреляцию двух величин или на распределение значений) и почему выбрали именно такой тип графика.\n"
   ]
  },
  {
   "cell_type": "code",
   "execution_count": 100,
   "metadata": {},
   "outputs": [],
   "source": [
    "import pandas as pd\n",
    "import matplotlib.pyplot as plt\n",
    "import seaborn as sns\n",
    "\n",
    "from pylab import rcParams\n",
    "rcParams['figure.figsize'] = 10,5\n",
    "\n"
   ]
  },
  {
   "cell_type": "code",
   "execution_count": 4,
   "metadata": {},
   "outputs": [],
   "source": [
    "def select_years (row):\n",
    "    if row.Time in range(1950, 2020):\n",
    "        return row"
   ]
  },
  {
   "cell_type": "code",
   "execution_count": 74,
   "metadata": {},
   "outputs": [
    {
     "data": {
      "text/html": [
       "<div>\n",
       "<style scoped>\n",
       "    .dataframe tbody tr th:only-of-type {\n",
       "        vertical-align: middle;\n",
       "    }\n",
       "\n",
       "    .dataframe tbody tr th {\n",
       "        vertical-align: top;\n",
       "    }\n",
       "\n",
       "    .dataframe thead th {\n",
       "        text-align: right;\n",
       "    }\n",
       "</style>\n",
       "<table border=\"1\" class=\"dataframe\">\n",
       "  <thead>\n",
       "    <tr style=\"text-align: right;\">\n",
       "      <th></th>\n",
       "      <th>Location</th>\n",
       "      <th>Time</th>\n",
       "      <th>PopMale</th>\n",
       "      <th>PopFemale</th>\n",
       "      <th>PopTotal</th>\n",
       "      <th>PopDensity</th>\n",
       "    </tr>\n",
       "  </thead>\n",
       "  <tbody>\n",
       "    <tr>\n",
       "      <th>0</th>\n",
       "      <td>Afghanistan</td>\n",
       "      <td>1950</td>\n",
       "      <td>4099.243</td>\n",
       "      <td>3652.874</td>\n",
       "      <td>7752.117</td>\n",
       "      <td>11.874</td>\n",
       "    </tr>\n",
       "    <tr>\n",
       "      <th>1</th>\n",
       "      <td>Afghanistan</td>\n",
       "      <td>1951</td>\n",
       "      <td>4134.756</td>\n",
       "      <td>3705.395</td>\n",
       "      <td>7840.151</td>\n",
       "      <td>12.009</td>\n",
       "    </tr>\n",
       "    <tr>\n",
       "      <th>2</th>\n",
       "      <td>Afghanistan</td>\n",
       "      <td>1952</td>\n",
       "      <td>4174.450</td>\n",
       "      <td>3761.546</td>\n",
       "      <td>7935.996</td>\n",
       "      <td>12.156</td>\n",
       "    </tr>\n",
       "    <tr>\n",
       "      <th>3</th>\n",
       "      <td>Afghanistan</td>\n",
       "      <td>1953</td>\n",
       "      <td>4218.336</td>\n",
       "      <td>3821.348</td>\n",
       "      <td>8039.684</td>\n",
       "      <td>12.315</td>\n",
       "    </tr>\n",
       "    <tr>\n",
       "      <th>4</th>\n",
       "      <td>Afghanistan</td>\n",
       "      <td>1954</td>\n",
       "      <td>4266.484</td>\n",
       "      <td>3884.832</td>\n",
       "      <td>8151.316</td>\n",
       "      <td>12.486</td>\n",
       "    </tr>\n",
       "    <tr>\n",
       "      <th>...</th>\n",
       "      <td>...</td>\n",
       "      <td>...</td>\n",
       "      <td>...</td>\n",
       "      <td>...</td>\n",
       "      <td>...</td>\n",
       "      <td>...</td>\n",
       "    </tr>\n",
       "    <tr>\n",
       "      <th>280927</th>\n",
       "      <td>Zimbabwe</td>\n",
       "      <td>2080</td>\n",
       "      <td>10576.533</td>\n",
       "      <td>11255.983</td>\n",
       "      <td>21836.893</td>\n",
       "      <td>56.448</td>\n",
       "    </tr>\n",
       "    <tr>\n",
       "      <th>280928</th>\n",
       "      <td>Zimbabwe</td>\n",
       "      <td>2085</td>\n",
       "      <td>10293.349</td>\n",
       "      <td>11050.875</td>\n",
       "      <td>21355.988</td>\n",
       "      <td>55.205</td>\n",
       "    </tr>\n",
       "    <tr>\n",
       "      <th>280929</th>\n",
       "      <td>Zimbabwe</td>\n",
       "      <td>2090</td>\n",
       "      <td>9920.336</td>\n",
       "      <td>10767.709</td>\n",
       "      <td>20689.956</td>\n",
       "      <td>53.483</td>\n",
       "    </tr>\n",
       "    <tr>\n",
       "      <th>280930</th>\n",
       "      <td>Zimbabwe</td>\n",
       "      <td>2095</td>\n",
       "      <td>9503.711</td>\n",
       "      <td>10412.184</td>\n",
       "      <td>19892.080</td>\n",
       "      <td>51.421</td>\n",
       "    </tr>\n",
       "    <tr>\n",
       "      <th>280931</th>\n",
       "      <td>Zimbabwe</td>\n",
       "      <td>2100</td>\n",
       "      <td>9090.075</td>\n",
       "      <td>9996.105</td>\n",
       "      <td>19061.177</td>\n",
       "      <td>49.273</td>\n",
       "    </tr>\n",
       "  </tbody>\n",
       "</table>\n",
       "<p>250876 rows × 6 columns</p>\n",
       "</div>"
      ],
      "text/plain": [
       "           Location  Time    PopMale  PopFemale   PopTotal  PopDensity\n",
       "0       Afghanistan  1950   4099.243   3652.874   7752.117      11.874\n",
       "1       Afghanistan  1951   4134.756   3705.395   7840.151      12.009\n",
       "2       Afghanistan  1952   4174.450   3761.546   7935.996      12.156\n",
       "3       Afghanistan  1953   4218.336   3821.348   8039.684      12.315\n",
       "4       Afghanistan  1954   4266.484   3884.832   8151.316      12.486\n",
       "...             ...   ...        ...        ...        ...         ...\n",
       "280927     Zimbabwe  2080  10576.533  11255.983  21836.893      56.448\n",
       "280928     Zimbabwe  2085  10293.349  11050.875  21355.988      55.205\n",
       "280929     Zimbabwe  2090   9920.336  10767.709  20689.956      53.483\n",
       "280930     Zimbabwe  2095   9503.711  10412.184  19892.080      51.421\n",
       "280931     Zimbabwe  2100   9090.075   9996.105  19061.177      49.273\n",
       "\n",
       "[250876 rows x 6 columns]"
      ]
     },
     "execution_count": 74,
     "metadata": {},
     "output_type": "execute_result"
    }
   ],
   "source": [
    "world_pop = pd.read_csv('Population/WPP2019_TotalPopulationBySex.csv')\n",
    "\"\"\"\n",
    "Total population by sex, annually from 1950 to 2100.\n",
    "PopMale: Total male population (thousands)\n",
    "PopFemale: Total female population (thousands)\n",
    "PopTotal: Total population, both sexes (thousands)\n",
    "PopDensity: Population per square kilometre (thousands)\n",
    "\n",
    "https://population.un.org/wpp/Download/Standard/CSV/\n",
    "\"\"\"\n",
    "world_population = world_pop.loc[:, ['Location', 'Time', 'PopMale', 'PopFemale', 'PopTotal', 'PopDensity']]\n",
    "world_population = world_population.dropna()\n",
    "world_population"
   ]
  },
  {
   "cell_type": "code",
   "execution_count": 96,
   "metadata": {},
   "outputs": [
    {
     "data": {
      "text/html": [
       "<div>\n",
       "<style scoped>\n",
       "    .dataframe tbody tr th:only-of-type {\n",
       "        vertical-align: middle;\n",
       "    }\n",
       "\n",
       "    .dataframe tbody tr th {\n",
       "        vertical-align: top;\n",
       "    }\n",
       "\n",
       "    .dataframe thead th {\n",
       "        text-align: right;\n",
       "    }\n",
       "</style>\n",
       "<table border=\"1\" class=\"dataframe\">\n",
       "  <thead>\n",
       "    <tr style=\"text-align: right;\">\n",
       "      <th></th>\n",
       "      <th>Location</th>\n",
       "      <th>Time</th>\n",
       "      <th>PopMale</th>\n",
       "      <th>PopFemale</th>\n",
       "      <th>PopTotal</th>\n",
       "      <th>PopDensity</th>\n",
       "    </tr>\n",
       "  </thead>\n",
       "  <tbody>\n",
       "    <tr>\n",
       "      <th>205572</th>\n",
       "      <td>Russian Federation</td>\n",
       "      <td>1950.0</td>\n",
       "      <td>44575.785</td>\n",
       "      <td>58222.864</td>\n",
       "      <td>102798.649</td>\n",
       "      <td>6.277</td>\n",
       "    </tr>\n",
       "    <tr>\n",
       "      <th>205573</th>\n",
       "      <td>Russian Federation</td>\n",
       "      <td>1951.0</td>\n",
       "      <td>45398.672</td>\n",
       "      <td>58906.026</td>\n",
       "      <td>104304.698</td>\n",
       "      <td>6.369</td>\n",
       "    </tr>\n",
       "    <tr>\n",
       "      <th>205574</th>\n",
       "      <td>Russian Federation</td>\n",
       "      <td>1952.0</td>\n",
       "      <td>46295.163</td>\n",
       "      <td>59671.924</td>\n",
       "      <td>105967.087</td>\n",
       "      <td>6.471</td>\n",
       "    </tr>\n",
       "    <tr>\n",
       "      <th>205575</th>\n",
       "      <td>Russian Federation</td>\n",
       "      <td>1953.0</td>\n",
       "      <td>47236.274</td>\n",
       "      <td>60491.036</td>\n",
       "      <td>107727.310</td>\n",
       "      <td>6.578</td>\n",
       "    </tr>\n",
       "    <tr>\n",
       "      <th>205576</th>\n",
       "      <td>Russian Federation</td>\n",
       "      <td>1954.0</td>\n",
       "      <td>48198.106</td>\n",
       "      <td>61338.398</td>\n",
       "      <td>109536.504</td>\n",
       "      <td>6.688</td>\n",
       "    </tr>\n",
       "  </tbody>\n",
       "</table>\n",
       "</div>"
      ],
      "text/plain": [
       "                  Location    Time    PopMale  PopFemale    PopTotal  \\\n",
       "205572  Russian Federation  1950.0  44575.785  58222.864  102798.649   \n",
       "205573  Russian Federation  1951.0  45398.672  58906.026  104304.698   \n",
       "205574  Russian Federation  1952.0  46295.163  59671.924  105967.087   \n",
       "205575  Russian Federation  1953.0  47236.274  60491.036  107727.310   \n",
       "205576  Russian Federation  1954.0  48198.106  61338.398  109536.504   \n",
       "\n",
       "        PopDensity  \n",
       "205572       6.277  \n",
       "205573       6.369  \n",
       "205574       6.471  \n",
       "205575       6.578  \n",
       "205576       6.688  "
      ]
     },
     "execution_count": 96,
     "metadata": {},
     "output_type": "execute_result"
    }
   ],
   "source": [
    "population_rus = world_population.\\\n",
    "    loc[world_population.Location == 'Russian Federation', ['Location', 'Time', 'PopMale', 'PopFemale', 'PopTotal', 'PopDensity']]\n",
    "\n",
    "population_rus_filtered = population_rus.apply(select_years, axis=1)\n",
    "\n",
    "\"\"\"\n",
    "Не понимаю, почему, если вывести таблицу population_rus, то в столбцах Time, AgeGrpStart, AgeGrpSpan \n",
    "целые числа, а после применения apply в этих же столбцах число с плавающей точкой (появляется Х.0)?\n",
    "\"\"\"\n",
    "\n",
    "population_rus_filtered.head()\n"
   ]
  },
  {
   "cell_type": "markdown",
   "metadata": {},
   "source": [
    "1. Цель: проследить, как изменялось население в РФ по годам (1950-2019)\n",
    "Используются числовые переменные и линейная диаграмма. "
   ]
  },
  {
   "cell_type": "code",
   "execution_count": 20,
   "metadata": {},
   "outputs": [
    {
     "data": {
      "text/plain": [
       "Text(1991, 149000, 'max')"
      ]
     },
     "execution_count": 20,
     "metadata": {},
     "output_type": "execute_result"
    },
    {
     "data": {
      "image/png": "[encoded data removed]",
      "text/plain": [
       "<Figure size 720x360 with 1 Axes>"
      ]
     },
     "metadata": {
      "needs_background": "light"
     },
     "output_type": "display_data"
    }
   ],
   "source": [
    "df = population_rus_filtered.groupby('Time').mean()\n",
    "df.PopTotal.plot(color='m', linewidth=3, rot = 45)\n",
    "plt.grid(True)\n",
    "plt.text(1991, 149000, 'max', color='m')"
   ]
  },
  {
   "cell_type": "markdown",
   "metadata": {},
   "source": [
    "Вывод: численность населения России постоянно росла до начала 90х годов, затем наблюдается убыль населения примерно до 2007 года. В последние 10 лет численность населения снова возрастает (к сожалению, в этой таблице нет ответа на вопрос, естественный ли это прирост или прирост за счет миграционных процессов). "
   ]
  },
  {
   "cell_type": "code",
   "execution_count": null,
   "metadata": {},
   "outputs": [],
   "source": []
  },
  {
   "cell_type": "markdown",
   "metadata": {},
   "source": [
    "2. Цель: проследить, как изменялось население в России в разрезе пола по годам (1950-2019) Используются числовые переменные и линейная диаграмма. "
   ]
  },
  {
   "cell_type": "code",
   "execution_count": 55,
   "metadata": {},
   "outputs": [
    {
     "data": {
      "text/plain": [
       "<matplotlib.legend.Legend at 0x26005749408>"
      ]
     },
     "execution_count": 55,
     "metadata": {},
     "output_type": "execute_result"
    },
    {
     "data": {
      "image/png": "[encoded data removed]",
      "text/plain": [
       "<Figure size 720x360 with 1 Axes>"
      ]
     },
     "metadata": {
      "needs_background": "light"
     },
     "output_type": "display_data"
    }
   ],
   "source": [
    "MF_rus = population_rus_filtered.groupby('Time').mean()[['PopMale', 'PopFemale']]\n",
    "plt.plot(MF_rus)\n",
    "plt.xlabel('Годы', fontsize = 12, color = 'grey')\n",
    "plt.ylabel('Численность населения, тыс.', fontsize = 12, color = 'grey')\n",
    "plt.title('Изменение численности населения в России в разрезе пола по годам (1950-2019)', fontsize = 15)\n",
    "plt.grid(True)\n",
    "plt.legend(['Mужчины', 'Женщины'])"
   ]
  },
  {
   "cell_type": "markdown",
   "metadata": {},
   "source": [
    "Вывод: в России численность женского населения стабильно превышает численность мужского населения (привет девушкам из Иваново :-) ) на протяжении всего периода 1950-2019гг."
   ]
  },
  {
   "cell_type": "markdown",
   "metadata": {},
   "source": [
    "3. Цель: сравнить численность населения в России в разрезе пола в 1950 году и в 2019. Столбчатая диаграмма."
   ]
  },
  {
   "cell_type": "code",
   "execution_count": 53,
   "metadata": {},
   "outputs": [
    {
     "data": {
      "text/plain": [
       "<matplotlib.axes._subplots.AxesSubplot at 0x26009f2c488>"
      ]
     },
     "execution_count": 53,
     "metadata": {},
     "output_type": "execute_result"
    },
    {
     "data": {
      "image/png": "[encoded data removed]",
      "text/plain": [
       "<Figure size 720x360 with 1 Axes>"
      ]
     },
     "metadata": {
      "needs_background": "light"
     },
     "output_type": "display_data"
    }
   ],
   "source": [
    "population_rus = population_rus_filtered.groupby('Time').mean()\n",
    "pop_rus = population_rus.loc[population_rus.index.isin([1950, 2019]), ['PopMale', 'PopFemale']]\n",
    "pop_rus.plot.bar(rot = 45, grid = True)\n"
   ]
  },
  {
   "cell_type": "markdown",
   "metadata": {},
   "source": [
    "Вывод: 1) численность как мужчин, так и женщин возросла, 2) количество женщин первышает количество мужчин в обоих случаях, 3) разрыв численности между мужчинами и женщинами сократился "
   ]
  },
  {
   "cell_type": "markdown",
   "metadata": {},
   "source": [
    "4. Цель: показать распределение численности населения некоторых стран по годам"
   ]
  },
  {
   "cell_type": "code",
   "execution_count": 107,
   "metadata": {},
   "outputs": [
    {
     "data": {
      "text/html": [
       "<div>\n",
       "<style scoped>\n",
       "    .dataframe tbody tr th:only-of-type {\n",
       "        vertical-align: middle;\n",
       "    }\n",
       "\n",
       "    .dataframe tbody tr th {\n",
       "        vertical-align: top;\n",
       "    }\n",
       "\n",
       "    .dataframe thead th {\n",
       "        text-align: right;\n",
       "    }\n",
       "</style>\n",
       "<table border=\"1\" class=\"dataframe\">\n",
       "  <thead>\n",
       "    <tr style=\"text-align: right;\">\n",
       "      <th></th>\n",
       "      <th>Location</th>\n",
       "      <th>Time</th>\n",
       "      <th>PopMale</th>\n",
       "      <th>PopFemale</th>\n",
       "      <th>PopTotal</th>\n",
       "      <th>PopDensity</th>\n",
       "    </tr>\n",
       "  </thead>\n",
       "  <tbody>\n",
       "    <tr>\n",
       "      <th>30726</th>\n",
       "      <td>Brazil</td>\n",
       "      <td>1950.0</td>\n",
       "      <td>26775.992</td>\n",
       "      <td>27198.736</td>\n",
       "      <td>53974.728</td>\n",
       "      <td>6.458</td>\n",
       "    </tr>\n",
       "    <tr>\n",
       "      <th>30727</th>\n",
       "      <td>Brazil</td>\n",
       "      <td>1951.0</td>\n",
       "      <td>27594.666</td>\n",
       "      <td>28011.747</td>\n",
       "      <td>55606.413</td>\n",
       "      <td>6.653</td>\n",
       "    </tr>\n",
       "    <tr>\n",
       "      <th>30728</th>\n",
       "      <td>Brazil</td>\n",
       "      <td>1952.0</td>\n",
       "      <td>28437.736</td>\n",
       "      <td>28845.922</td>\n",
       "      <td>57283.658</td>\n",
       "      <td>6.854</td>\n",
       "    </tr>\n",
       "    <tr>\n",
       "      <th>30729</th>\n",
       "      <td>Brazil</td>\n",
       "      <td>1953.0</td>\n",
       "      <td>29301.180</td>\n",
       "      <td>29698.096</td>\n",
       "      <td>58999.276</td>\n",
       "      <td>7.059</td>\n",
       "    </tr>\n",
       "    <tr>\n",
       "      <th>30730</th>\n",
       "      <td>Brazil</td>\n",
       "      <td>1954.0</td>\n",
       "      <td>30182.716</td>\n",
       "      <td>30566.774</td>\n",
       "      <td>60749.490</td>\n",
       "      <td>7.268</td>\n",
       "    </tr>\n",
       "    <tr>\n",
       "      <th>...</th>\n",
       "      <td>...</td>\n",
       "      <td>...</td>\n",
       "      <td>...</td>\n",
       "      <td>...</td>\n",
       "      <td>...</td>\n",
       "      <td>...</td>\n",
       "    </tr>\n",
       "    <tr>\n",
       "      <th>264286</th>\n",
       "      <td>United States of America</td>\n",
       "      <td>2015.0</td>\n",
       "      <td>158712.121</td>\n",
       "      <td>162166.191</td>\n",
       "      <td>320878.312</td>\n",
       "      <td>35.079</td>\n",
       "    </tr>\n",
       "    <tr>\n",
       "      <th>264287</th>\n",
       "      <td>United States of America</td>\n",
       "      <td>2016.0</td>\n",
       "      <td>159798.231</td>\n",
       "      <td>163217.761</td>\n",
       "      <td>323015.992</td>\n",
       "      <td>35.312</td>\n",
       "    </tr>\n",
       "    <tr>\n",
       "      <th>264288</th>\n",
       "      <td>United States of America</td>\n",
       "      <td>2017.0</td>\n",
       "      <td>160840.943</td>\n",
       "      <td>164243.815</td>\n",
       "      <td>325084.758</td>\n",
       "      <td>35.538</td>\n",
       "    </tr>\n",
       "    <tr>\n",
       "      <th>264289</th>\n",
       "      <td>United States of America</td>\n",
       "      <td>2018.0</td>\n",
       "      <td>161847.183</td>\n",
       "      <td>165249.080</td>\n",
       "      <td>327096.263</td>\n",
       "      <td>35.758</td>\n",
       "    </tr>\n",
       "    <tr>\n",
       "      <th>264290</th>\n",
       "      <td>United States of America</td>\n",
       "      <td>2019.0</td>\n",
       "      <td>162826.299</td>\n",
       "      <td>166238.618</td>\n",
       "      <td>329064.917</td>\n",
       "      <td>35.974</td>\n",
       "    </tr>\n",
       "  </tbody>\n",
       "</table>\n",
       "<p>350 rows × 6 columns</p>\n",
       "</div>"
      ],
      "text/plain": [
       "                        Location    Time     PopMale   PopFemale    PopTotal  \\\n",
       "30726                     Brazil  1950.0   26775.992   27198.736   53974.728   \n",
       "30727                     Brazil  1951.0   27594.666   28011.747   55606.413   \n",
       "30728                     Brazil  1952.0   28437.736   28845.922   57283.658   \n",
       "30729                     Brazil  1953.0   29301.180   29698.096   58999.276   \n",
       "30730                     Brazil  1954.0   30182.716   30566.774   60749.490   \n",
       "...                          ...     ...         ...         ...         ...   \n",
       "264286  United States of America  2015.0  158712.121  162166.191  320878.312   \n",
       "264287  United States of America  2016.0  159798.231  163217.761  323015.992   \n",
       "264288  United States of America  2017.0  160840.943  164243.815  325084.758   \n",
       "264289  United States of America  2018.0  161847.183  165249.080  327096.263   \n",
       "264290  United States of America  2019.0  162826.299  166238.618  329064.917   \n",
       "\n",
       "        PopDensity  \n",
       "30726        6.458  \n",
       "30727        6.653  \n",
       "30728        6.854  \n",
       "30729        7.059  \n",
       "30730        7.268  \n",
       "...            ...  \n",
       "264286      35.079  \n",
       "264287      35.312  \n",
       "264288      35.538  \n",
       "264289      35.758  \n",
       "264290      35.974  \n",
       "\n",
       "[350 rows x 6 columns]"
      ]
     },
     "execution_count": 107,
     "metadata": {},
     "output_type": "execute_result"
    }
   ],
   "source": [
    "world_population_filtered = world_population.apply(select_years, axis=1)\n",
    "\n",
    "wp = world_population_filtered.loc[(world_population_filtered.Location.isin(['Russian Federation', 'India', 'China', 'Brazil', 'United States of America']))]\n",
    "wp = wp.dropna()\n",
    "wp"
   ]
  },
  {
   "cell_type": "code",
   "execution_count": 102,
   "metadata": {},
   "outputs": [
    {
     "data": {
      "text/html": [
       "<div>\n",
       "<style scoped>\n",
       "    .dataframe tbody tr th:only-of-type {\n",
       "        vertical-align: middle;\n",
       "    }\n",
       "\n",
       "    .dataframe tbody tr th {\n",
       "        vertical-align: top;\n",
       "    }\n",
       "\n",
       "    .dataframe thead th {\n",
       "        text-align: right;\n",
       "    }\n",
       "</style>\n",
       "<table border=\"1\" class=\"dataframe\">\n",
       "  <thead>\n",
       "    <tr style=\"text-align: right;\">\n",
       "      <th>Time</th>\n",
       "      <th>1950.0</th>\n",
       "      <th>1951.0</th>\n",
       "      <th>1952.0</th>\n",
       "      <th>1953.0</th>\n",
       "      <th>1954.0</th>\n",
       "      <th>1955.0</th>\n",
       "      <th>1956.0</th>\n",
       "      <th>1957.0</th>\n",
       "      <th>1958.0</th>\n",
       "      <th>1959.0</th>\n",
       "      <th>...</th>\n",
       "      <th>2010.0</th>\n",
       "      <th>2011.0</th>\n",
       "      <th>2012.0</th>\n",
       "      <th>2013.0</th>\n",
       "      <th>2014.0</th>\n",
       "      <th>2015.0</th>\n",
       "      <th>2016.0</th>\n",
       "      <th>2017.0</th>\n",
       "      <th>2018.0</th>\n",
       "      <th>2019.0</th>\n",
       "    </tr>\n",
       "    <tr>\n",
       "      <th>Location</th>\n",
       "      <th></th>\n",
       "      <th></th>\n",
       "      <th></th>\n",
       "      <th></th>\n",
       "      <th></th>\n",
       "      <th></th>\n",
       "      <th></th>\n",
       "      <th></th>\n",
       "      <th></th>\n",
       "      <th></th>\n",
       "      <th></th>\n",
       "      <th></th>\n",
       "      <th></th>\n",
       "      <th></th>\n",
       "      <th></th>\n",
       "      <th></th>\n",
       "      <th></th>\n",
       "      <th></th>\n",
       "      <th></th>\n",
       "      <th></th>\n",
       "      <th></th>\n",
       "    </tr>\n",
       "  </thead>\n",
       "  <tbody>\n",
       "    <tr>\n",
       "      <th>Brazil</th>\n",
       "      <td>53974.728</td>\n",
       "      <td>55606.413</td>\n",
       "      <td>57283.658</td>\n",
       "      <td>58999.276</td>\n",
       "      <td>60749.490</td>\n",
       "      <td>62533.920</td>\n",
       "      <td>64355.709</td>\n",
       "      <td>66221.469</td>\n",
       "      <td>68140.426</td>\n",
       "      <td>70123.372</td>\n",
       "      <td>...</td>\n",
       "      <td>195713.637</td>\n",
       "      <td>197514.541</td>\n",
       "      <td>199287.292</td>\n",
       "      <td>201035.904</td>\n",
       "      <td>202763.744</td>\n",
       "      <td>204471.759</td>\n",
       "      <td>206163.056</td>\n",
       "      <td>207833.825</td>\n",
       "      <td>209469.320</td>\n",
       "      <td>211049.519</td>\n",
       "    </tr>\n",
       "    <tr>\n",
       "      <th>China</th>\n",
       "      <td>554419.269</td>\n",
       "      <td>569909.108</td>\n",
       "      <td>582576.497</td>\n",
       "      <td>593365.882</td>\n",
       "      <td>603052.316</td>\n",
       "      <td>612241.552</td>\n",
       "      <td>621363.233</td>\n",
       "      <td>630677.648</td>\n",
       "      <td>640295.777</td>\n",
       "      <td>650212.731</td>\n",
       "      <td>...</td>\n",
       "      <td>1368810.604</td>\n",
       "      <td>1376497.633</td>\n",
       "      <td>1384206.408</td>\n",
       "      <td>1391883.335</td>\n",
       "      <td>1399453.966</td>\n",
       "      <td>1406847.868</td>\n",
       "      <td>1414049.353</td>\n",
       "      <td>1421021.794</td>\n",
       "      <td>1427647.789</td>\n",
       "      <td>1433783.692</td>\n",
       "    </tr>\n",
       "    <tr>\n",
       "      <th>India</th>\n",
       "      <td>376325.200</td>\n",
       "      <td>382376.945</td>\n",
       "      <td>388799.076</td>\n",
       "      <td>395544.365</td>\n",
       "      <td>402578.594</td>\n",
       "      <td>409880.606</td>\n",
       "      <td>417442.811</td>\n",
       "      <td>425270.709</td>\n",
       "      <td>433380.978</td>\n",
       "      <td>441798.571</td>\n",
       "      <td>...</td>\n",
       "      <td>1234281.163</td>\n",
       "      <td>1250287.939</td>\n",
       "      <td>1265780.243</td>\n",
       "      <td>1280842.119</td>\n",
       "      <td>1295600.768</td>\n",
       "      <td>1310152.392</td>\n",
       "      <td>1324517.250</td>\n",
       "      <td>1338676.779</td>\n",
       "      <td>1352642.283</td>\n",
       "      <td>1366417.756</td>\n",
       "    </tr>\n",
       "    <tr>\n",
       "      <th>Russian Federation</th>\n",
       "      <td>102798.649</td>\n",
       "      <td>104304.698</td>\n",
       "      <td>105967.087</td>\n",
       "      <td>107727.310</td>\n",
       "      <td>109536.504</td>\n",
       "      <td>111355.301</td>\n",
       "      <td>113154.332</td>\n",
       "      <td>114913.780</td>\n",
       "      <td>116622.392</td>\n",
       "      <td>118275.873</td>\n",
       "      <td>...</td>\n",
       "      <td>143479.273</td>\n",
       "      <td>143703.027</td>\n",
       "      <td>143993.888</td>\n",
       "      <td>144325.456</td>\n",
       "      <td>144664.837</td>\n",
       "      <td>144985.059</td>\n",
       "      <td>145275.374</td>\n",
       "      <td>145530.091</td>\n",
       "      <td>145734.034</td>\n",
       "      <td>145872.260</td>\n",
       "    </tr>\n",
       "    <tr>\n",
       "      <th>United States of America</th>\n",
       "      <td>158804.397</td>\n",
       "      <td>160872.264</td>\n",
       "      <td>163266.026</td>\n",
       "      <td>165909.996</td>\n",
       "      <td>168736.390</td>\n",
       "      <td>171685.337</td>\n",
       "      <td>174705.006</td>\n",
       "      <td>177751.477</td>\n",
       "      <td>180788.387</td>\n",
       "      <td>183786.249</td>\n",
       "      <td>...</td>\n",
       "      <td>309011.469</td>\n",
       "      <td>311584.051</td>\n",
       "      <td>314043.885</td>\n",
       "      <td>316400.539</td>\n",
       "      <td>318673.422</td>\n",
       "      <td>320878.312</td>\n",
       "      <td>323015.992</td>\n",
       "      <td>325084.758</td>\n",
       "      <td>327096.263</td>\n",
       "      <td>329064.917</td>\n",
       "    </tr>\n",
       "  </tbody>\n",
       "</table>\n",
       "<p>5 rows × 70 columns</p>\n",
       "</div>"
      ],
      "text/plain": [
       "Time                          1950.0      1951.0      1952.0      1953.0  \\\n",
       "Location                                                                   \n",
       "Brazil                     53974.728   55606.413   57283.658   58999.276   \n",
       "China                     554419.269  569909.108  582576.497  593365.882   \n",
       "India                     376325.200  382376.945  388799.076  395544.365   \n",
       "Russian Federation        102798.649  104304.698  105967.087  107727.310   \n",
       "United States of America  158804.397  160872.264  163266.026  165909.996   \n",
       "\n",
       "Time                          1954.0      1955.0      1956.0      1957.0  \\\n",
       "Location                                                                   \n",
       "Brazil                     60749.490   62533.920   64355.709   66221.469   \n",
       "China                     603052.316  612241.552  621363.233  630677.648   \n",
       "India                     402578.594  409880.606  417442.811  425270.709   \n",
       "Russian Federation        109536.504  111355.301  113154.332  114913.780   \n",
       "United States of America  168736.390  171685.337  174705.006  177751.477   \n",
       "\n",
       "Time                          1958.0      1959.0  ...       2010.0  \\\n",
       "Location                                          ...                \n",
       "Brazil                     68140.426   70123.372  ...   195713.637   \n",
       "China                     640295.777  650212.731  ...  1368810.604   \n",
       "India                     433380.978  441798.571  ...  1234281.163   \n",
       "Russian Federation        116622.392  118275.873  ...   143479.273   \n",
       "United States of America  180788.387  183786.249  ...   309011.469   \n",
       "\n",
       "Time                           2011.0       2012.0       2013.0       2014.0  \\\n",
       "Location                                                                       \n",
       "Brazil                     197514.541   199287.292   201035.904   202763.744   \n",
       "China                     1376497.633  1384206.408  1391883.335  1399453.966   \n",
       "India                     1250287.939  1265780.243  1280842.119  1295600.768   \n",
       "Russian Federation         143703.027   143993.888   144325.456   144664.837   \n",
       "United States of America   311584.051   314043.885   316400.539   318673.422   \n",
       "\n",
       "Time                           2015.0       2016.0       2017.0       2018.0  \\\n",
       "Location                                                                       \n",
       "Brazil                     204471.759   206163.056   207833.825   209469.320   \n",
       "China                     1406847.868  1414049.353  1421021.794  1427647.789   \n",
       "India                     1310152.392  1324517.250  1338676.779  1352642.283   \n",
       "Russian Federation         144985.059   145275.374   145530.091   145734.034   \n",
       "United States of America   320878.312   323015.992   325084.758   327096.263   \n",
       "\n",
       "Time                           2019.0  \n",
       "Location                               \n",
       "Brazil                     211049.519  \n",
       "China                     1433783.692  \n",
       "India                     1366417.756  \n",
       "Russian Federation         145872.260  \n",
       "United States of America   329064.917  \n",
       "\n",
       "[5 rows x 70 columns]"
      ]
     },
     "execution_count": 102,
     "metadata": {},
     "output_type": "execute_result"
    }
   ],
   "source": [
    "df = wp.pivot_table(\n",
    "                    index='Location', \n",
    "                    columns='Time', \n",
    "                    values='PopTotal', \n",
    "                    aggfunc='mean')\n",
    "df"
   ]
  },
  {
   "cell_type": "code",
   "execution_count": 103,
   "metadata": {},
   "outputs": [
    {
     "data": {
      "image/png": "[encoded data removed]",
      "text/plain": [
       "<Figure size 720x360 with 2 Axes>"
      ]
     },
     "metadata": {
      "needs_background": "light"
     },
     "output_type": "display_data"
    }
   ],
   "source": [
    "ax = sns.heatmap(df)"
   ]
  },
  {
   "cell_type": "markdown",
   "metadata": {},
   "source": [
    "Вывод: численность населения Китая и Индии превышает численность населения РФ, США и Бразилии. Численность населения Китая и Индии значительно выросла в течение указанного временного периода."
   ]
  },
  {
   "cell_type": "markdown",
   "metadata": {},
   "source": [
    "5. Цель: посмотреть взамосязь численности населения для указанных стран в указанный период времени"
   ]
  },
  {
   "cell_type": "code",
   "execution_count": 111,
   "metadata": {},
   "outputs": [
    {
     "data": {
      "text/plain": [
       "<seaborn.axisgrid.PairGrid at 0x2600da74508>"
      ]
     },
     "execution_count": 111,
     "metadata": {},
     "output_type": "execute_result"
    },
    {
     "data": {
      "image/png": "[encoded data removed]",
      "text/plain": [
       "<Figure size 360x360 with 6 Axes>"
      ]
     },
     "metadata": {
      "needs_background": "light"
     },
     "output_type": "display_data"
    }
   ],
   "source": [
    "sns_plot = sns.pairplot(\n",
    "    wp[['Time', 'PopTotal', 'Location']])\n",
    "sns_plot"
   ]
  },
  {
   "cell_type": "code",
   "execution_count": null,
   "metadata": {},
   "outputs": [],
   "source": []
  }
 ],
 "metadata": {
  "kernelspec": {
   "display_name": "Python 3",
   "language": "python",
   "name": "python3"
  },
  "language_info": {
   "codemirror_mode": {
    "name": "ipython",
    "version": 3
   },
   "file_extension": ".py",
   "mimetype": "text/x-python",
   "name": "python",
   "nbconvert_exporter": "python",
   "pygments_lexer": "ipython3",
   "version": "3.7.6"
  }
 },
 "nbformat": 4,
 "nbformat_minor": 4
}
